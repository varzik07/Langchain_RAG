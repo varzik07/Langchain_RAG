{
 "cells": [
  {
   "cell_type": "markdown",
   "id": "291e6953-8b59-4f25-92d9-a2732285d679",
   "metadata": {},
   "source": [
    "## Building a RAG System with LangChain and Chroma DB\n",
    "Introduction\n",
    "\n",
    "Retrieval-Augmented Generation (RAG) is a powerful technique that combines the capabilities of lange language models with external knowledge retrieval.  \n",
    "This notebook will walk you through building a complete  RAG system using\n",
    "\n",
    "- LangChain: A framework for developing applications  powered by language models\n",
    "- ChromaDB: An open-source vector database for storing and retrieving embeddings\n",
    "- Open AI: For Embeddings and language model "
   ]
  },
  {
   "cell_type": "code",
   "execution_count": 1,
   "id": "a92b6cc5-0698-4df5-8175-94c3f32e5297",
   "metadata": {},
   "outputs": [
    {
     "data": {
      "text/plain": [
       "True"
      ]
     },
     "execution_count": 1,
     "metadata": {},
     "output_type": "execute_result"
    }
   ],
   "source": [
    "import os\n",
    "from dotenv import load_dotenv\n",
    "load_dotenv()"
   ]
  },
  {
   "cell_type": "code",
   "execution_count": 2,
   "id": "36ccef99-01fc-48ff-b73d-98d600ecc8a4",
   "metadata": {},
   "outputs": [
    {
     "name": "stderr",
     "output_type": "stream",
     "text": [
      "/data/oybek/PKD/xudamadarsam/mashq/.venv/lib/python3.13/site-packages/tqdm/auto.py:21: TqdmWarning: IProgress not found. Please update jupyter and ipywidgets. See https://ipywidgets.readthedocs.io/en/stable/user_install.html\n",
      "  from .autonotebook import tqdm as notebook_tqdm\n"
     ]
    }
   ],
   "source": [
    "## langchain imports\n",
    "from langchain.text_splitter import RecursiveCharacterTextSplitter\n",
    "from langchain_community.document_loaders import TextLoader\n",
    "from langchain_openai import OpenAIEmbeddings\n",
    "from langchain.schema import Document\n",
    "from langchain_community.vectorstores import Chroma\n",
    "import numpy as np\n",
    "from typing import List"
   ]
  },
  {
   "cell_type": "code",
   "execution_count": 3,
   "id": "b554c6bd-4ba4-457f-ab20-022d916069f2",
   "metadata": {},
   "outputs": [
    {
     "name": "stdout",
     "output_type": "stream",
     "text": [
      "\n",
      "RAG (Retrieval-Augmented Generation) Architecture:\n",
      "\n",
      "1. Document Loading: Load documents from various sources\n",
      "2. Document Splitting: Break documents into smaller chunks\n",
      "3. Embedding Generation: Convert chunks into vector representations\n",
      "4. Vector Storage: Store embeddings in ChromaDB\n",
      "5. Query Processing: Convert user query to embedding\n",
      "6. Similarity Search: Find relevant chunks from vector store\n",
      "7. Context Augmentation: Combine retrieved chunks with query\n",
      "8. Response Generation: LLM generates answer using context\n",
      "\n",
      "Benefits of RAG:\n",
      "- Reduces hallucinations\n",
      "- Provides up-to-date information\n",
      "- Allows citing sources\n",
      "- Works with domain-specific knowledge\n",
      "\n"
     ]
    }
   ],
   "source": [
    "# RAG Architecture overview\n",
    "print(\"\"\"\n",
    "RAG (Retrieval-Augmented Generation) Architecture:\n",
    "\n",
    "1. Document Loading: Load documents from various sources\n",
    "2. Document Splitting: Break documents into smaller chunks\n",
    "3. Embedding Generation: Convert chunks into vector representations\n",
    "4. Vector Storage: Store embeddings in ChromaDB\n",
    "5. Query Processing: Convert user query to embedding\n",
    "6. Similarity Search: Find relevant chunks from vector store\n",
    "7. Context Augmentation: Combine retrieved chunks with query\n",
    "8. Response Generation: LLM generates answer using context\n",
    "\n",
    "Benefits of RAG:\n",
    "- Reduces hallucinations\n",
    "- Provides up-to-date information\n",
    "- Allows citing sources\n",
    "- Works with domain-specific knowledge\n",
    "\"\"\")"
   ]
  },
  {
   "cell_type": "markdown",
   "id": "4f0df66e-859d-4096-8500-fcaa06ac5a5e",
   "metadata": {},
   "source": [
    "# Sample Data"
   ]
  },
  {
   "cell_type": "code",
   "execution_count": 4,
   "id": "21e9ef15-bf97-4899-a2d1-e9c011d215a0",
   "metadata": {},
   "outputs": [
    {
     "data": {
      "text/plain": [
       "['\\n    Machine Learning Fundamentals\\n\\n    Machine learning is a subset of artificial intelligence that enables systems to learn \\n    and improve from experience without being explicitly programmed. There are three main \\n    types of machine learning: supervised learning, unsupervised learning, and reinforcement \\n    learning. Supervised learning uses labeled data to train models, while unsupervised \\n    learning finds patterns in unlabeled data. Reinforcement learning learns through \\n    interaction with an environment using rewards and penalties.\\n    ',\n",
       " '\\n    Deep Learning and Neural Networks\\n\\n    Deep learning is a subset of machine learning based on artificial neural networks. \\n    The human brain inspires these networks and consists of layers of interconnected \\n    nodes. Deep learning has revolutionized computer vision, natural language \\n    processing, and speech recognition. Convolutional Neural Networks (CNNs) are particularly \\n    effective for image processing, while Recurrent Neural Networks (RNNs) and Transformers \\n    excel at sequential data processing.\\n    ',\n",
       " '\\n    Natural Language Processing (NLP)\\n\\n    NLP is a field of AI that focuses on the interaction between computers and human language. \\n    Key tasks in NLP include text classification, named entity recognition, sentiment analysis, \\n    machine translation, and question answering. Modern NLP heavily relies on transformer \\n    architectures like BERT, GPT, and T5. These models use attention mechanisms to understand \\n    context and relationships between words in text.\\n    ']"
      ]
     },
     "execution_count": 4,
     "metadata": {},
     "output_type": "execute_result"
    }
   ],
   "source": [
    "## create sample documents\n",
    "sample_docs = [\n",
    "    \"\"\"\n",
    "    Machine Learning Fundamentals\n",
    "    \n",
    "    Machine learning is a subset of artificial intelligence that enables systems to learn \n",
    "    and improve from experience without being explicitly programmed. There are three main \n",
    "    types of machine learning: supervised learning, unsupervised learning, and reinforcement \n",
    "    learning. Supervised learning uses labeled data to train models, while unsupervised \n",
    "    learning finds patterns in unlabeled data. Reinforcement learning learns through \n",
    "    interaction with an environment using rewards and penalties.\n",
    "    \"\"\",\n",
    "    \n",
    "    \"\"\"\n",
    "    Deep Learning and Neural Networks\n",
    "    \n",
    "    Deep learning is a subset of machine learning based on artificial neural networks. \n",
    "    The human brain inspires these networks and consists of layers of interconnected \n",
    "    nodes. Deep learning has revolutionized computer vision, natural language \n",
    "    processing, and speech recognition. Convolutional Neural Networks (CNNs) are particularly \n",
    "    effective for image processing, while Recurrent Neural Networks (RNNs) and Transformers \n",
    "    excel at sequential data processing.\n",
    "    \"\"\",\n",
    "    \n",
    "    \"\"\"\n",
    "    Natural Language Processing (NLP)\n",
    "    \n",
    "    NLP is a field of AI that focuses on the interaction between computers and human language. \n",
    "    Key tasks in NLP include text classification, named entity recognition, sentiment analysis, \n",
    "    machine translation, and question answering. Modern NLP heavily relies on transformer \n",
    "    architectures like BERT, GPT, and T5. These models use attention mechanisms to understand \n",
    "    context and relationships between words in text.\n",
    "    \"\"\"\n",
    "]\n",
    "\n",
    "sample_docs\n"
   ]
  },
  {
   "cell_type": "code",
   "execution_count": 5,
   "id": "82476149-a5fd-4080-bacc-1cb402986d1f",
   "metadata": {},
   "outputs": [
    {
     "name": "stdout",
     "output_type": "stream",
     "text": [
      "/data/oybek/PKD/xudamadarsam/mashq/vector/doc\n"
     ]
    }
   ],
   "source": [
    "## Save sample documents to file\n",
    "import tempfile\n",
    "temp_file = \"/data/oybek/PKD/xudamadarsam/mashq/vector/doc\"\n",
    "# temp_file = tempfile.mkdtemp()\n",
    "for i, doc in enumerate(sample_docs):\n",
    "    with open(f\"{temp_file}/doc_{i}.txt\", \"w\") as f:\n",
    "        f.write(doc)\n",
    "print(temp_file)"
   ]
  },
  {
   "cell_type": "code",
   "execution_count": 6,
   "id": "1e8f0128-7187-4dea-aeae-3df34c3a5808",
   "metadata": {},
   "outputs": [
    {
     "data": {
      "text/plain": [
       "'/data/oybek/PKD/xudamadarsam/mashq/vector/doc'"
      ]
     },
     "execution_count": 6,
     "metadata": {},
     "output_type": "execute_result"
    }
   ],
   "source": [
    "temp_file"
   ]
  },
  {
   "cell_type": "markdown",
   "id": "ee3f6e2a-ceab-47d0-8d16-0539f840134c",
   "metadata": {},
   "source": [
    "## Document Loading"
   ]
  },
  {
   "cell_type": "code",
   "execution_count": 7,
   "id": "01b969f5-2290-4d88-822d-139bdf01b700",
   "metadata": {},
   "outputs": [
    {
     "name": "stdout",
     "output_type": "stream",
     "text": [
      "Loaded 3 documents\n",
      "\n",
      "First document preview:\n",
      "\n",
      "    Machine Learning Fundamentals\n",
      "\n",
      "    Machine learning is a subset of artificial intelligence that enables systems to learn \n",
      "    and improve from experience without being explicitly programmed. Ther...\n"
     ]
    }
   ],
   "source": [
    "from langchain_community.document_loaders import DirectoryLoader, TextLoader\n",
    "loader = DirectoryLoader(\n",
    "    \"/data/oybek/PKD/xudamadarsam/mashq/vector/doc\",\n",
    "    glob='*.txt',\n",
    "    loader_cls=TextLoader,\n",
    "    loader_kwargs={'encoding': 'utf-8'}\n",
    ")\n",
    "documents = loader.load()\n",
    "\n",
    "print(f\"Loaded {len(documents)} documents\")\n",
    "print(f\"\\nFirst document preview:\")\n",
    "print(documents[2].page_content[:200] + \"...\")"
   ]
  },
  {
   "cell_type": "code",
   "execution_count": 8,
   "id": "fba4d179-f8b6-4f04-b00a-544e6ca9d59e",
   "metadata": {},
   "outputs": [
    {
     "data": {
      "text/plain": [
       "[Document(metadata={'source': '/data/oybek/PKD/xudamadarsam/mashq/vector/doc/doc_1.txt'}, page_content='\\n    Deep Learning and Neural Networks\\n\\n    Deep learning is a subset of machine learning based on artificial neural networks. \\n    The human brain inspires these networks and consists of layers of interconnected \\n    nodes. Deep learning has revolutionized computer vision, natural language \\n    processing, and speech recognition. Convolutional Neural Networks (CNNs) are particularly \\n    effective for image processing, while Recurrent Neural Networks (RNNs) and Transformers \\n    excel at sequential data processing.\\n    '),\n",
       " Document(metadata={'source': '/data/oybek/PKD/xudamadarsam/mashq/vector/doc/doc_2.txt'}, page_content='\\n    Natural Language Processing (NLP)\\n\\n    NLP is a field of AI that focuses on the interaction between computers and human language. \\n    Key tasks in NLP include text classification, named entity recognition, sentiment analysis, \\n    machine translation, and question answering. Modern NLP heavily relies on transformer \\n    architectures like BERT, GPT, and T5. These models use attention mechanisms to understand \\n    context and relationships between words in text.\\n    '),\n",
       " Document(metadata={'source': '/data/oybek/PKD/xudamadarsam/mashq/vector/doc/doc_0.txt'}, page_content='\\n    Machine Learning Fundamentals\\n\\n    Machine learning is a subset of artificial intelligence that enables systems to learn \\n    and improve from experience without being explicitly programmed. There are three main \\n    types of machine learning: supervised learning, unsupervised learning, and reinforcement \\n    learning. Supervised learning uses labeled data to train models, while unsupervised \\n    learning finds patterns in unlabeled data. Reinforcement learning learns through \\n    interaction with an environment using rewards and penalties.\\n    ')]"
      ]
     },
     "execution_count": 8,
     "metadata": {},
     "output_type": "execute_result"
    }
   ],
   "source": [
    "documents"
   ]
  },
  {
   "cell_type": "code",
   "execution_count": 9,
   "id": "fcaba878-ad78-4a49-aacf-c79c6799bd2f",
   "metadata": {},
   "outputs": [
    {
     "data": {
      "text/plain": [
       "'\\n    Machine Learning Fundamentals\\n\\n    Machine learning is a subset of artificial intelligence that enables systems to learn \\n    and improve from experience without being explicitly programmed. There are three main \\n    types of machine learning: supervised learning, unsupervised learning, and reinforcement \\n    learning. Supervised learning uses labeled data to train models, while unsupervised \\n    learning finds patterns in unlabeled data. Reinforcement learning learns through \\n    interaction with an environment using rewards and penalties.\\n    '"
      ]
     },
     "execution_count": 9,
     "metadata": {},
     "output_type": "execute_result"
    }
   ],
   "source": [
    "sample_docs[0]"
   ]
  },
  {
   "cell_type": "markdown",
   "id": "48411ee5-9fae-43db-a468-2804f398ac99",
   "metadata": {},
   "source": [
    "## Document splitting"
   ]
  },
  {
   "cell_type": "code",
   "execution_count": 10,
   "id": "ea070d87-2838-478a-a561-047d22b19e96",
   "metadata": {},
   "outputs": [
    {
     "name": "stdout",
     "output_type": "stream",
     "text": [
      "Created 5 chunks from 3 documents\n",
      "\n",
      "Chunk example:\n",
      "Content: Deep Learning and Neural Networks\n",
      "\n",
      "    Deep learning is a subset of machine learning based on artificial neural networks. \n",
      "    The human brain inspire...\n",
      "Metadata: {'source': '/data/oybek/PKD/xudamadarsam/mashq/vector/doc/doc_1.txt'}\n"
     ]
    }
   ],
   "source": [
    "# Initialize text splitter\n",
    "text_splitter  = RecursiveCharacterTextSplitter(\n",
    "    chunk_size = 500,\n",
    "    chunk_overlap = 50,\n",
    "    length_function = len,\n",
    "    separators=[\" \"]\n",
    ")\n",
    "\n",
    "chunks = text_splitter.split_documents(documents)\n",
    "print(f\"Created {len(chunks)} chunks from {len(documents)} documents\")\n",
    "print(f\"\\nChunk example:\")\n",
    "print(f\"Content: {chunks[0].page_content[:150]}...\")\n",
    "print(f\"Metadata: {chunks[0].metadata}\")"
   ]
  },
  {
   "cell_type": "code",
   "execution_count": 11,
   "id": "276d000b-e080-4b0b-a573-08b82706096f",
   "metadata": {},
   "outputs": [
    {
     "data": {
      "text/plain": [
       "[Document(metadata={'source': '/data/oybek/PKD/xudamadarsam/mashq/vector/doc/doc_1.txt'}, page_content='Deep Learning and Neural Networks\\n\\n    Deep learning is a subset of machine learning based on artificial neural networks. \\n    The human brain inspires these networks and consists of layers of interconnected \\n    nodes. Deep learning has revolutionized computer vision, natural language \\n    processing, and speech recognition. Convolutional Neural Networks (CNNs) are particularly \\n    effective for image processing, while Recurrent Neural Networks (RNNs) and Transformers \\n    excel at'),\n",
       " Document(metadata={'source': '/data/oybek/PKD/xudamadarsam/mashq/vector/doc/doc_1.txt'}, page_content='Networks (RNNs) and Transformers \\n    excel at sequential data processing.'),\n",
       " Document(metadata={'source': '/data/oybek/PKD/xudamadarsam/mashq/vector/doc/doc_2.txt'}, page_content='Natural Language Processing (NLP)\\n\\n    NLP is a field of AI that focuses on the interaction between computers and human language. \\n    Key tasks in NLP include text classification, named entity recognition, sentiment analysis, \\n    machine translation, and question answering. Modern NLP heavily relies on transformer \\n    architectures like BERT, GPT, and T5. These models use attention mechanisms to understand \\n    context and relationships between words in text.'),\n",
       " Document(metadata={'source': '/data/oybek/PKD/xudamadarsam/mashq/vector/doc/doc_0.txt'}, page_content='Machine Learning Fundamentals\\n\\n    Machine learning is a subset of artificial intelligence that enables systems to learn \\n    and improve from experience without being explicitly programmed. There are three main \\n    types of machine learning: supervised learning, unsupervised learning, and reinforcement \\n    learning. Supervised learning uses labeled data to train models, while unsupervised \\n    learning finds patterns in unlabeled data. Reinforcement learning learns through'),\n",
       " Document(metadata={'source': '/data/oybek/PKD/xudamadarsam/mashq/vector/doc/doc_0.txt'}, page_content='data. Reinforcement learning learns through \\n    interaction with an environment using rewards and penalties.')]"
      ]
     },
     "execution_count": 11,
     "metadata": {},
     "output_type": "execute_result"
    }
   ],
   "source": [
    "chunks"
   ]
  },
  {
   "cell_type": "markdown",
   "id": "fdcfd86b-5bde-4439-9e6f-98a3d93dc899",
   "metadata": {},
   "source": [
    "## Embedding models"
   ]
  },
  {
   "cell_type": "code",
   "execution_count": 12,
   "id": "67b51a30-d064-4aed-878a-4750f9e3491c",
   "metadata": {},
   "outputs": [],
   "source": [
    "os.environ[\"OPENAI_API_KEY\"] = os.getenv(\"OPENAI_API_KEY\")\n"
   ]
  },
  {
   "cell_type": "code",
   "execution_count": 13,
   "id": "b7c78cee-3bbd-4eaa-952b-e4eb1b29d2f9",
   "metadata": {},
   "outputs": [
    {
     "data": {
      "text/plain": [
       "OpenAIEmbeddings(client=<openai.resources.embeddings.Embeddings object at 0x7fabe0c88830>, async_client=<openai.resources.embeddings.AsyncEmbeddings object at 0x7fabe0c89160>, model='text-embedding-ada-002', dimensions=None, deployment='text-embedding-ada-002', openai_api_version=None, openai_api_base=None, openai_api_type=None, openai_proxy=None, embedding_ctx_length=8191, openai_api_key=SecretStr('**********'), openai_organization=None, allowed_special=None, disallowed_special=None, chunk_size=1000, max_retries=2, request_timeout=None, headers=None, tiktoken_enabled=True, tiktoken_model_name=None, show_progress_bar=False, model_kwargs={}, skip_empty=False, default_headers=None, default_query=None, retry_min_seconds=4, retry_max_seconds=20, http_client=None, http_async_client=None, check_embedding_ctx_length=True)"
      ]
     },
     "execution_count": 13,
     "metadata": {},
     "output_type": "execute_result"
    }
   ],
   "source": [
    "sample_text  = \"Machine learning is fascinating\"\n",
    "embedding = OpenAIEmbeddings()\n",
    "embedding"
   ]
  },
  {
   "cell_type": "code",
   "execution_count": 14,
   "id": "ad494ed8-a30f-4544-9dda-eaa8355bec9d",
   "metadata": {
    "scrolled": true
   },
   "outputs": [
    {
     "data": {
      "text/plain": [
       "[-0.02645929902791977,\n",
       " 0.012394296936690807,\n",
       " 0.011785591021180153,\n",
       " -0.017730191349983215,\n",
       " -0.00440340768545866,\n",
       " 0.018610872328281403,\n",
       " 0.0003296484937891364,\n",
       " 0.01021849550306797,\n",
       " -0.01793741062283516,\n",
       " -0.041029397398233414,\n",
       " 0.00979110598564148,\n",
       " 0.03447609022259712,\n",
       " -0.015696853399276733,\n",
       " -0.011578371748328209,\n",
       " -0.0019766767509281635,\n",
       " 0.009104692377150059,\n",
       " 0.04157334938645363,\n",
       " 0.009965947829186916,\n",
       " 0.0008418279467150569,\n",
       " -0.011630176566541195,\n",
       " -0.030305804684758186,\n",
       " 0.02052764967083931,\n",
       " -0.0036587135400623083,\n",
       " -0.031859949231147766,\n",
       " -0.021058648824691772,\n",
       " 0.0056596738286316395,\n",
       " 0.0018455458339303732,\n",
       " -0.03525316342711449,\n",
       " -0.012607991695404053,\n",
       " -0.007828999310731888,\n",
       " 0.026485200971364975,\n",
       " -0.007582926657050848,\n",
       " -0.01756182499229908,\n",
       " -0.04128842055797577,\n",
       " -0.008185157552361488,\n",
       " -0.014272221364080906,\n",
       " -0.005853941664099693,\n",
       " 0.001787265413440764,\n",
       " -0.016849510371685028,\n",
       " -0.002315026707947254,\n",
       " 0.02227606251835823,\n",
       " 0.024179888889193535,\n",
       " -0.007051927503198385,\n",
       " -0.016305558383464813,\n",
       " -0.014958634972572327,\n",
       " 0.012562662363052368,\n",
       " 0.001011812360957265,\n",
       " -0.014492391608655453,\n",
       " -0.005008876323699951,\n",
       " 0.015580291859805584,\n",
       " 0.013909587636590004,\n",
       " 0.0216544046998024,\n",
       " -0.0028686905279755592,\n",
       " -0.006465885788202286,\n",
       " 0.005306753795593977,\n",
       " 0.006611587014049292,\n",
       " 0.004558822140097618,\n",
       " 0.0012910725781694055,\n",
       " 0.022094745188951492,\n",
       " 0.006219813134521246,\n",
       " 0.01422041654586792,\n",
       " -0.024840399622917175,\n",
       " -0.009823484346270561,\n",
       " 0.019128920510411263,\n",
       " -0.011338774114847183,\n",
       " 0.00937019195407629,\n",
       " -0.019232530146837234,\n",
       " 0.032041266560554504,\n",
       " 0.02322150021791458,\n",
       " 0.0013177844230085611,\n",
       " 0.01174673717468977,\n",
       " -0.013035381212830544,\n",
       " -0.02683488465845585,\n",
       " -0.002376544987782836,\n",
       " 0.027819175273180008,\n",
       " -0.008884522132575512,\n",
       " -0.008010316640138626,\n",
       " 0.005834515206515789,\n",
       " 0.015878168866038322,\n",
       " 0.01892170123755932,\n",
       " -0.014052051119506359,\n",
       " -0.005313229281455278,\n",
       " 0.008670827373862267,\n",
       " 0.015217658132314682,\n",
       " 0.016914265230298042,\n",
       " 0.0039598289877176285,\n",
       " -0.0162408035248518,\n",
       " -0.0038529816083610058,\n",
       " 0.0015816651284694672,\n",
       " 0.004575010854750872,\n",
       " 0.013313832692801952,\n",
       " 0.008463608101010323,\n",
       " 0.0016707046888768673,\n",
       " 0.0287257581949234,\n",
       " -0.018753336742520332,\n",
       " 0.0015217658365145326,\n",
       " 0.0016852747648954391,\n",
       " 0.015929974615573883,\n",
       " 0.0128281619399786,\n",
       " -0.03160092607140541,\n",
       " -0.01831299439072609,\n",
       " 0.027793273329734802,\n",
       " -0.010250873863697052,\n",
       " -0.01266627199947834,\n",
       " -0.018002165481448174,\n",
       " 0.0032993177883327007,\n",
       " 0.007595878094434738,\n",
       " 0.016214901581406593,\n",
       " 0.029217904433608055,\n",
       " 0.009797581471502781,\n",
       " 0.012271260842680931,\n",
       " 0.03421706706285477,\n",
       " -0.014349928125739098,\n",
       " -0.02844083309173584,\n",
       " -0.017082631587982178,\n",
       " -0.005899270996451378,\n",
       " 0.006103252526372671,\n",
       " -0.016460973769426346,\n",
       " -0.015800463035702705,\n",
       " -0.017600679770112038,\n",
       " 0.020708967000246048,\n",
       " 0.03502004221081734,\n",
       " 0.009389619342982769,\n",
       " -0.010348008014261723,\n",
       " 0.0143628790974617,\n",
       " 0.025060569867491722,\n",
       " -0.00745341507717967,\n",
       " -0.017354605719447136,\n",
       " 0.003038675058633089,\n",
       " -0.0028444069903343916,\n",
       " 0.024037424474954605,\n",
       " -0.0015743800904601812,\n",
       " -0.0016545156249776483,\n",
       " 0.009901191107928753,\n",
       " -0.030435316264629364,\n",
       " 0.016694094985723495,\n",
       " -0.006307233590632677,\n",
       " 0.013190795667469501,\n",
       " -0.013223174028098583,\n",
       " 0.004212377592921257,\n",
       " 0.015256511978805065,\n",
       " 0.01982828602194786,\n",
       " 0.0014351546997204423,\n",
       " -0.013326783664524555,\n",
       " -0.02632978744804859,\n",
       " 0.012776357121765614,\n",
       " 0.008385901339352131,\n",
       " 0.01681065559387207,\n",
       " 0.017548874020576477,\n",
       " -0.00404724944382906,\n",
       " -0.013650563545525074,\n",
       " -0.022405574098229408,\n",
       " 0.0006621300126425922,\n",
       " 0.021434234455227852,\n",
       " 0.005575491115450859,\n",
       " -0.0009745777351781726,\n",
       " 0.02627798169851303,\n",
       " 0.0005415219930000603,\n",
       " -0.01713443547487259,\n",
       " -0.00831467006355524,\n",
       " 0.001275693066418171,\n",
       " -0.010943762958049774,\n",
       " -0.017393460497260094,\n",
       " -0.0178856048732996,\n",
       " 0.03318097069859505,\n",
       " 0.015152902342379093,\n",
       " 0.027560150250792503,\n",
       " 0.006954793818295002,\n",
       " 0.007356280926615,\n",
       " 0.008897473104298115,\n",
       " -0.002574050799012184,\n",
       " 0.029114294797182083,\n",
       " -0.03315506875514984,\n",
       " 0.012672748416662216,\n",
       " -0.01963401772081852,\n",
       " -0.012368394993245602,\n",
       " 0.013430393300950527,\n",
       " -0.00831467006355524,\n",
       " -0.02654995769262314,\n",
       " -0.02063125930726528,\n",
       " 0.004416358657181263,\n",
       " 0.013093661516904831,\n",
       " 0.01158484723418951,\n",
       " 0.019336139783263206,\n",
       " -0.0056855762377381325,\n",
       " -0.000755621527787298,\n",
       " 0.0067022452130913734,\n",
       " -0.027560150250792503,\n",
       " 0.010270300321280956,\n",
       " -0.0011324204970151186,\n",
       " 0.0041670482605695724,\n",
       " 0.00939609482884407,\n",
       " -0.02500876411795616,\n",
       " -0.012556186877191067,\n",
       " -0.6751201152801514,\n",
       " -0.022638695314526558,\n",
       " 0.01920662820339203,\n",
       " 0.00932486355304718,\n",
       " -0.00608706334605813,\n",
       " 0.008243437856435776,\n",
       " 0.005183717235922813,\n",
       " -0.011520091444253922,\n",
       " 0.03828374296426773,\n",
       " 0.011824444867670536,\n",
       " 0.00474337674677372,\n",
       " 0.014673708006739616,\n",
       " -0.008347047492861748,\n",
       " 0.000787594763096422,\n",
       " 0.0015719517832621932,\n",
       " -0.02862214855849743,\n",
       " 0.021460136398673058,\n",
       " -0.05346255004405975,\n",
       " -0.008366473950445652,\n",
       " 0.025345496833324432,\n",
       " -0.012128797359764576,\n",
       " 0.030305804684758186,\n",
       " -0.008133352734148502,\n",
       " -0.0064982641488313675,\n",
       " -0.020139114931225777,\n",
       " 0.005902508739382029,\n",
       " 0.004717474337667227,\n",
       " 0.017872653901576996,\n",
       " -0.001046618795953691,\n",
       " -0.00948675349354744,\n",
       " -0.00232474016956985,\n",
       " 0.01973762735724449,\n",
       " -0.005769758950918913,\n",
       " -0.010393337346613407,\n",
       " 0.045225586742162704,\n",
       " -0.014790268614888191,\n",
       " 0.0066018737852573395,\n",
       " 0.02654995769262314,\n",
       " 0.005144863855093718,\n",
       " 0.017458215355873108,\n",
       " -0.021680306643247604,\n",
       " -0.02015206590294838,\n",
       " -0.007310951594263315,\n",
       " 0.009111168794333935,\n",
       " -0.008023267611861229,\n",
       " 0.010069557465612888,\n",
       " 0.006643964909017086,\n",
       " 0.00531970476731658,\n",
       " -0.016227852553129196,\n",
       " -0.021498989313840866,\n",
       " 0.003380262991413474,\n",
       " 0.0062651424668729305,\n",
       " -0.003032199339941144,\n",
       " 0.006663391832262278,\n",
       " -0.002161231357604265,\n",
       " 0.02029452845454216,\n",
       " 0.010885482653975487,\n",
       " 0.0018066922202706337,\n",
       " 0.02688668854534626,\n",
       " -0.024503668770194054,\n",
       " -0.010801299475133419,\n",
       " -0.0005305944359861314,\n",
       " -0.029166100546717644,\n",
       " -0.01092433650046587,\n",
       " -0.01921957917511463,\n",
       " 0.03527906537055969,\n",
       " -0.0012530285166576505,\n",
       " -0.011992810294032097,\n",
       " -0.011189836077392101,\n",
       " -0.02524188719689846,\n",
       " 0.03419116511940956,\n",
       " -0.004092578776180744,\n",
       " 0.00215475563891232,\n",
       " 0.0019248719327151775,\n",
       " 0.008385901339352131,\n",
       " 0.027819175273180008,\n",
       " 0.0035421529319137335,\n",
       " -0.014725512824952602,\n",
       " 0.01513995137065649,\n",
       " 0.012627419084310532,\n",
       " 0.00626190472394228,\n",
       " -0.0004613864584825933,\n",
       " -0.007854902185499668,\n",
       " -0.02411513216793537,\n",
       " 0.021123405545949936,\n",
       " -0.0012085087364539504,\n",
       " -0.006303995847702026,\n",
       " -0.008606071583926678,\n",
       " 0.003545390674844384,\n",
       " 0.006569495424628258,\n",
       " 0.014790268614888191,\n",
       " 0.022586891427636147,\n",
       " -0.009331339038908482,\n",
       " -0.054136011749506,\n",
       " 0.0065727331675589085,\n",
       " 0.0020446705166250467,\n",
       " 0.006255429238080978,\n",
       " 0.015088146552443504,\n",
       " 0.010432190261781216,\n",
       " -0.020281577482819557,\n",
       " -0.011060323566198349,\n",
       " 0.006054685451090336,\n",
       " 0.020605357363820076,\n",
       " 0.025306642055511475,\n",
       " 0.01850726269185543,\n",
       " -0.008146303705871105,\n",
       " 0.015010439790785313,\n",
       " 0.011053848080337048,\n",
       " 0.02015206590294838,\n",
       " -0.024840399622917175,\n",
       " -0.010516373440623283,\n",
       " 0.006708721164613962,\n",
       " -0.015878168866038322,\n",
       " 0.02218540385365486,\n",
       " -0.008890997618436813,\n",
       " -0.02627798169851303,\n",
       " 0.011766163632273674,\n",
       " 0.00466243177652359,\n",
       " 0.00567262526601553,\n",
       " -0.02538434974849224,\n",
       " 0.03372492268681526,\n",
       " -0.00432246271520853,\n",
       " 0.00920830201357603,\n",
       " -0.016694094985723495,\n",
       " -0.0024672034196555614,\n",
       " -0.017769044265151024,\n",
       " -0.001296738744713366,\n",
       " -0.019154822453856468,\n",
       " -0.010108410380780697,\n",
       " 0.0017856465419754386,\n",
       " -0.006967744790017605,\n",
       " -0.0061356304213404655,\n",
       " 0.008975180797278881,\n",
       " -0.016227852553129196,\n",
       " 0.00683823274448514,\n",
       " -0.014000246301293373,\n",
       " 0.007589402608573437,\n",
       " -0.006896513514220715,\n",
       " 0.004710998386144638,\n",
       " -0.011545993387699127,\n",
       " -0.02467203326523304,\n",
       " 0.0018050733488053083,\n",
       " 0.005232284311205149,\n",
       " 0.027534248307347298,\n",
       " -0.0035777685698121786,\n",
       " -0.008787387982010841,\n",
       " -0.0015241942601278424,\n",
       " 0.012446101754903793,\n",
       " 0.0038885974790900946,\n",
       " -0.018377751111984253,\n",
       " 0.0031714248470962048,\n",
       " 0.001232792274095118,\n",
       " -0.0005674244021065533,\n",
       " 0.029217904433608055,\n",
       " -0.0143628790974617,\n",
       " 0.01972467638552189,\n",
       " -0.013521051965653896,\n",
       " 0.0016537061892449856,\n",
       " -0.014673708006739616,\n",
       " -0.02504761889576912,\n",
       " -0.015282414853572845,\n",
       " 0.005365034099668264,\n",
       " -0.005821563769131899,\n",
       " 0.006896513514220715,\n",
       " 0.0014748177491128445,\n",
       " -0.018442507833242416,\n",
       " -0.009706923738121986,\n",
       " 0.0348387248814106,\n",
       " -0.043257005512714386,\n",
       " -0.01732870377600193,\n",
       " 0.007893756031990051,\n",
       " -0.02363593690097332,\n",
       " 0.013780075125396252,\n",
       " 0.009842910803854465,\n",
       " -0.013857782818377018,\n",
       " 0.026524055749177933,\n",
       " -0.015191756188869476,\n",
       " -0.008198108524084091,\n",
       " -0.014505342580378056,\n",
       " -0.029580537229776382,\n",
       " -0.005714716389775276,\n",
       " 0.015619145706295967,\n",
       " 0.0018196434248238802,\n",
       " -0.005802136845886707,\n",
       " 0.03351770341396332,\n",
       " 0.014893878251314163,\n",
       " 0.04219500720500946,\n",
       " 0.007375707849860191,\n",
       " -0.017535923048853874,\n",
       " 0.005954313557595015,\n",
       " 0.010594080202281475,\n",
       " 0.012983576394617558,\n",
       " 0.002867071656510234,\n",
       " -0.0025271025951951742,\n",
       " 0.01709558255970478,\n",
       " 0.011882725171744823,\n",
       " -0.01756182499229908,\n",
       " -0.008424755185842514,\n",
       " 0.013048333115875721,\n",
       " 0.037454865872859955,\n",
       " -0.0009519131272099912,\n",
       " 0.01864972710609436,\n",
       " 0.01471256185323,\n",
       " 0.009124119766056538,\n",
       " 0.0013113088207319379,\n",
       " -0.02113635651767254,\n",
       " 0.006125917192548513,\n",
       " -0.017548874020576477,\n",
       " 0.009020510129630566,\n",
       " 0.00988824013620615,\n",
       " 0.01445353776216507,\n",
       " -0.0003081980685237795,\n",
       " 0.008113926276564598,\n",
       " -0.03141960874199867,\n",
       " 0.01344334427267313,\n",
       " 0.029217904433608055,\n",
       " -0.007952036336064339,\n",
       " -0.005076869856566191,\n",
       " -0.028078198432922363,\n",
       " 0.00864492543041706,\n",
       " 0.009311911650002003,\n",
       " -0.00023899009102024138,\n",
       " 0.01752297207713127,\n",
       " -0.0019961034413427114,\n",
       " 0.026808980852365494,\n",
       " 0.02217245288193226,\n",
       " 0.005206381902098656,\n",
       " 0.023053133860230446,\n",
       " 0.0036457625683397055,\n",
       " -0.042583540081977844,\n",
       " -0.014958634972572327,\n",
       " 0.0135340029373765,\n",
       " 0.01249790657311678,\n",
       " -0.004704522900283337,\n",
       " 0.01468665897846222,\n",
       " -0.0014043955598026514,\n",
       " 0.011429432779550552,\n",
       " -0.01193452998995781,\n",
       " 0.037506673485040665,\n",
       " -0.0017014637123793364,\n",
       " -0.00981700886040926,\n",
       " -0.0005787566769868135,\n",
       " 0.025397300720214844,\n",
       " -0.028130004182457924,\n",
       " 0.020035505294799805,\n",
       " 0.003493585856631398,\n",
       " 0.0320153646171093,\n",
       " -0.015515536069869995,\n",
       " -0.022353768348693848,\n",
       " 0.007298000622540712,\n",
       " -0.0324816070497036,\n",
       " -0.0019523932132869959,\n",
       " -0.008625498041510582,\n",
       " 0.0005394983454607427,\n",
       " -0.0008434468181803823,\n",
       " -0.03268882632255554,\n",
       " 0.013287929818034172,\n",
       " -0.007304476108402014,\n",
       " 0.030020879581570625,\n",
       " 0.011727310717105865,\n",
       " -0.007887279614806175,\n",
       " 0.02622617781162262,\n",
       " 0.005569015629589558,\n",
       " -0.008916900493204594,\n",
       " 0.011694932356476784,\n",
       " -0.004652718082070351,\n",
       " -0.0002689397369977087,\n",
       " 0.0013703986769542098,\n",
       " 1.97429890249623e-05,\n",
       " 0.012109370902180672,\n",
       " -0.016253754496574402,\n",
       " -0.018908750265836716,\n",
       " -0.013417442329227924,\n",
       " -0.022755255922675133,\n",
       " 0.030590731650590897,\n",
       " -0.021952282637357712,\n",
       " 0.03056482970714569,\n",
       " 0.0013064522063359618,\n",
       " -0.01713443547487259,\n",
       " 0.039578862488269806,\n",
       " -0.004782230127602816,\n",
       " -0.03833554685115814,\n",
       " 0.00906583946198225,\n",
       " 0.011766163632273674,\n",
       " -0.002232462866231799,\n",
       " -0.031108779832720757,\n",
       " -0.02937331795692444,\n",
       " -0.004905266687273979,\n",
       " -0.004918217658996582,\n",
       " -0.007848426699638367,\n",
       " 0.005284089129418135,\n",
       " 0.005912222433835268,\n",
       " -0.011448860168457031,\n",
       " -0.015606194734573364,\n",
       " -0.020087309181690216,\n",
       " 0.0116496030241251,\n",
       " 0.023506425321102142,\n",
       " -0.010697689838707447,\n",
       " -0.011494188569486141,\n",
       " -0.023765450343489647,\n",
       " 0.0014513437636196613,\n",
       " 0.015839315950870514,\n",
       " -0.024374155327677727,\n",
       " -0.029735952615737915,\n",
       " 0.022340817376971245,\n",
       " -0.000348265835782513,\n",
       " -0.007401610258966684,\n",
       " -0.015347170643508434,\n",
       " -0.006035258527845144,\n",
       " -0.02476269192993641,\n",
       " 0.01537307258695364,\n",
       " -0.005290564615279436,\n",
       " 0.011986334808170795,\n",
       " 0.004785467870533466,\n",
       " 0.0006216575275175273,\n",
       " 0.03188585117459297,\n",
       " 0.005229046568274498,\n",
       " 0.003917737398296595,\n",
       " 0.018999408930540085,\n",
       " 0.035149551928043365,\n",
       " -0.011455335654318333,\n",
       " -0.009389619342982769,\n",
       " -0.005740618798881769,\n",
       " 0.017859702929854393,\n",
       " 0.0993615984916687,\n",
       " 0.009700448252260685,\n",
       " -0.013948441483080387,\n",
       " 0.004704522900283337,\n",
       " -0.03569350391626358,\n",
       " -0.021084550768136978,\n",
       " -0.02090323530137539,\n",
       " -0.013009479269385338,\n",
       " 0.01135172601789236,\n",
       " 0.001803454477339983,\n",
       " -0.021965233609080315,\n",
       " 0.006527404300868511,\n",
       " 0.009130595251917839,\n",
       " 0.0036813782062381506,\n",
       " 0.012737504206597805,\n",
       " 0.00582480151206255,\n",
       " 0.002175801433622837,\n",
       " -0.003187613794580102,\n",
       " 0.004960309248417616,\n",
       " -0.02665356732904911,\n",
       " 0.017147386446595192,\n",
       " -0.0069742207415401936,\n",
       " 0.015127000398933887,\n",
       " 0.003140665590763092,\n",
       " 0.038361452519893646,\n",
       " -0.002091618487611413,\n",
       " 0.008275816217064857,\n",
       " 0.03701452538371086,\n",
       " -0.0185979213565588,\n",
       " -0.0315491184592247,\n",
       " 0.01586521789431572,\n",
       " 0.029036587104201317,\n",
       " -0.003493585856631398,\n",
       " 0.005717954132705927,\n",
       " -0.015476682223379612,\n",
       " 0.02522893436253071,\n",
       " 0.0038206037133932114,\n",
       " 0.010587604716420174,\n",
       " 0.019232530146837234,\n",
       " -0.023856109008193016,\n",
       " 0.02942512370646,\n",
       " 0.03540857881307602,\n",
       " 0.0002774389577098191,\n",
       " -0.007077829912304878,\n",
       " -0.004406645428389311,\n",
       " -0.017160339280962944,\n",
       " 0.0027666997630149126,\n",
       " 0.033362288028001785,\n",
       " -0.014764366671442986,\n",
       " -0.0315491184592247,\n",
       " 0.003729945281520486,\n",
       " 0.001890875049866736,\n",
       " -0.023700693622231483,\n",
       " -0.0028654527850449085,\n",
       " -0.00651121512055397,\n",
       " 0.03696272149682045,\n",
       " -0.0111833605915308,\n",
       " 0.006682818755507469,\n",
       " -0.005928411148488522,\n",
       " -0.011435908265411854,\n",
       " -0.03126419335603714,\n",
       " -0.02604486048221588,\n",
       " 0.0015735706547275186,\n",
       " -0.003649000311270356,\n",
       " 0.018442507833242416,\n",
       " -0.016966070979833603,\n",
       " -0.012879966758191586,\n",
       " -0.009078790433704853,\n",
       " -0.02463318035006523,\n",
       " 0.017626581713557243,\n",
       " 0.0048469859175384045,\n",
       " -0.057710543274879456,\n",
       " -0.028233613818883896,\n",
       " -0.017173290252685547,\n",
       " 0.007369231898337603,\n",
       " 0.01370236836373806,\n",
       " 0.004892315249890089,\n",
       " 0.005034778732806444,\n",
       " -0.020967990159988403,\n",
       " 0.019180726259946823,\n",
       " 0.0030678152106702328,\n",
       " -0.01217412669211626,\n",
       " -0.008677302859723568,\n",
       " -0.02326035313308239,\n",
       " 0.01040628831833601,\n",
       " -0.012394296936690807,\n",
       " -0.019245481118559837,\n",
       " -0.01031562965363264,\n",
       " 0.014077953062951565,\n",
       " 0.004529681988060474,\n",
       " 0.010561702772974968,\n",
       " -0.004578248597681522,\n",
       " 0.03512364998459816,\n",
       " 0.02359708398580551,\n",
       " 0.005290564615279436,\n",
       " 0.004413120914250612,\n",
       " 0.009020510129630566,\n",
       " 0.01367646548897028,\n",
       " 0.004031060729175806,\n",
       " -0.01620194874703884,\n",
       " 0.027560150250792503,\n",
       " -0.027197517454624176,\n",
       " -0.02631683647632599,\n",
       " -0.01870153099298477,\n",
       " 0.01629260741174221,\n",
       " 0.02000960148870945,\n",
       " 0.022664597257971764,\n",
       " 0.010393337346613407,\n",
       " 0.006825281772762537,\n",
       " -0.020592406392097473,\n",
       " 0.01139057893306017,\n",
       " 0.007038976531475782,\n",
       " 0.01836480014026165,\n",
       " -0.012109370902180672,\n",
       " 0.026912590488791466,\n",
       " 0.015023390762507915,\n",
       " 0.005624058190733194,\n",
       " 0.012329541146755219,\n",
       " -0.01591702364385128,\n",
       " -0.019854187965393066,\n",
       " 0.006190672982484102,\n",
       " -0.005284089129418135,\n",
       " 0.036133844405412674,\n",
       " 0.0018811615882441401,\n",
       " 0.004795181564986706,\n",
       " -0.012530284933745861,\n",
       " 0.0251900814473629,\n",
       " -0.012051090598106384,\n",
       " -0.022146549075841904,\n",
       " -0.001709558186121285,\n",
       " -0.011973382905125618,\n",
       " 0.02202998846769333,\n",
       " -0.0111833605915308,\n",
       " -0.02994317188858986,\n",
       " -0.027715565636754036,\n",
       " -0.02575993351638317,\n",
       " -0.005439503584057093,\n",
       " -0.001190700801089406,\n",
       " -0.026808980852365494,\n",
       " -0.009881764650344849,\n",
       " -0.005802136845886707,\n",
       " 0.01217412669211626,\n",
       " 0.004154096823185682,\n",
       " -0.005038016475737095,\n",
       " -0.019090067595243454,\n",
       " -0.03222258388996124,\n",
       " 0.002421874087303877,\n",
       " 0.008489510975778103,\n",
       " 0.0016755613032728434,\n",
       " 0.02561747096478939,\n",
       " -0.01798921450972557,\n",
       " 0.03305146098136902,\n",
       " -0.019336139783263206,\n",
       " -0.007828999310731888,\n",
       " -0.006044972222298384,\n",
       " 0.0032361808698624372,\n",
       " 0.003574530826881528,\n",
       " 0.005614344496279955,\n",
       " 0.051209039986133575,\n",
       " 0.029632342979311943,\n",
       " 0.049888018518686295,\n",
       " -0.001864972640760243,\n",
       " 0.023001328110694885,\n",
       " 0.013352685607969761,\n",
       " -0.004270657896995544,\n",
       " -0.028000492602586746,\n",
       " 0.010348008014261723,\n",
       " -0.0023328347597271204,\n",
       " 0.0013420679606497288,\n",
       " 0.00802974309772253,\n",
       " 0.011960431933403015,\n",
       " -0.006125917192548513,\n",
       " 0.01675885170698166,\n",
       " -0.013391539454460144,\n",
       " 0.0092989606782794,\n",
       " 0.0004281990113668144,\n",
       " 0.002470441162586212,\n",
       " -0.015891121700406075,\n",
       " -0.03351770341396332,\n",
       " -0.011604273691773415,\n",
       " -0.013417442329227924,\n",
       " 0.0054783569648861885,\n",
       " 0.011565420776605606,\n",
       " 0.01817053183913231,\n",
       " -0.013650563545525074,\n",
       " 0.0017937410157173872,\n",
       " 0.027430638670921326,\n",
       " 0.0034644457045942545,\n",
       " 0.006786427926272154,\n",
       " 0.01387073379009962,\n",
       " 0.02458137460052967,\n",
       " -0.007019549608230591,\n",
       " -0.016460973769426346,\n",
       " 0.0216544046998024,\n",
       " 0.0021207588724792004,\n",
       " -0.036133844405412674,\n",
       " 0.0015225752722471952,\n",
       " -0.02381725423038006,\n",
       " -0.01907711662352085,\n",
       " 0.04100349545478821,\n",
       " 0.01879218965768814,\n",
       " 0.026964396238327026,\n",
       " 0.023376913741230965,\n",
       " 0.006708721164613962,\n",
       " -0.022379672154784203,\n",
       " 0.001480483915656805,\n",
       " -0.02100684493780136,\n",
       " -0.010516373440623283,\n",
       " -0.0027780320961028337,\n",
       " -0.030305804684758186,\n",
       " -0.007349805440753698,\n",
       " -0.02792278490960598,\n",
       " -0.00415733503177762,\n",
       " -0.0233121570199728,\n",
       " -3.761412517633289e-05,\n",
       " 0.003548628417775035,\n",
       " -0.022638695314526558,\n",
       " 0.01311308890581131,\n",
       " -0.035149551928043365,\n",
       " -0.018351849168539047,\n",
       " 0.020177967846393585,\n",
       " 0.03004678152501583,\n",
       " 0.04276485741138458,\n",
       " 0.0018876371905207634,\n",
       " 0.031238291412591934,\n",
       " 0.020838478580117226,\n",
       " 0.01611129194498062,\n",
       " 0.0078095728531479836,\n",
       " 0.0006269189761951566,\n",
       " -0.011759688146412373,\n",
       " -0.004918217658996582,\n",
       " 0.02929561212658882,\n",
       " 0.012530284933745861,\n",
       " -0.016655242070555687,\n",
       " -0.028751662001013756,\n",
       " 0.0006714386981911957,\n",
       " -0.011319347657263279,\n",
       " -0.008793864399194717,\n",
       " -0.023053133860230446,\n",
       " 0.0043839807622134686,\n",
       " 0.0008523507858626544,\n",
       " 0.007388658821582794,\n",
       " -0.027845077216625214,\n",
       " -0.008308193646371365,\n",
       " -0.027819175273180008,\n",
       " 0.03046122007071972,\n",
       " -0.0298913661390543,\n",
       " 0.011733786202967167,\n",
       " -0.01756182499229908,\n",
       " 0.000912250077817589,\n",
       " -0.010678263381123543,\n",
       " -0.0038400304038077593,\n",
       " -0.01780789904296398,\n",
       " 0.004863175097852945,\n",
       " -0.01563209667801857,\n",
       " 0.015049292705953121,\n",
       " 0.01907711662352085,\n",
       " -0.004762803204357624,\n",
       " -0.0005079298280179501,\n",
       " -0.007971462793648243,\n",
       " -0.0029949648305773735,\n",
       " 0.017497070133686066,\n",
       " -0.005164290312677622,\n",
       " 0.004678620491176844,\n",
       " 0.002227606251835823,\n",
       " 0.009693971835076809,\n",
       " -0.015282414853572845,\n",
       " -0.020980941131711006,\n",
       " -0.0005581157165579498,\n",
       " 0.025539763271808624,\n",
       " 0.0036878539249300957,\n",
       " -0.018779238685965538,\n",
       " -0.0062651424668729305,\n",
       " 0.013495149090886116,\n",
       " 0.019271383062005043,\n",
       " -0.022094745188951492,\n",
       " -0.01191510260105133,\n",
       " 0.0022243682760745287,\n",
       " 0.001487768953666091,\n",
       " -0.007550548762083054,\n",
       " 0.00642703240737319,\n",
       " 0.011468286626040936,\n",
       " -0.0031973272562026978,\n",
       " 0.005617582239210606,\n",
       " -0.010885482653975487,\n",
       " -0.015463731251657009,\n",
       " -0.010820726864039898,\n",
       " 0.010263824835419655,\n",
       " 0.019232530146837234,\n",
       " -0.02976185455918312,\n",
       " -0.007058403454720974,\n",
       " 0.006980696227401495,\n",
       " 0.014764366671442986,\n",
       " 0.014401732943952084,\n",
       " 0.011202787049114704,\n",
       " -0.0256563238799572,\n",
       " -0.006223050877451897,\n",
       " 0.041599251329898834,\n",
       " -0.010561702772974968,\n",
       " 0.004400169942528009,\n",
       " 0.019038261845707893,\n",
       " 0.01250438205897808,\n",
       " -0.020514698699116707,\n",
       " 0.012879966758191586,\n",
       " 0.003963066730648279,\n",
       " -0.011377627961337566,\n",
       " 0.002964205574244261,\n",
       " -0.014531245455145836,\n",
       " 0.010127837769687176,\n",
       " 0.0036910916678607464,\n",
       " 9.900584700517356e-05,\n",
       " 0.009901191107928753,\n",
       " -0.0047207120805978775,\n",
       " -0.021123405545949936,\n",
       " 0.006155057344585657,\n",
       " 0.020048456266522408,\n",
       " 0.005287326872348785,\n",
       " 0.0012433150550350547,\n",
       " -0.0031487601809203625,\n",
       " 0.01092433650046587,\n",
       " 0.006857659667730331,\n",
       " 0.0003286366700194776,\n",
       " -0.0029269708320498466,\n",
       " -0.028932977467775345,\n",
       " -0.008146303705871105,\n",
       " 0.0010247635655105114,\n",
       " -0.001275693066418171,\n",
       " -0.005267899949103594,\n",
       " -0.04025232419371605,\n",
       " 0.002982013626024127,\n",
       " -0.01292529609054327,\n",
       " 0.013326783664524555,\n",
       " 0.0022923622746020555,\n",
       " -0.0043321759440004826,\n",
       " -0.0019523932132869959,\n",
       " 0.002883260603994131,\n",
       " -0.02424464374780655,\n",
       " 0.004963546991348267,\n",
       " -0.011435908265411854,\n",
       " -0.01262094359844923,\n",
       " -0.0013760648434981704,\n",
       " 0.010419239290058613,\n",
       " 0.023804303258657455,\n",
       " -0.0070001231506466866,\n",
       " -0.011053848080337048,\n",
       " -0.00971987470984459,\n",
       " -0.004335413686931133,\n",
       " -0.014803220517933369,\n",
       " -0.034864626824855804,\n",
       " -0.0060579231940209866,\n",
       " -0.03499414026737213,\n",
       " 0.033932141959667206,\n",
       " 0.009033461101353168,\n",
       " -0.008515412919223309,\n",
       " -0.015580291859805584,\n",
       " -0.007634731475263834,\n",
       " -0.015386024489998817,\n",
       " 0.0038044145330786705,\n",
       " -0.009085265919566154,\n",
       " 0.008159255608916283,\n",
       " 0.016305558383464813,\n",
       " 0.01779494620859623,\n",
       " -0.013521051965653896,\n",
       " 0.013585807755589485,\n",
       " -0.018429554998874664,\n",
       " 0.008651400916278362,\n",
       " -0.017030825838446617,\n",
       " 0.0007689774502068758,\n",
       " 0.003988969139754772,\n",
       " 0.003095336491242051,\n",
       " -0.005572253372520208,\n",
       " -0.009991849772632122,\n",
       " -0.0282595157623291,\n",
       " 0.00499268714338541,\n",
       " 0.019284335896372795,\n",
       " -0.011002043262124062,\n",
       " 0.007524646352976561,\n",
       " -0.0025449106469750404,\n",
       " -0.006890037562698126,\n",
       " 0.0038529816083610058,\n",
       " 0.01945270039141178,\n",
       " -0.015606194734573364,\n",
       " 0.008742059580981731,\n",
       " 0.006485312711447477,\n",
       " 0.015657998621463776,\n",
       " -0.02217245288193226,\n",
       " -0.013430393300950527,\n",
       " 0.00430951127782464,\n",
       " -0.01346924714744091,\n",
       " 0.0048275594599545,\n",
       " -0.016914265230298042,\n",
       " 0.004960309248417616,\n",
       " 0.0024623465724289417,\n",
       " -0.008852144703269005,\n",
       " -0.017017874866724014,\n",
       " 0.008567217737436295,\n",
       " -0.0020122926216572523,\n",
       " -0.005808612797409296,\n",
       " 0.023946765810251236,\n",
       " -0.009849386289715767,\n",
       " -0.008910425007343292,\n",
       " 0.023946765810251236,\n",
       " 0.00650797737762332,\n",
       " -0.0021774203050881624,\n",
       " -0.003538914956152439,\n",
       " 0.00719439098611474,\n",
       " 0.003470921190455556,\n",
       " -0.015463731251657009,\n",
       " 0.017108533531427383,\n",
       " -0.02043699100613594,\n",
       " 0.005847466178238392,\n",
       " -0.016422120854258537,\n",
       " 0.006232764571905136,\n",
       " -0.0092989606782794,\n",
       " 0.0031293334905058146,\n",
       " -0.022586891427636147,\n",
       " 0.0004630053590517491,\n",
       " -0.015023390762507915,\n",
       " 0.0010061463108286262,\n",
       " -0.008010316640138626,\n",
       " -0.02114930748939514,\n",
       " 0.003976018168032169,\n",
       " -0.0018552591791376472,\n",
       " 0.0032151350751519203,\n",
       " -0.019362041726708412,\n",
       " -0.018610872328281403,\n",
       " 0.0021790391765534878,\n",
       " -0.003228086279705167,\n",
       " -0.011876249685883522,\n",
       " 0.02217245288193226,\n",
       " -0.0016083769733086228,\n",
       " -0.023286255076527596,\n",
       " 0.010412763804197311,\n",
       " 0.023428719490766525,\n",
       " -0.003649000311270356,\n",
       " -7.249636109918356e-05,\n",
       " 0.22524724900722504,\n",
       " -0.03947525471448898,\n",
       " -0.00920830201357603,\n",
       " 0.00249472470022738,\n",
       " -0.00039440448745153844,\n",
       " 0.013818928971886635,\n",
       " 0.006773476954549551,\n",
       " -0.0019070639973506331,\n",
       " 0.0065209283493459225,\n",
       " 0.007252671290189028,\n",
       " 0.02901068516075611,\n",
       " -0.0054265521466732025,\n",
       " -0.035434480756521225,\n",
       " -0.0013873971765860915,\n",
       " 0.027560150250792503,\n",
       " 0.003208659589290619,\n",
       " -0.02345462143421173,\n",
       " -0.013158418238162994,\n",
       " 0.0010547132696956396,\n",
       " -0.022923622280359268,\n",
       " 0.015023390762507915,\n",
       " 0.004717474337667227,\n",
       " -0.03678140416741371,\n",
       " -0.025293691083788872,\n",
       " -0.0012530285166576505,\n",
       " -0.00029342560446821153,\n",
       " -0.010199069045484066,\n",
       " 0.011714359745383263,\n",
       " -0.0038885974790900946,\n",
       " 0.0067540500313043594,\n",
       " -0.011500664055347443,\n",
       " -0.0008337334147654474,\n",
       " 0.005873368587344885,\n",
       " -0.00744046363979578,\n",
       " -0.003564817365258932,\n",
       " -0.010017752647399902,\n",
       " 0.0010838534217327833,\n",
       " -0.0056078690104186535,\n",
       " 0.030720243230462074,\n",
       " 0.0081204017624259,\n",
       " 0.020540600642561913,\n",
       " -0.020281577482819557,\n",
       " 0.02322150021791458,\n",
       " -0.01736755669116974,\n",
       " 0.005954313557595015,\n",
       " 0.009797581471502781,\n",
       " ...]"
      ]
     },
     "execution_count": 14,
     "metadata": {},
     "output_type": "execute_result"
    }
   ],
   "source": [
    "vector = embedding.embed_query(sample_text)\n",
    "vector"
   ]
  },
  {
   "cell_type": "code",
   "execution_count": 15,
   "id": "6d31c38d-8eac-4128-989c-804c1b9358b6",
   "metadata": {},
   "outputs": [
    {
     "data": {
      "text/plain": [
       "1536"
      ]
     },
     "execution_count": 15,
     "metadata": {},
     "output_type": "execute_result"
    }
   ],
   "source": [
    "len(vector)"
   ]
  },
  {
   "cell_type": "markdown",
   "id": "96b61caf-e04c-4c10-b08a-47a8d7a8020d",
   "metadata": {},
   "source": [
    "## Initialize the ChromaDb Vector store and store the chunks in Vector Representation"
   ]
  },
  {
   "cell_type": "code",
   "execution_count": 16,
   "id": "f694dc52-8213-48fa-88e5-a1dfc603b1b7",
   "metadata": {},
   "outputs": [],
   "source": [
    "# Create a ChromaDB vector store\n",
    "\n",
    "persist_dir = \"./chroma_db\"\n",
    "\n",
    "# Initialize ChromaDB with OpenAI embedding\n",
    "vectore_store = Chroma.from_documents(\n",
    "    documents=chunks,\n",
    "    embedding=OpenAIEmbeddings(),\n",
    "    persist_directory=persist_dir,\n",
    "    collection_name=\"rag_collection\"\n",
    ")\n",
    "\n"
   ]
  },
  {
   "cell_type": "code",
   "execution_count": 17,
   "id": "005ad6a6-44b4-4009-9479-2e4604410a79",
   "metadata": {},
   "outputs": [
    {
     "data": {
      "text/plain": [
       "35"
      ]
     },
     "execution_count": 17,
     "metadata": {},
     "output_type": "execute_result"
    }
   ],
   "source": [
    "vectore_store._collection.count()"
   ]
  },
  {
   "cell_type": "markdown",
   "id": "4f8b4b31-8ab4-4f91-8795-d83af8eb695e",
   "metadata": {},
   "source": [
    "## Test Similarity Search"
   ]
  },
  {
   "cell_type": "code",
   "execution_count": 18,
   "id": "935cb095-f82d-48eb-ba69-b5d96d50a7f8",
   "metadata": {},
   "outputs": [
    {
     "data": {
      "text/plain": [
       "[Document(metadata={'source': '/data/oybek/PKD/xudamadarsam/mashq/vector/doc/doc_0.txt'}, page_content='Machine Learning Fundamentals\\n\\n    Machine learning is a subset of artificial intelligence that enables systems to learn \\n    and improve from experience without being explicitly programmed. There are three main \\n    types of machine learning: supervised learning, unsupervised learning, and reinforcement \\n    learning. Supervised learning uses labeled data to train models, while unsupervised \\n    learning finds patterns in unlabeled data. Reinforcement learning learns through'),\n",
       " Document(metadata={'source': '/data/oybek/PKD/xudamadarsam/mashq/vector/doc/doc_0.txt'}, page_content='Machine Learning Fundamentals\\n\\n    Machine learning is a subset of artificial intelligence that enables systems to learn \\n    and improve from experience without being explicitly programmed. There are three main \\n    types of machine learning: supervised learning, unsupervised learning, and reinforcement \\n    learning. Supervised learning uses labeled data to train models, while unsupervised \\n    learning finds patterns in unlabeled data. Reinforcement learning learns through'),\n",
       " Document(metadata={'source': '/data/oybek/PKD/xudamadarsam/mashq/vector/doc/doc_0.txt'}, page_content='Machine Learning Fundamentals\\n\\n    Machine learning is a subset of artificial intelligence that enables systems to learn \\n    and improve from experience without being explicitly programmed. There are three main \\n    types of machine learning: supervised learning, unsupervised learning, and reinforcement \\n    learning. Supervised learning uses labeled data to train models, while unsupervised \\n    learning finds patterns in unlabeled data. Reinforcement learning learns through')]"
      ]
     },
     "execution_count": 18,
     "metadata": {},
     "output_type": "execute_result"
    }
   ],
   "source": [
    "query = \"What are the types of machine learning?\"\n",
    "similar_docs = vectore_store.similarity_search(query, k =3)\n",
    "similar_docs"
   ]
  },
  {
   "cell_type": "code",
   "execution_count": 19,
   "id": "0a11d07b-f112-4533-b289-6cbd861906f3",
   "metadata": {},
   "outputs": [
    {
     "data": {
      "text/plain": [
       "[Document(metadata={'source': '/data/oybek/PKD/xudamadarsam/mashq/vector/doc/doc_1.txt'}, page_content='Deep Learning and Neural Networks\\n\\n    Deep learning is a subset of machine learning based on artificial neural networks. \\n    The human brain inspires these networks and consists of layers of interconnected \\n    nodes. Deep learning has revolutionized computer vision, natural language \\n    processing, and speech recognition. Convolutional Neural Networks (CNNs) are particularly \\n    effective for image processing, while Recurrent Neural Networks (RNNs) and Transformers \\n    excel at'),\n",
       " Document(metadata={'source': '/data/oybek/PKD/xudamadarsam/mashq/vector/doc/doc_1.txt'}, page_content='Deep Learning and Neural Networks\\n\\n    Deep learning is a subset of machine learning based on artificial neural networks. \\n    The human brain inspires these networks and consists of layers of interconnected \\n    nodes. Deep learning has revolutionized computer vision, natural language \\n    processing, and speech recognition. Convolutional Neural Networks (CNNs) are particularly \\n    effective for image processing, while Recurrent Neural Networks (RNNs) and Transformers \\n    excel at'),\n",
       " Document(metadata={'source': '/data/oybek/PKD/xudamadarsam/mashq/vector/doc/doc_1.txt'}, page_content='Deep Learning and Neural Networks\\n\\n    Deep learning is a subset of machine learning based on artificial neural networks. \\n    The human brain inspires these networks and consists of layers of interconnected \\n    nodes. Deep learning has revolutionized computer vision, natural language \\n    processing, and speech recognition. Convolutional Neural Networks (CNNs) are particularly \\n    effective for image processing, while Recurrent Neural Networks (RNNs) and Transformers \\n    excel at')]"
      ]
     },
     "execution_count": 19,
     "metadata": {},
     "output_type": "execute_result"
    }
   ],
   "source": [
    "query = \"What is deep learning?\"\n",
    "similar_docs = vectore_store.similarity_search(query, k =3)\n",
    "similar_docs"
   ]
  },
  {
   "cell_type": "code",
   "execution_count": 20,
   "id": "706c309d-a58a-4910-b073-c0e9fe93a817",
   "metadata": {},
   "outputs": [
    {
     "name": "stdout",
     "output_type": "stream",
     "text": [
      "Query: What is deep learning?\n",
      "\n",
      " Top 3 similar chunks\n",
      "\n",
      " -- Chunks 1 ---\n",
      "Deep Learning and Neural Networks\n",
      "\n",
      "    Deep learning is a subset of machine learning based on artificial neural networks. \n",
      "    The human brain inspires these networks and consists of layers of interco...\n",
      "Source:m/data/oybek/PKD/xudamadarsam/mashq/vector/doc/doc_1.txt\n",
      "\n",
      " -- Chunks 2 ---\n",
      "Deep Learning and Neural Networks\n",
      "\n",
      "    Deep learning is a subset of machine learning based on artificial neural networks. \n",
      "    The human brain inspires these networks and consists of layers of interco...\n",
      "Source:m/data/oybek/PKD/xudamadarsam/mashq/vector/doc/doc_1.txt\n",
      "\n",
      " -- Chunks 3 ---\n",
      "Deep Learning and Neural Networks\n",
      "\n",
      "    Deep learning is a subset of machine learning based on artificial neural networks. \n",
      "    The human brain inspires these networks and consists of layers of interco...\n",
      "Source:m/data/oybek/PKD/xudamadarsam/mashq/vector/doc/doc_1.txt\n"
     ]
    }
   ],
   "source": [
    "print(f\"Query: {query}\")\n",
    "print(f\"\\n Top {len(similar_docs)} similar chunks\")\n",
    "for i, doc in enumerate(similar_docs):\n",
    "    print(f\"\\n -- Chunks {i+1} ---\")\n",
    "    print(doc.page_content[:200] + \"...\")\n",
    "    print(f\"Source:m{doc.metadata.get(\"source\", \"Unknown\")}\")"
   ]
  },
  {
   "cell_type": "markdown",
   "id": "16a4727e-53e7-4c35-a2c4-73d9ed4f783d",
   "metadata": {},
   "source": [
    "## Advanced Similaity Search with Score"
   ]
  },
  {
   "cell_type": "code",
   "execution_count": 21,
   "id": "e53a6e7f-9bff-489f-92d1-9d7ff7ba41bf",
   "metadata": {},
   "outputs": [
    {
     "data": {
      "text/plain": [
       "[(Document(metadata={'source': '/data/oybek/PKD/xudamadarsam/mashq/vector/doc/doc_1.txt'}, page_content='Deep Learning and Neural Networks\\n\\n    Deep learning is a subset of machine learning based on artificial neural networks. \\n    The human brain inspires these networks and consists of layers of interconnected \\n    nodes. Deep learning has revolutionized computer vision, natural language \\n    processing, and speech recognition. Convolutional Neural Networks (CNNs) are particularly \\n    effective for image processing, while Recurrent Neural Networks (RNNs) and Transformers \\n    excel at'),\n",
       "  0.2371392846107483),\n",
       " (Document(metadata={'source': '/data/oybek/PKD/xudamadarsam/mashq/vector/doc/doc_1.txt'}, page_content='Deep Learning and Neural Networks\\n\\n    Deep learning is a subset of machine learning based on artificial neural networks. \\n    The human brain inspires these networks and consists of layers of interconnected \\n    nodes. Deep learning has revolutionized computer vision, natural language \\n    processing, and speech recognition. Convolutional Neural Networks (CNNs) are particularly \\n    effective for image processing, while Recurrent Neural Networks (RNNs) and Transformers \\n    excel at'),\n",
       "  0.2371392846107483),\n",
       " (Document(metadata={'source': '/data/oybek/PKD/xudamadarsam/mashq/vector/doc/doc_1.txt'}, page_content='Deep Learning and Neural Networks\\n\\n    Deep learning is a subset of machine learning based on artificial neural networks. \\n    The human brain inspires these networks and consists of layers of interconnected \\n    nodes. Deep learning has revolutionized computer vision, natural language \\n    processing, and speech recognition. Convolutional Neural Networks (CNNs) are particularly \\n    effective for image processing, while Recurrent Neural Networks (RNNs) and Transformers \\n    excel at'),\n",
       "  0.2371392846107483)]"
      ]
     },
     "execution_count": 21,
     "metadata": {},
     "output_type": "execute_result"
    }
   ],
   "source": [
    "result_score = vectore_store.similarity_search_with_score(query, k=3)\n",
    "result_score"
   ]
  },
  {
   "cell_type": "markdown",
   "id": "32c3cd71-be95-44df-809e-451fadbd2465",
   "metadata": {},
   "source": [
    "`--------------------------------------------------------------------------------------------------`"
   ]
  },
  {
   "cell_type": "markdown",
   "id": "71f41ffd-3b1f-4602-b5b4-1f6b5812f47a",
   "metadata": {},
   "source": [
    "## The Similarity score represents how closely related a document chunk is to your query. The scoring depends on the distance metric used:\n",
    "# ChromaDB Default: Uses L2 distance (Euclidean distance)\n",
    "- Lower socres == More similar (closer in vector space)\n",
    "- Score of 0 == identical vectors\n",
    "- Typical range: 0 to 2 (but can be higher)\n",
    "# Cosine similarity (if configured):\n",
    "- Higher scores == More similar\n",
    "- range -1 to 1 (1 being identical)"
   ]
  },
  {
   "cell_type": "markdown",
   "id": "48b33635-1201-4743-9610-c2b8c13ce3f2",
   "metadata": {},
   "source": [
    "`-------------------------------------------------`. `------------------------------------`"
   ]
  },
  {
   "cell_type": "markdown",
   "id": "e3131b72-aa71-49e7-8cc4-fed18eabd70c",
   "metadata": {},
   "source": [
    "# initialize LLm RAG Chain, Prompt Template, Query the RAG system"
   ]
  },
  {
   "cell_type": "code",
   "execution_count": 22,
   "id": "47e5d2bd-9b76-4468-93f2-73f94443f26d",
   "metadata": {},
   "outputs": [],
   "source": [
    "from langchain_openai import ChatOpenAI\n",
    "\n",
    "llm = ChatOpenAI(\n",
    "    model_name = \"gpt-3.5-turbo\"\n",
    ")"
   ]
  },
  {
   "cell_type": "code",
   "execution_count": 23,
   "id": "7cb900ae-cf1d-457b-929f-30919c0fb18b",
   "metadata": {},
   "outputs": [
    {
     "data": {
      "text/plain": [
       "'Large Language Models (LLMs) are advanced natural language processing models that are capable of understanding and generating human-like text. These models are trained on massive amounts of data and use powerful neural networks to process and generate text. LLMs have become increasingly popular in recent years due to their ability to perform a wide range of language-related tasks, such as text generation, language translation, and sentiment analysis. Examples of large language models include GPT-3 (Generative Pre-trained Transformer 3) and BERT (Bidirectional Encoder Representations from Transformers).'"
      ]
     },
     "execution_count": 23,
     "metadata": {},
     "output_type": "execute_result"
    }
   ],
   "source": [
    "test1 = llm.invoke(\"What is Large Language model\")\n",
    "test1.content"
   ]
  },
  {
   "cell_type": "code",
   "execution_count": 24,
   "id": "4d380659-a9f5-4ee2-b732-dbc188472a9c",
   "metadata": {},
   "outputs": [
    {
     "data": {
      "text/plain": [
       "ChatOpenAI(client=<openai.resources.chat.completions.completions.Completions object at 0x7fabe0027b10>, async_client=<openai.resources.chat.completions.completions.AsyncCompletions object at 0x7fabde44ead0>, root_client=<openai.OpenAI object at 0x7fabde449e00>, root_async_client=<openai.AsyncOpenAI object at 0x7fabde44ab10>, model_kwargs={}, openai_api_key=SecretStr('**********'))"
      ]
     },
     "execution_count": 24,
     "metadata": {},
     "output_type": "execute_result"
    }
   ],
   "source": [
    "from langchain.chat_models.base import init_chat_model\n",
    "llm = init_chat_model('openai:gpt-3.5-turbo')\n",
    "llm"
   ]
  },
  {
   "cell_type": "code",
   "execution_count": 25,
   "id": "cc897e96-2217-4b21-98da-b54e91fde70d",
   "metadata": {},
   "outputs": [
    {
     "data": {
      "text/plain": [
       "AIMessage(content='AI, or artificial intelligence, refers to the simulation of human intelligence processes by machines, especially computer systems. This includes learning, reasoning, problem-solving, perception, and language understanding. AI technologies are used to develop systems that can perform tasks that typically require human intelligence, such as visual perception, speech recognition, decision-making, and language translation.', additional_kwargs={'refusal': None}, response_metadata={'token_usage': {'completion_tokens': 68, 'prompt_tokens': 10, 'total_tokens': 78, 'completion_tokens_details': {'accepted_prediction_tokens': 0, 'audio_tokens': 0, 'reasoning_tokens': 0, 'rejected_prediction_tokens': 0}, 'prompt_tokens_details': {'audio_tokens': 0, 'cached_tokens': 0}}, 'model_name': 'gpt-3.5-turbo-0125', 'system_fingerprint': None, 'id': 'chatcmpl-CNZjmKehaxKRiseFybZRxvionjt2E', 'service_tier': 'default', 'finish_reason': 'stop', 'logprobs': None}, id='run--35fe9b04-7e09-47c7-abe4-67e8adaf0a91-0', usage_metadata={'input_tokens': 10, 'output_tokens': 68, 'total_tokens': 78, 'input_token_details': {'audio': 0, 'cache_read': 0}, 'output_token_details': {'audio': 0, 'reasoning': 0}})"
      ]
     },
     "execution_count": 25,
     "metadata": {},
     "output_type": "execute_result"
    }
   ],
   "source": [
    "llm.invoke(\"What is AI\")"
   ]
  },
  {
   "cell_type": "code",
   "execution_count": 26,
   "id": "42d77138-4c34-43a6-b5cc-bb9252d212a1",
   "metadata": {},
   "outputs": [
    {
     "data": {
      "text/plain": [
       "'As an AI, I believe that AGI (Artificial General Intelligence) has the potential to greatly benefit society by revolutionizing industries, solving complex problems, and advancing technology. However, there are also ethical concerns and potential risks associated with AGI, such as job displacement, loss of privacy, and misuse of power. It is important for researchers and policymakers to carefully consider these implications and ensure that AGI is developed and used responsibly.'"
      ]
     },
     "execution_count": 26,
     "metadata": {},
     "output_type": "execute_result"
    }
   ],
   "source": [
    "s = llm.invoke(\"how do think about AGI\")\n",
    "s.content"
   ]
  },
  {
   "cell_type": "markdown",
   "id": "b4ff5e65-6bf9-4a1c-82e2-977fa094b4e0",
   "metadata": {},
   "source": [
    "## Modern RAG Chain"
   ]
  },
  {
   "cell_type": "code",
   "execution_count": 25,
   "id": "95efe342-3015-4859-b1a7-a139956a9825",
   "metadata": {},
   "outputs": [],
   "source": [
    "from langchain.chains import create_retrieval_chain\n",
    "from langchain_core.prompts import ChatPromptTemplate\n",
    "from langchain.chains.combine_documents import create_stuff_documents_chain"
   ]
  },
  {
   "cell_type": "code",
   "execution_count": 26,
   "id": "3982d659-1dbb-4b90-ad8d-da0d2f84de41",
   "metadata": {},
   "outputs": [
    {
     "data": {
      "text/plain": [
       "VectorStoreRetriever(tags=['Chroma', 'OpenAIEmbeddings'], vectorstore=<langchain_community.vectorstores.chroma.Chroma object at 0x7fabe0c896a0>, search_kwargs={})"
      ]
     },
     "execution_count": 26,
     "metadata": {},
     "output_type": "execute_result"
    }
   ],
   "source": [
    "## Convert vector store to retiever\n",
    "\n",
    "retriever = vectore_store.as_retriever(\n",
    "    search_kwarg = {\"k\":3}\n",
    ")\n",
    "\n",
    "retriever"
   ]
  },
  {
   "cell_type": "code",
   "execution_count": 27,
   "id": "562eb836-08e3-4d74-b2b3-0f92d111f3a1",
   "metadata": {},
   "outputs": [],
   "source": [
    "## Create a prompt remplate\n",
    "from langchain_core.prompts import ChatPromptTemplate\n",
    "\n",
    "system_prompt = \"\"\"You are an assistant for question-answering tasks. \n",
    "Use the following pieces of retrieved context to answer the question. \n",
    "If you don't know the answer, just say that you don't know. \n",
    "Use three sentences maximum and keep the answer concise.\n",
    "\n",
    "Context: {context}\"\"\"\n",
    "\n",
    "prompt = ChatPromptTemplate.from_messages([\n",
    "    (\"system\", system_prompt),\n",
    "    (\"human\", \"{input}\")\n",
    "])"
   ]
  },
  {
   "cell_type": "code",
   "execution_count": 28,
   "id": "e9601a00-7446-4af6-b541-3c462e9157cf",
   "metadata": {},
   "outputs": [
    {
     "data": {
      "text/plain": [
       "ChatPromptTemplate(input_variables=['context', 'input'], input_types={}, partial_variables={}, messages=[SystemMessagePromptTemplate(prompt=PromptTemplate(input_variables=['context'], input_types={}, partial_variables={}, template=\"You are an assistant for question-answering tasks. \\nUse the following pieces of retrieved context to answer the question. \\nIf you don't know the answer, just say that you don't know. \\nUse three sentences maximum and keep the answer concise.\\n\\nContext: {context}\"), additional_kwargs={}), HumanMessagePromptTemplate(prompt=PromptTemplate(input_variables=['input'], input_types={}, partial_variables={}, template='{input}'), additional_kwargs={})])"
      ]
     },
     "execution_count": 28,
     "metadata": {},
     "output_type": "execute_result"
    }
   ],
   "source": [
    "prompt"
   ]
  },
  {
   "cell_type": "markdown",
   "id": "ee7040d2-d2d1-4f37-8bb7-89260c26d0b8",
   "metadata": {},
   "source": [
    "`----------------------------------------------------------`"
   ]
  },
  {
   "cell_type": "markdown",
   "id": "d526b69d-fe1c-4eed-95fa-f83912de693a",
   "metadata": {},
   "source": [
    "##### What is create_stuff_documents_chain?\n",
    "`create_stuff_documents_chain` creates a chain that \"stuffs\" (inserts) all retrieved documents into a single prompt and sends it to the LLM. It's called \"stuff\" because it literally stuffs all the documents into the context window at once."
   ]
  },
  {
   "cell_type": "code",
   "execution_count": 29,
   "id": "3e7ac2f7-031a-43c2-ae6b-aa9f5d7fe1c9",
   "metadata": {},
   "outputs": [
    {
     "data": {
      "text/plain": [
       "RunnableBinding(bound=RunnableBinding(bound=RunnableAssign(mapper={\n",
       "  context: RunnableLambda(format_docs)\n",
       "}), kwargs={}, config={'run_name': 'format_inputs'}, config_factories=[])\n",
       "| ChatPromptTemplate(input_variables=['context', 'input'], input_types={}, partial_variables={}, messages=[SystemMessagePromptTemplate(prompt=PromptTemplate(input_variables=['context'], input_types={}, partial_variables={}, template=\"You are an assistant for question-answering tasks. \\nUse the following pieces of retrieved context to answer the question. \\nIf you don't know the answer, just say that you don't know. \\nUse three sentences maximum and keep the answer concise.\\n\\nContext: {context}\"), additional_kwargs={}), HumanMessagePromptTemplate(prompt=PromptTemplate(input_variables=['input'], input_types={}, partial_variables={}, template='{input}'), additional_kwargs={})])\n",
       "| ChatOpenAI(client=<openai.resources.chat.completions.completions.Completions object at 0x7fabe0027b10>, async_client=<openai.resources.chat.completions.completions.AsyncCompletions object at 0x7fabde44ead0>, root_client=<openai.OpenAI object at 0x7fabde449e00>, root_async_client=<openai.AsyncOpenAI object at 0x7fabde44ab10>, model_kwargs={}, openai_api_key=SecretStr('**********'))\n",
       "| StrOutputParser(), kwargs={}, config={'run_name': 'stuff_documents_chain'}, config_factories=[])"
      ]
     },
     "execution_count": 29,
     "metadata": {},
     "output_type": "execute_result"
    }
   ],
   "source": [
    "## Create a document chain\n",
    "from langchain.chains.combine_documents import create_stuff_documents_chain\n",
    "document_chain = create_stuff_documents_chain(llm, prompt)\n",
    "document_chain"
   ]
  },
  {
   "cell_type": "markdown",
   "id": "5a8d7906-0aef-41bf-8f38-7a11a04e891c",
   "metadata": {},
   "source": [
    "`>>>>>>>>>>>>>>>>>>>>>>>>>>>>>>>>>>>>>>>>>>>>>>>>>>>>>>>>>>>>>>>>>>>>>>>>>>>>>>>>>>>>`"
   ]
  },
  {
   "cell_type": "markdown",
   "id": "74cfc189-5185-4b18-af8a-b9ebd42339fc",
   "metadata": {},
   "source": [
    "### `This chain:`\n",
    "- Takes retrievel documents\n",
    "- `Stuffs` them into the prompts placeholder\n",
    "- Sends the complete prompt to the LLM\n",
    "- Returns the LLM's response"
   ]
  },
  {
   "cell_type": "markdown",
   "id": "4ee0b463-ff03-4faa-8cc8-5c18924caac0",
   "metadata": {},
   "source": [
    "What is create_retrieval_chain?\n",
    "create_retrieval_chain is a function that combines a retriever (which fetches relevant documents) with a document chain (which processes those documents with an LLM) to create a complete RAG pipeline."
   ]
  },
  {
   "cell_type": "code",
   "execution_count": 30,
   "id": "1a3cc37d-6678-4e6f-8e38-101b5cd368bb",
   "metadata": {},
   "outputs": [
    {
     "data": {
      "text/plain": [
       "RunnableBinding(bound=RunnableAssign(mapper={\n",
       "  context: RunnableBinding(bound=RunnableLambda(lambda x: x['input'])\n",
       "           | VectorStoreRetriever(tags=['Chroma', 'OpenAIEmbeddings'], vectorstore=<langchain_community.vectorstores.chroma.Chroma object at 0x7fabe0c896a0>, search_kwargs={}), kwargs={}, config={'run_name': 'retrieve_documents'}, config_factories=[])\n",
       "})\n",
       "| RunnableAssign(mapper={\n",
       "    answer: RunnableBinding(bound=RunnableBinding(bound=RunnableAssign(mapper={\n",
       "              context: RunnableLambda(format_docs)\n",
       "            }), kwargs={}, config={'run_name': 'format_inputs'}, config_factories=[])\n",
       "            | ChatPromptTemplate(input_variables=['context', 'input'], input_types={}, partial_variables={}, messages=[SystemMessagePromptTemplate(prompt=PromptTemplate(input_variables=['context'], input_types={}, partial_variables={}, template=\"You are an assistant for question-answering tasks. \\nUse the following pieces of retrieved context to answer the question. \\nIf you don't know the answer, just say that you don't know. \\nUse three sentences maximum and keep the answer concise.\\n\\nContext: {context}\"), additional_kwargs={}), HumanMessagePromptTemplate(prompt=PromptTemplate(input_variables=['input'], input_types={}, partial_variables={}, template='{input}'), additional_kwargs={})])\n",
       "            | ChatOpenAI(client=<openai.resources.chat.completions.completions.Completions object at 0x7fabe0027b10>, async_client=<openai.resources.chat.completions.completions.AsyncCompletions object at 0x7fabde44ead0>, root_client=<openai.OpenAI object at 0x7fabde449e00>, root_async_client=<openai.AsyncOpenAI object at 0x7fabde44ab10>, model_kwargs={}, openai_api_key=SecretStr('**********'))\n",
       "            | StrOutputParser(), kwargs={}, config={'run_name': 'stuff_documents_chain'}, config_factories=[])\n",
       "  }), kwargs={}, config={'run_name': 'retrieval_chain'}, config_factories=[])"
      ]
     },
     "execution_count": 30,
     "metadata": {},
     "output_type": "execute_result"
    }
   ],
   "source": [
    "### Create The Final RAG Chain\n",
    "from langchain.chains import create_retrieval_chain\n",
    "rag_chain = create_retrieval_chain(retriever, document_chain)\n",
    "rag_chain"
   ]
  },
  {
   "cell_type": "code",
   "execution_count": 31,
   "id": "32865b10-7410-4ad1-98c9-bbad84e05f4c",
   "metadata": {},
   "outputs": [
    {
     "data": {
      "text/plain": [
       "{'input': 'What is Deep learning',\n",
       " 'context': [Document(metadata={'source': '/data/oybek/PKD/xudamadarsam/mashq/vector/doc/doc_1.txt'}, page_content='Deep Learning and Neural Networks\\n\\n    Deep learning is a subset of machine learning based on artificial neural networks. \\n    The human brain inspires these networks and consists of layers of interconnected \\n    nodes. Deep learning has revolutionized computer vision, natural language \\n    processing, and speech recognition. Convolutional Neural Networks (CNNs) are particularly \\n    effective for image processing, while Recurrent Neural Networks (RNNs) and Transformers \\n    excel at'),\n",
       "  Document(metadata={'source': '/data/oybek/PKD/xudamadarsam/mashq/vector/doc/doc_1.txt'}, page_content='Deep Learning and Neural Networks\\n\\n    Deep learning is a subset of machine learning based on artificial neural networks. \\n    The human brain inspires these networks and consists of layers of interconnected \\n    nodes. Deep learning has revolutionized computer vision, natural language \\n    processing, and speech recognition. Convolutional Neural Networks (CNNs) are particularly \\n    effective for image processing, while Recurrent Neural Networks (RNNs) and Transformers \\n    excel at'),\n",
       "  Document(metadata={'source': '/data/oybek/PKD/xudamadarsam/mashq/vector/doc/doc_1.txt'}, page_content='Deep Learning and Neural Networks\\n\\n    Deep learning is a subset of machine learning based on artificial neural networks. \\n    The human brain inspires these networks and consists of layers of interconnected \\n    nodes. Deep learning has revolutionized computer vision, natural language \\n    processing, and speech recognition. Convolutional Neural Networks (CNNs) are particularly \\n    effective for image processing, while Recurrent Neural Networks (RNNs) and Transformers \\n    excel at'),\n",
       "  Document(metadata={'source': '/data/oybek/PKD/xudamadarsam/mashq/vector/doc/doc_1.txt'}, page_content='Deep Learning and Neural Networks\\n\\n    Deep learning is a subset of machine learning based on artificial neural networks. \\n    The human brain inspires these networks and consists of layers of interconnected \\n    nodes. Deep learning has revolutionized computer vision, natural language \\n    processing, and speech recognition. Convolutional Neural Networks (CNNs) are particularly \\n    effective for image processing, while Recurrent Neural Networks (RNNs) and Transformers \\n    excel at')],\n",
       " 'answer': 'Deep learning is a subset of machine learning that uses artificial neural networks inspired by the human brain. It involves interconnected layers of nodes that enable the model to learn complex patterns and representations. Deep learning has made significant advancements in various fields such as computer vision, natural language processing, and speech recognition.'}"
      ]
     },
     "execution_count": 31,
     "metadata": {},
     "output_type": "execute_result"
    }
   ],
   "source": [
    "response = rag_chain.invoke({\"input\":\"What is Deep learning\"})\n",
    "response"
   ]
  },
  {
   "cell_type": "code",
   "execution_count": 32,
   "id": "2604840b-712c-4bea-860e-534f22d69be6",
   "metadata": {},
   "outputs": [
    {
     "data": {
      "text/plain": [
       "'Deep learning is a subset of machine learning that uses artificial neural networks inspired by the human brain. It involves interconnected layers of nodes that enable the model to learn complex patterns and representations. Deep learning has made significant advancements in various fields such as computer vision, natural language processing, and speech recognition.'"
      ]
     },
     "execution_count": 32,
     "metadata": {},
     "output_type": "execute_result"
    }
   ],
   "source": [
    "response['answer']"
   ]
  },
  {
   "cell_type": "code",
   "execution_count": 33,
   "id": "84fdce32-63d6-4c20-b507-94eb62f9ed6b",
   "metadata": {},
   "outputs": [
    {
     "name": "stdout",
     "output_type": "stream",
     "text": [
      "Question: \u001b[91mWhat are the three types of machine learning?\u001b[0m\n",
      "--------------------------------------------------\n",
      "\u001b[32mAnswer!\u001b[0m: \u001b[34mThe three main types of machine learning are supervised learning, unsupervised learning, and reinforcement learning. Supervised learning uses labeled data, unsupervised learning finds patterns in unlabeled data, and reinforcement learning learns through a trial-and-error process.\u001b[0m\n",
      "\n",
      "--Source 1--\n",
      "Machine Learning Fundamentals\n",
      "\n",
      "    Machine learning is a subset of artificial intelligence that enables systems to learn \n",
      "    and improve from experience without being explicitly programmed. There are...\n",
      "\n",
      "--Source 2--\n",
      "Machine Learning Fundamentals\n",
      "\n",
      "    Machine learning is a subset of artificial intelligence that enables systems to learn \n",
      "    and improve from experience without being explicitly programmed. There are...\n",
      "\n",
      "--Source 3--\n",
      "Machine Learning Fundamentals\n",
      "\n",
      "    Machine learning is a subset of artificial intelligence that enables systems to learn \n",
      "    and improve from experience without being explicitly programmed. There are...\n",
      "\n",
      "--Source 4--\n",
      "Machine Learning Fundamentals\n",
      "\n",
      "    Machine learning is a subset of artificial intelligence that enables systems to learn \n",
      "    and improve from experience without being explicitly programmed. There are...\n",
      "\n",
      "================================================================================\n",
      "\n",
      "Question: \u001b[91mWhat is deep learning and how does it relate to neural networks?\u001b[0m\n",
      "--------------------------------------------------\n",
      "\u001b[32mAnswer!\u001b[0m: \u001b[34mDeep learning is a subset of machine learning that is based on artificial neural networks. These networks are inspired by the human brain and consist of interconnected nodes arranged in layers. Deep learning has significantly advanced fields like computer vision, natural language processing, and speech recognition.\u001b[0m\n",
      "\n",
      "--Source 1--\n",
      "Deep Learning and Neural Networks\n",
      "\n",
      "    Deep learning is a subset of machine learning based on artificial neural networks. \n",
      "    The human brain inspires these networks and consists of layers of interco...\n",
      "\n",
      "--Source 2--\n",
      "Deep Learning and Neural Networks\n",
      "\n",
      "    Deep learning is a subset of machine learning based on artificial neural networks. \n",
      "    The human brain inspires these networks and consists of layers of interco...\n",
      "\n",
      "--Source 3--\n",
      "Deep Learning and Neural Networks\n",
      "\n",
      "    Deep learning is a subset of machine learning based on artificial neural networks. \n",
      "    The human brain inspires these networks and consists of layers of interco...\n",
      "\n",
      "--Source 4--\n",
      "Deep Learning and Neural Networks\n",
      "\n",
      "    Deep learning is a subset of machine learning based on artificial neural networks. \n",
      "    The human brain inspires these networks and consists of layers of interco...\n",
      "\n",
      "================================================================================\n",
      "\n",
      "Question: \u001b[91mWhat are CNNs best used for?\u001b[0m\n",
      "--------------------------------------------------\n",
      "\u001b[32mAnswer!\u001b[0m: \u001b[34mConvolutional Neural Networks (CNNs) are best used for tasks involving image recognition, object detection, and computer vision due to their ability to effectively learn spatial hierarchies and patterns in data. They are commonly utilized in applications such as image classification, facial recognition, and autonomous driving.\u001b[0m\n",
      "\n",
      "--Source 1--\n",
      "Networks (RNNs) and Transformers \n",
      "    excel at sequential data processing....\n",
      "\n",
      "--Source 2--\n",
      "Networks (RNNs) and Transformers \n",
      "    excel at sequential data processing....\n",
      "\n",
      "--Source 3--\n",
      "Networks (RNNs) and Transformers \n",
      "    excel at sequential data processing....\n",
      "\n",
      "--Source 4--\n",
      "Networks (RNNs) and Transformers \n",
      "    excel at sequential data processing....\n",
      "\n",
      "================================================================================\n",
      "\n"
     ]
    }
   ],
   "source": [
    "## function to query the modern RAG system\n",
    "def query_rag_modern(question):\n",
    "    print(f'Question: \\033[91m{question}\\033[0m')\n",
    "    print(\"-\"* 50)\n",
    "\n",
    "    # Using create_retrievel_chain approach\n",
    "    result = rag_chain.invoke({'input': question})\n",
    "    print(f\"\\033[32mAnswer!\\033[0m: \\033[34m{result['answer']}\\033[0m\")\n",
    "    for i, doc in enumerate(result['context']):\n",
    "        print(f\"\\n--Source {i+1}--\")\n",
    "        print(doc.page_content[:200]+ \"...\")\n",
    "    return result\n",
    "\n",
    "test_q  = [\n",
    "    \"What are the three types of machine learning?\",\n",
    "    \"What is deep learning and how does it relate to neural networks?\",\n",
    "    \"What are CNNs best used for?\"\n",
    "]\n",
    "\n",
    "for q in test_q:\n",
    "    result = query_rag_modern(q)\n",
    "    print(\"\\n\" + \"=\"*80 + \"\\n\")"
   ]
  },
  {
   "cell_type": "markdown",
   "id": "cf4bbb5f-ffb1-4e80-b9fc-25eeb018924d",
   "metadata": {},
   "source": [
    "## Create RAG Chain alternative -Using LCEL ( Langchain expression Language)"
   ]
  },
  {
   "cell_type": "code",
   "execution_count": 34,
   "id": "f6e11341-7cae-4ac0-8886-3ff9de6de49a",
   "metadata": {},
   "outputs": [],
   "source": [
    "#  more flexible approach using LCEL\n",
    "from langchain_core.output_parsers import StrOutputParser\n",
    "from langchain_core.runnables import RunnablePassthrough, RunnableParallel\n"
   ]
  },
  {
   "cell_type": "code",
   "execution_count": 35,
   "id": "02f07576-4995-4b62-a096-4de109d9e733",
   "metadata": {},
   "outputs": [
    {
     "data": {
      "text/plain": [
       "ChatPromptTemplate(input_variables=['context', 'question'], input_types={}, partial_variables={}, messages=[HumanMessagePromptTemplate(prompt=PromptTemplate(input_variables=['context', 'question'], input_types={}, partial_variables={}, template=\"Use the following context to answer the question. \\nIf you don't know the answer based on the context, say you don't know.\\nProvide specific details from the context to support your answer.\\n\\nContext:\\n{context}\\n\\nQuestion: {question}\\n\\nAnswer:\"), additional_kwargs={})])"
      ]
     },
     "execution_count": 35,
     "metadata": {},
     "output_type": "execute_result"
    }
   ],
   "source": [
    "# Create a custom prompt\n",
    "custom_prompt = ChatPromptTemplate.from_template(\"\"\"Use the following context to answer the question. \n",
    "If you don't know the answer based on the context, say you don't know.\n",
    "Provide specific details from the context to support your answer.\n",
    "\n",
    "Context:\n",
    "{context}\n",
    "\n",
    "Question: {question}\n",
    "\n",
    "Answer:\"\"\")\n",
    "custom_prompt"
   ]
  },
  {
   "cell_type": "code",
   "execution_count": 36,
   "id": "4224e9bf-76eb-41e4-ba14-8beb783a4a36",
   "metadata": {},
   "outputs": [
    {
     "data": {
      "text/plain": [
       "VectorStoreRetriever(tags=['Chroma', 'OpenAIEmbeddings'], vectorstore=<langchain_community.vectorstores.chroma.Chroma object at 0x7fabe0c896a0>, search_kwargs={})"
      ]
     },
     "execution_count": 36,
     "metadata": {},
     "output_type": "execute_result"
    }
   ],
   "source": [
    "retriever"
   ]
  },
  {
   "cell_type": "code",
   "execution_count": 37,
   "id": "599af272-bfad-4f93-a887-72d0dadc383b",
   "metadata": {},
   "outputs": [],
   "source": [
    "def format_doc(docs):\n",
    "    return \"\\n\\n\".join(doc.page_content for doc in docs)"
   ]
  },
  {
   "cell_type": "code",
   "execution_count": 39,
   "id": "3c2f6a09-02d3-461e-b8a0-5e058d6c14f4",
   "metadata": {},
   "outputs": [
    {
     "data": {
      "text/plain": [
       "{\n",
       "  context: VectorStoreRetriever(tags=['Chroma', 'OpenAIEmbeddings'], vectorstore=<langchain_community.vectorstores.chroma.Chroma object at 0x7fabe0c896a0>, search_kwargs={})\n",
       "           | RunnableLambda(format_doc),\n",
       "  question: RunnablePassthrough()\n",
       "}\n",
       "| ChatPromptTemplate(input_variables=['context', 'question'], input_types={}, partial_variables={}, messages=[HumanMessagePromptTemplate(prompt=PromptTemplate(input_variables=['context', 'question'], input_types={}, partial_variables={}, template=\"Use the following context to answer the question. \\nIf you don't know the answer based on the context, say you don't know.\\nProvide specific details from the context to support your answer.\\n\\nContext:\\n{context}\\n\\nQuestion: {question}\\n\\nAnswer:\"), additional_kwargs={})])\n",
       "| ChatOpenAI(client=<openai.resources.chat.completions.completions.Completions object at 0x7fabe0027b10>, async_client=<openai.resources.chat.completions.completions.AsyncCompletions object at 0x7fabde44ead0>, root_client=<openai.OpenAI object at 0x7fabde449e00>, root_async_client=<openai.AsyncOpenAI object at 0x7fabde44ab10>, model_kwargs={}, openai_api_key=SecretStr('**********'))\n",
       "| StrOutputParser()"
      ]
     },
     "execution_count": 39,
     "metadata": {},
     "output_type": "execute_result"
    }
   ],
   "source": [
    "# Building the output documents for the prompt\n",
    "rag_chain_icel = (\n",
    "    {\n",
    "        \"context\": retriever | format_doc,\n",
    "        \"question\": RunnablePassthrough()\n",
    "    }\n",
    "    | custom_prompt\n",
    "    | llm\n",
    "    | StrOutputParser()\n",
    ")\n",
    "rag_chain_icel"
   ]
  },
  {
   "cell_type": "code",
   "execution_count": 42,
   "id": "9a1b0cdb-5d59-412a-b0a8-81e047389ad4",
   "metadata": {},
   "outputs": [
    {
     "data": {
      "text/plain": [
       "'Deep learning is a subset of machine learning based on artificial neural networks. It involves interconnected layers of nodes inspired by the human brain and has revolutionized computer vision, natural language processing, and speech recognition.'"
      ]
     },
     "execution_count": 42,
     "metadata": {},
     "output_type": "execute_result"
    }
   ],
   "source": [
    "responcse = rag_chain_icel.invoke(\"What is Deep learning\")\n",
    "responcse"
   ]
  },
  {
   "cell_type": "code",
   "execution_count": 43,
   "id": "f3f8ed93-9478-4f7c-b8e8-480c935636b5",
   "metadata": {},
   "outputs": [
    {
     "name": "stderr",
     "output_type": "stream",
     "text": [
      "/tmp/ipykernel_2060084/2267915490.py:1: LangChainDeprecationWarning: The method `BaseRetriever.get_relevant_documents` was deprecated in langchain-core 0.1.46 and will be removed in 1.0. Use :meth:`~invoke` instead.\n",
      "  retriever.get_relevant_documents(\"What is Deep learning\")\n"
     ]
    },
    {
     "data": {
      "text/plain": [
       "[Document(metadata={'source': '/data/oybek/PKD/xudamadarsam/mashq/vector/doc/doc_1.txt'}, page_content='Deep Learning and Neural Networks\\n\\n    Deep learning is a subset of machine learning based on artificial neural networks. \\n    The human brain inspires these networks and consists of layers of interconnected \\n    nodes. Deep learning has revolutionized computer vision, natural language \\n    processing, and speech recognition. Convolutional Neural Networks (CNNs) are particularly \\n    effective for image processing, while Recurrent Neural Networks (RNNs) and Transformers \\n    excel at'),\n",
       " Document(metadata={'source': '/data/oybek/PKD/xudamadarsam/mashq/vector/doc/doc_1.txt'}, page_content='Deep Learning and Neural Networks\\n\\n    Deep learning is a subset of machine learning based on artificial neural networks. \\n    The human brain inspires these networks and consists of layers of interconnected \\n    nodes. Deep learning has revolutionized computer vision, natural language \\n    processing, and speech recognition. Convolutional Neural Networks (CNNs) are particularly \\n    effective for image processing, while Recurrent Neural Networks (RNNs) and Transformers \\n    excel at'),\n",
       " Document(metadata={'source': '/data/oybek/PKD/xudamadarsam/mashq/vector/doc/doc_1.txt'}, page_content='Deep Learning and Neural Networks\\n\\n    Deep learning is a subset of machine learning based on artificial neural networks. \\n    The human brain inspires these networks and consists of layers of interconnected \\n    nodes. Deep learning has revolutionized computer vision, natural language \\n    processing, and speech recognition. Convolutional Neural Networks (CNNs) are particularly \\n    effective for image processing, while Recurrent Neural Networks (RNNs) and Transformers \\n    excel at'),\n",
       " Document(metadata={'source': '/data/oybek/PKD/xudamadarsam/mashq/vector/doc/doc_1.txt'}, page_content='Deep Learning and Neural Networks\\n\\n    Deep learning is a subset of machine learning based on artificial neural networks. \\n    The human brain inspires these networks and consists of layers of interconnected \\n    nodes. Deep learning has revolutionized computer vision, natural language \\n    processing, and speech recognition. Convolutional Neural Networks (CNNs) are particularly \\n    effective for image processing, while Recurrent Neural Networks (RNNs) and Transformers \\n    excel at')]"
      ]
     },
     "execution_count": 43,
     "metadata": {},
     "output_type": "execute_result"
    }
   ],
   "source": [
    "retriever.get_relevant_documents(\"What is Deep learning\")"
   ]
  },
  {
   "cell_type": "code",
   "execution_count": 46,
   "id": "f508058f-0a5f-4e5a-9c94-1eeb1ac0a17e",
   "metadata": {},
   "outputs": [],
   "source": [
    "# Query using the LCEL approach - Fixed version\n",
    "def query_rag_lcel(question):\n",
    "    print(f\"Question: {question}\")\n",
    "    print(\"-\" * 50)\n",
    "    \n",
    "    # Method 1: Pass string directly (when using RunnablePassthrough)\n",
    "    answer = rag_chain_icel.invoke(question)\n",
    "    print(f\"Answer: {answer}\")\n",
    "    \n",
    "    # Get source documents separately if needed\n",
    "    docs = retriever.get_relevant_documents(question)\n",
    "    print(\"\\nSource Documents:\")\n",
    "    for i, doc in enumerate(docs):\n",
    "        print(f\"\\n--- Source {i+1} ---\")\n",
    "        print(doc.page_content[:200] + \"...\")"
   ]
  },
  {
   "cell_type": "code",
   "execution_count": 47,
   "id": "bd26d69a-028f-4571-8745-22cb623138b5",
   "metadata": {},
   "outputs": [
    {
     "name": "stdout",
     "output_type": "stream",
     "text": [
      "Question: What are the key concepts in reinforcement learning?\n",
      "--------------------------------------------------\n",
      "Answer: The key concepts in reinforcement learning are learning through interaction with an environment, using rewards and penalties.\n",
      "\n",
      "Source Documents:\n",
      "\n",
      "--- Source 1 ---\n",
      "data. Reinforcement learning learns through \n",
      "    interaction with an environment using rewards and penalties....\n",
      "\n",
      "--- Source 2 ---\n",
      "data. Reinforcement learning learns through \n",
      "    interaction with an environment using rewards and penalties....\n",
      "\n",
      "--- Source 3 ---\n",
      "data. Reinforcement learning learns through \n",
      "    interaction with an environment using rewards and penalties....\n",
      "\n",
      "--- Source 4 ---\n",
      "data. Reinforcement learning learns through \n",
      "    interaction with an environment using rewards and penalties....\n"
     ]
    }
   ],
   "source": [
    "query_rag_lcel(\"What are the key concepts in reinforcement learning?\")"
   ]
  },
  {
   "cell_type": "code",
   "execution_count": 48,
   "id": "6d1e356a-ac1c-495b-80e4-dafd1e7b4e8f",
   "metadata": {},
   "outputs": [
    {
     "name": "stdout",
     "output_type": "stream",
     "text": [
      "Question: What is deeplearning learning?\n",
      "--------------------------------------------------\n",
      "Answer: Deep learning is a subset of machine learning based on artificial neural networks inspired by the human brain. It consists of layers of interconnected nodes. Deep learning has revolutionized computer vision, natural language processing, and speech recognition.\n",
      "\n",
      "Source Documents:\n",
      "\n",
      "--- Source 1 ---\n",
      "Deep Learning and Neural Networks\n",
      "\n",
      "    Deep learning is a subset of machine learning based on artificial neural networks. \n",
      "    The human brain inspires these networks and consists of layers of interco...\n",
      "\n",
      "--- Source 2 ---\n",
      "Deep Learning and Neural Networks\n",
      "\n",
      "    Deep learning is a subset of machine learning based on artificial neural networks. \n",
      "    The human brain inspires these networks and consists of layers of interco...\n",
      "\n",
      "--- Source 3 ---\n",
      "Deep Learning and Neural Networks\n",
      "\n",
      "    Deep learning is a subset of machine learning based on artificial neural networks. \n",
      "    The human brain inspires these networks and consists of layers of interco...\n",
      "\n",
      "--- Source 4 ---\n",
      "Deep Learning and Neural Networks\n",
      "\n",
      "    Deep learning is a subset of machine learning based on artificial neural networks. \n",
      "    The human brain inspires these networks and consists of layers of interco...\n"
     ]
    }
   ],
   "source": [
    "query_rag_lcel(\"What is deeplearning learning?\")"
   ]
  },
  {
   "cell_type": "code",
   "execution_count": 49,
   "id": "740c403a-a420-40a0-ad04-b26cb5bdea26",
   "metadata": {},
   "outputs": [
    {
     "name": "stdout",
     "output_type": "stream",
     "text": [
      "Question: What is AGI\n",
      "--------------------------------------------------\n",
      "Answer: Based on the context provided, the term AGI (Artificial General Intelligence) is not mentioned. Therefore, I do not know what AGI is in relation to this context.\n",
      "\n",
      "Source Documents:\n",
      "\n",
      "--- Source 1 ---\n",
      "Natural Language Processing (NLP)\n",
      "\n",
      "    NLP is a field of AI that focuses on the interaction between computers and human language. \n",
      "    Key tasks in NLP include text classification, named entity recogn...\n",
      "\n",
      "--- Source 2 ---\n",
      "Natural Language Processing (NLP)\n",
      "\n",
      "    NLP is a field of AI that focuses on the interaction between computers and human language. \n",
      "    Key tasks in NLP include text classification, named entity recogn...\n",
      "\n",
      "--- Source 3 ---\n",
      "Natural Language Processing (NLP)\n",
      "\n",
      "    NLP is a field of AI that focuses on the interaction between computers and human language. \n",
      "    Key tasks in NLP include text classification, named entity recogn...\n",
      "\n",
      "--- Source 4 ---\n",
      "Natural Language Processing (NLP)\n",
      "\n",
      "    NLP is a field of AI that focuses on the interaction between computers and human language. \n",
      "    Key tasks in NLP include text classification, named entity recogn...\n"
     ]
    }
   ],
   "source": [
    "query_rag_lcel(\"What is AGI\")"
   ]
  },
  {
   "cell_type": "markdown",
   "id": "7579e739-6111-49f6-9507-5ff9306d3de1",
   "metadata": {},
   "source": [
    "## Add new Documents to existing Vector Store"
   ]
  },
  {
   "cell_type": "code",
   "execution_count": 50,
   "id": "010655d3-ce81-4a85-991f-4555708a3b2d",
   "metadata": {},
   "outputs": [
    {
     "data": {
      "text/plain": [
       "<langchain_community.vectorstores.chroma.Chroma at 0x7fabe0c896a0>"
      ]
     },
     "execution_count": 50,
     "metadata": {},
     "output_type": "execute_result"
    }
   ],
   "source": [
    "vectore_store"
   ]
  },
  {
   "cell_type": "code",
   "execution_count": 55,
   "id": "7d19c16a-1ae5-4367-b64b-bf4ce6c30fd5",
   "metadata": {},
   "outputs": [
    {
     "data": {
      "text/plain": [
       "'\\nReinforcement Learning in Detail\\n\\nReinforcement learning (RL) is a type of machine learning where an agent learns to make \\ndecisions by interacting with an environment. The agent receives rewards or penalties \\nbased on its actions and learns to maximize cumulative reward over time. Key concepts \\nin RL include: states, actions, rewards, policies, and value functions. Popular RL \\nalgorithms include Q-learning, Deep Q-Networks (DQN), Policy Gradient methods, and \\nActor-Critic methods. RL has been successfully applied to game playing (like AlphaGo), \\nrobotics, and autonomous systems.\\n'"
      ]
     },
     "execution_count": 55,
     "metadata": {},
     "output_type": "execute_result"
    }
   ],
   "source": [
    "# Add new documents to the existing vector store\n",
    "new_document = \"\"\"\n",
    "Reinforcement Learning in Detail\n",
    "\n",
    "Reinforcement learning (RL) is a type of machine learning where an agent learns to make \n",
    "decisions by interacting with an environment. The agent receives rewards or penalties \n",
    "based on its actions and learns to maximize cumulative reward over time. Key concepts \n",
    "in RL include: states, actions, rewards, policies, and value functions. Popular RL \n",
    "algorithms include Q-learning, Deep Q-Networks (DQN), Policy Gradient methods, and \n",
    "Actor-Critic methods. RL has been successfully applied to game playing (like AlphaGo), \n",
    "robotics, and autonomous systems.\n",
    "\"\"\"\n",
    "\n",
    "new_document"
   ]
  },
  {
   "cell_type": "code",
   "execution_count": 52,
   "id": "e26b5d57-3945-42ad-9745-cc0e1d972b26",
   "metadata": {},
   "outputs": [
    {
     "data": {
      "text/plain": [
       "[Document(metadata={'source': '/data/oybek/PKD/xudamadarsam/mashq/vector/doc/doc_1.txt'}, page_content='Deep Learning and Neural Networks\\n\\n    Deep learning is a subset of machine learning based on artificial neural networks. \\n    The human brain inspires these networks and consists of layers of interconnected \\n    nodes. Deep learning has revolutionized computer vision, natural language \\n    processing, and speech recognition. Convolutional Neural Networks (CNNs) are particularly \\n    effective for image processing, while Recurrent Neural Networks (RNNs) and Transformers \\n    excel at'),\n",
       " Document(metadata={'source': '/data/oybek/PKD/xudamadarsam/mashq/vector/doc/doc_1.txt'}, page_content='Networks (RNNs) and Transformers \\n    excel at sequential data processing.'),\n",
       " Document(metadata={'source': '/data/oybek/PKD/xudamadarsam/mashq/vector/doc/doc_2.txt'}, page_content='Natural Language Processing (NLP)\\n\\n    NLP is a field of AI that focuses on the interaction between computers and human language. \\n    Key tasks in NLP include text classification, named entity recognition, sentiment analysis, \\n    machine translation, and question answering. Modern NLP heavily relies on transformer \\n    architectures like BERT, GPT, and T5. These models use attention mechanisms to understand \\n    context and relationships between words in text.'),\n",
       " Document(metadata={'source': '/data/oybek/PKD/xudamadarsam/mashq/vector/doc/doc_0.txt'}, page_content='Machine Learning Fundamentals\\n\\n    Machine learning is a subset of artificial intelligence that enables systems to learn \\n    and improve from experience without being explicitly programmed. There are three main \\n    types of machine learning: supervised learning, unsupervised learning, and reinforcement \\n    learning. Supervised learning uses labeled data to train models, while unsupervised \\n    learning finds patterns in unlabeled data. Reinforcement learning learns through'),\n",
       " Document(metadata={'source': '/data/oybek/PKD/xudamadarsam/mashq/vector/doc/doc_0.txt'}, page_content='data. Reinforcement learning learns through \\n    interaction with an environment using rewards and penalties.')]"
      ]
     },
     "execution_count": 52,
     "metadata": {},
     "output_type": "execute_result"
    }
   ],
   "source": [
    "chunks"
   ]
  },
  {
   "cell_type": "code",
   "execution_count": 57,
   "id": "5d204f8c-59ca-4f02-a57c-6fd3a665c660",
   "metadata": {},
   "outputs": [
    {
     "data": {
      "text/plain": [
       "[Document(metadata={'source': 'manual_addition', 'topic': 'reinforcement_learning'}, page_content='Reinforcement Learning in Detail\\n\\nReinforcement learning (RL) is a type of machine learning where an agent learns to make \\ndecisions by interacting with an environment. The agent receives rewards or penalties \\nbased on its actions and learns to maximize cumulative reward over time. Key concepts \\nin RL include: states, actions, rewards, policies, and value functions. Popular RL \\nalgorithms include Q-learning, Deep Q-Networks (DQN), Policy Gradient methods, and \\nActor-Critic methods. RL has been'),\n",
       " Document(metadata={'source': 'manual_addition', 'topic': 'reinforcement_learning'}, page_content='methods, and \\nActor-Critic methods. RL has been successfully applied to game playing (like AlphaGo), \\nrobotics, and autonomous systems.')]"
      ]
     },
     "execution_count": 57,
     "metadata": {},
     "output_type": "execute_result"
    }
   ],
   "source": [
    "new_doc = Document(\n",
    "    page_content=new_document,\n",
    "    metadata={\"source\": \"manual_addition\", \"topic\": \"reinforcement_learning\"}\n",
    ")\n",
    "\n",
    "# split the documents\n",
    "new_chunks = text_splitter.split_documents([new_doc])\n",
    "new_chunks"
   ]
  },
  {
   "cell_type": "code",
   "execution_count": 58,
   "id": "d4a31280-6761-43ab-b509-61cf5098ddfd",
   "metadata": {},
   "outputs": [
    {
     "data": {
      "text/plain": [
       "['824b44f3-cfc5-4dcb-a0a7-aca7d7b84fd1',\n",
       " 'e47f0610-7047-4178-ba72-2776d98567f7']"
      ]
     },
     "execution_count": 58,
     "metadata": {},
     "output_type": "execute_result"
    }
   ],
   "source": [
    "# Add new documents to vectorstore\n",
    "vectore_store.add_documents(new_chunks)"
   ]
  },
  {
   "cell_type": "code",
   "execution_count": 60,
   "id": "ffe9ea28-5696-4406-b5ba-474b61481fe2",
   "metadata": {},
   "outputs": [
    {
     "name": "stdout",
     "output_type": "stream",
     "text": [
      "Added 2 new chunks to vector store\n",
      "Total vectors now 37\n"
     ]
    }
   ],
   "source": [
    "print(f\"Added {len(new_chunks)} new chunks to vector store\")\n",
    "print(f\"Total vectors now {vectore_store._collection.count()}\")"
   ]
  },
  {
   "cell_type": "code",
   "execution_count": 61,
   "id": "bd118204-e4b1-498c-958c-a9442d67a919",
   "metadata": {},
   "outputs": [
    {
     "name": "stdout",
     "output_type": "stream",
     "text": [
      "Question: What are the key concepts in reinforcement learning?\n",
      "--------------------------------------------------\n",
      "Answer: The key concepts in reinforcement learning are interaction with an environment, rewards, and penalties.\n",
      "\n",
      "Source Documents:\n",
      "\n",
      "--- Source 1 ---\n",
      "data. Reinforcement learning learns through \n",
      "    interaction with an environment using rewards and penalties....\n",
      "\n",
      "--- Source 2 ---\n",
      "data. Reinforcement learning learns through \n",
      "    interaction with an environment using rewards and penalties....\n",
      "\n",
      "--- Source 3 ---\n",
      "data. Reinforcement learning learns through \n",
      "    interaction with an environment using rewards and penalties....\n",
      "\n",
      "--- Source 4 ---\n",
      "data. Reinforcement learning learns through \n",
      "    interaction with an environment using rewards and penalties....\n"
     ]
    }
   ],
   "source": [
    "query_rag_lcel(\"What are the key concepts in reinforcement learning?\")"
   ]
  },
  {
   "cell_type": "code",
   "execution_count": 63,
   "id": "b6b84594-ed5a-4781-b2c5-e185d9472850",
   "metadata": {},
   "outputs": [
    {
     "name": "stdout",
     "output_type": "stream",
     "text": [
      "Question: Why Did Song Leave??\n",
      "--------------------------------------------------\n",
      "Answer: I don't know.\n",
      "\n",
      "Source Documents:\n",
      "\n",
      "--- Source 1 ---\n",
      "methods, and \n",
      "Actor-Critic methods. RL has been successfully applied to game playing (like AlphaGo), \n",
      "robotics, and autonomous systems....\n",
      "\n",
      "--- Source 2 ---\n",
      "Networks (RNNs) and Transformers \n",
      "    excel at sequential data processing....\n",
      "\n",
      "--- Source 3 ---\n",
      "Networks (RNNs) and Transformers \n",
      "    excel at sequential data processing....\n",
      "\n",
      "--- Source 4 ---\n",
      "Networks (RNNs) and Transformers \n",
      "    excel at sequential data processing....\n"
     ]
    }
   ],
   "source": [
    "query_rag_lcel(\"Why Did Song Leave?\")"
   ]
  },
  {
   "cell_type": "code",
   "execution_count": 65,
   "id": "9ba2fae2-0708-4125-b847-d18934b6acf5",
   "metadata": {},
   "outputs": [
    {
     "data": {
      "text/plain": [
       "[Document(metadata={'source': 'manual_addition', 'topic': 'Professor Iickho Song To Chinese'}, page_content='Professor Iickho Song, a leading expert in communications and signal processing, \\nretired from KAIST in February 2024 after 37 years and joined UESTC’s Institute\\nfor Basic and Advanced Sciences in Chengdu. Despite KAIST’s program allowing retired\\nprofessors to continue research with 300 million won (about US$213,000) in annual funding,\\nSong chose UESTC, likely due to its stable research environment and resources, even though \\nit faces U.S. sanctions limiting collaborations and technology'),\n",
       " Document(metadata={'source': 'manual_addition', 'topic': 'Professor Iickho Song To Chinese'}, page_content='sanctions limiting collaborations and technology imports.')]"
      ]
     },
     "execution_count": 65,
     "metadata": {},
     "output_type": "execute_result"
    }
   ],
   "source": [
    "new_document2 = \"\"\"\n",
    "Professor Iickho Song, a leading expert in communications and signal processing, \n",
    "retired from KAIST in February 2024 after 37 years and joined UESTC’s Institute\n",
    "for Basic and Advanced Sciences in Chengdu. Despite KAIST’s program allowing retired\n",
    "professors to continue research with 300 million won (about US$213,000) in annual funding,\n",
    "Song chose UESTC, likely due to its stable research environment and resources, even though \n",
    "it faces U.S. sanctions limiting collaborations and technology imports.\"\"\"\n",
    "\n",
    "new_doc2 = Document(\n",
    "    page_content=new_document2,\n",
    "    metadata={\"source\": \"manual_addition\", \"topic\": \"Professor Iickho Song To Chinese\"}\n",
    ")\n",
    "new_chunks2 = text_splitter.split_documents([new_doc2])\n",
    "new_chunks2"
   ]
  },
  {
   "cell_type": "code",
   "execution_count": 66,
   "id": "ff104fe9-f823-48bf-aed0-105de2792d42",
   "metadata": {},
   "outputs": [
    {
     "data": {
      "text/plain": [
       "['ee56f665-b2cd-4d3b-9e38-6bb61a81bb91',\n",
       " '15b4c670-21fb-4423-8ee5-87460018be39']"
      ]
     },
     "execution_count": 66,
     "metadata": {},
     "output_type": "execute_result"
    }
   ],
   "source": [
    "vectore_store.add_documents(new_chunks2)"
   ]
  },
  {
   "cell_type": "code",
   "execution_count": 68,
   "id": "e7be2efa-8d3c-47dd-bd03-e42262a708cb",
   "metadata": {},
   "outputs": [
    {
     "name": "stdout",
     "output_type": "stream",
     "text": [
      "Added 2 new chunks to the vector store\n",
      "Total vectors now: 39\n"
     ]
    }
   ],
   "source": [
    "print(f\"Added {len(new_chunks2)} new chunks to the vector store\")\n",
    "print(f\"Total vectors now: {vectore_store._collection.count()}\")"
   ]
  },
  {
   "cell_type": "code",
   "execution_count": 69,
   "id": "1c3b02ce-85b9-44eb-a323-dbd838eb3367",
   "metadata": {},
   "outputs": [
    {
     "name": "stdout",
     "output_type": "stream",
     "text": [
      "Question: Why Did Song Leave?\n",
      "--------------------------------------------------\n",
      "Answer: Song left KAIST and joined UESTC likely due to the stable research environment and resources at UESTC. This can be inferred from the context where it is mentioned that despite KAIST's program allowing retired professors to continue research with funding, Song chose UESTC.\n",
      "\n",
      "Source Documents:\n",
      "\n",
      "--- Source 1 ---\n",
      "Professor Iickho Song, a leading expert in communications and signal processing, \n",
      "retired from KAIST in February 2024 after 37 years and joined UESTC’s Institute\n",
      "for Basic and Advanced Sciences in Che...\n",
      "\n",
      "--- Source 2 ---\n",
      "sanctions limiting collaborations and technology imports....\n",
      "\n",
      "--- Source 3 ---\n",
      "methods, and \n",
      "Actor-Critic methods. RL has been successfully applied to game playing (like AlphaGo), \n",
      "robotics, and autonomous systems....\n",
      "\n",
      "--- Source 4 ---\n",
      "Networks (RNNs) and Transformers \n",
      "    excel at sequential data processing....\n"
     ]
    }
   ],
   "source": [
    "query_rag_lcel(\"Why Did Song Leave?\")"
   ]
  },
  {
   "cell_type": "markdown",
   "id": "113944a4-84dd-45df-adcf-7961014407b6",
   "metadata": {},
   "source": [
    "`---------------------------------------------------------------------`"
   ]
  },
  {
   "cell_type": "markdown",
   "id": "fbcea6c3-7fea-4f47-a595-04cda0a7a2d1",
   "metadata": {},
   "source": [
    "# Advanced RAG Techniques Conversational Memory\n",
    "Understanding Conversational Memory in RAG Conversational memory enables the RAG system to maintain context across multiple interactions. This is crucial for:\n",
    "Follow-up questions that reference previous answer Pronoun resolution (e.g., \"it\", \"they\", \"that\") Context-dependent queries that build on prior discussion Natural dialogue flow where users don't repeat context\n",
    "\n",
    "Key Challenge: Traditional RAG retrieves documents based only on the current query, missing important context from the conversation. For example:\n",
    "\n",
    "User: \"Tell me about Python\" Bot: explains Python programming language User: \"What are its main libraries?\" ← \"its\" refers to Python, but retriever doesn't know this\n",
    "\n",
    "Solution: The modern approach uses a two-step process:\n",
    "\n",
    "Query Reformulation: Transform context-dependent questions into standalone queries Context-Aware Retrieval: Use the reformulated query to fetch relevant documents\n",
    "\n"
   ]
  },
  {
   "cell_type": "markdown",
   "id": "01c94612-9d34-4db7-8684-1fbdd8b142c4",
   "metadata": {},
   "source": [
    "- `create_histiry_aware_retriever:` Makes the retriever understand conversation context\n",
    "- `MessagesPlaceholder:`            Placeholder for chat history in prompts.\n",
    "- `HumanMessage/AIMessage:`         Structured message types for conversation history"
   ]
  },
  {
   "cell_type": "code",
   "execution_count": 70,
   "id": "b6a4bf7a-98c5-482b-ba07-72de5b9c4918",
   "metadata": {},
   "outputs": [],
   "source": [
    "from langchain.chains import create_history_aware_retriever\n",
    "from langchain_core.prompts import MessagesPlaceholder\n",
    "from langchain_core.messages import HumanMessage, AIMessage"
   ]
  },
  {
   "cell_type": "code",
   "execution_count": 71,
   "id": "3fd389cd-6a69-423c-a686-06847d091a00",
   "metadata": {},
   "outputs": [],
   "source": [
    "## Create a prompt that includes the chat history\n",
    "contextualize_q_system_prompt =  \"\"\"Given a chat history and the latest user question \n",
    "which might reference context in the chat history, formulate a standalone question \n",
    "which can be understood without the chat history. Do NOT answer the question, \n",
    "just reformulate it if needed and otherwise return it as is.\"\"\"\n",
    "\n",
    "\n",
    "contextualize_q_prompt =  ChatPromptTemplate.from_messages([\n",
    "    (\"system\", contextualize_q_system_prompt),\n",
    "    MessagesPlaceholder(\"chat_history\"),\n",
    "    (\"human\", \"{input}\")\n",
    "])"
   ]
  },
  {
   "cell_type": "code",
   "execution_count": 73,
   "id": "cace3ab7-bc71-4f5d-aecf-916b5ef8e0e8",
   "metadata": {},
   "outputs": [
    {
     "data": {
      "text/plain": [
       "RunnableBinding(bound=RunnableBranch(branches=[(RunnableLambda(lambda x: not x.get('chat_history', False)), RunnableLambda(lambda x: x['input'])\n",
       "| VectorStoreRetriever(tags=['Chroma', 'OpenAIEmbeddings'], vectorstore=<langchain_community.vectorstores.chroma.Chroma object at 0x7fabe0c896a0>, search_kwargs={}))], default=ChatPromptTemplate(input_variables=['chat_history', 'input'], input_types={'chat_history': list[typing.Annotated[typing.Union[typing.Annotated[langchain_core.messages.ai.AIMessage, Tag(tag='ai')], typing.Annotated[langchain_core.messages.human.HumanMessage, Tag(tag='human')], typing.Annotated[langchain_core.messages.chat.ChatMessage, Tag(tag='chat')], typing.Annotated[langchain_core.messages.system.SystemMessage, Tag(tag='system')], typing.Annotated[langchain_core.messages.function.FunctionMessage, Tag(tag='function')], typing.Annotated[langchain_core.messages.tool.ToolMessage, Tag(tag='tool')], typing.Annotated[langchain_core.messages.ai.AIMessageChunk, Tag(tag='AIMessageChunk')], typing.Annotated[langchain_core.messages.human.HumanMessageChunk, Tag(tag='HumanMessageChunk')], typing.Annotated[langchain_core.messages.chat.ChatMessageChunk, Tag(tag='ChatMessageChunk')], typing.Annotated[langchain_core.messages.system.SystemMessageChunk, Tag(tag='SystemMessageChunk')], typing.Annotated[langchain_core.messages.function.FunctionMessageChunk, Tag(tag='FunctionMessageChunk')], typing.Annotated[langchain_core.messages.tool.ToolMessageChunk, Tag(tag='ToolMessageChunk')]], FieldInfo(annotation=NoneType, required=True, discriminator=Discriminator(discriminator=<function _get_type at 0x7fad7100fd80>, custom_error_type=None, custom_error_message=None, custom_error_context=None))]]}, partial_variables={}, messages=[SystemMessagePromptTemplate(prompt=PromptTemplate(input_variables=[], input_types={}, partial_variables={}, template='Given a chat history and the latest user question \\nwhich might reference context in the chat history, formulate a standalone question \\nwhich can be understood without the chat history. Do NOT answer the question, \\njust reformulate it if needed and otherwise return it as is.'), additional_kwargs={}), MessagesPlaceholder(variable_name='chat_history'), HumanMessagePromptTemplate(prompt=PromptTemplate(input_variables=['input'], input_types={}, partial_variables={}, template='{input}'), additional_kwargs={})])\n",
       "| ChatOpenAI(client=<openai.resources.chat.completions.completions.Completions object at 0x7fabe0027b10>, async_client=<openai.resources.chat.completions.completions.AsyncCompletions object at 0x7fabde44ead0>, root_client=<openai.OpenAI object at 0x7fabde449e00>, root_async_client=<openai.AsyncOpenAI object at 0x7fabde44ab10>, model_kwargs={}, openai_api_key=SecretStr('**********'))\n",
       "| StrOutputParser()\n",
       "| VectorStoreRetriever(tags=['Chroma', 'OpenAIEmbeddings'], vectorstore=<langchain_community.vectorstores.chroma.Chroma object at 0x7fabe0c896a0>, search_kwargs={})), kwargs={}, config={'run_name': 'chat_retriever_chain'}, config_factories=[])"
      ]
     },
     "execution_count": 73,
     "metadata": {},
     "output_type": "execute_result"
    }
   ],
   "source": [
    "history_awere_retriever = create_history_aware_retriever(\n",
    "    llm,\n",
    "    retriever,\n",
    "    contextualize_q_prompt\n",
    ")\n",
    "history_awere_retriever"
   ]
  },
  {
   "cell_type": "code",
   "execution_count": 74,
   "id": "87b6151b-7d01-48a1-9a28-9baef673b392",
   "metadata": {},
   "outputs": [],
   "source": [
    "# Create a new document chain with history\n",
    "qa_system_prompt = \"\"\"You are an assistant for question-answering tasks. \n",
    "Use the following pieces of retrieved context to answer the question. \n",
    "If you don't know the answer, just say that you don't know. \n",
    "Use three sentences maximum and keep the answer concise.\n",
    "\n",
    "Context: {context}\"\"\"\n",
    "\n",
    "qa_propmt = ChatPromptTemplate.from_messages([\n",
    "    (\"system\", qa_system_prompt),\n",
    "    MessagesPlaceholder(\"chat_history\"),\n",
    "    ('human', \"{input}\")\n",
    "]\n",
    ")\n",
    "\n",
    "question_answer_chain = create_stuff_documents_chain(llm, qa_propmt)\n",
    "\n",
    "# Create conversational RAG chain\n",
    "\n",
    "connersational_rag_chain = create_retrieval_chain(\n",
    "    history_awere_retriever,\n",
    "    question_answer_chain\n",
    ")\n"
   ]
  },
  {
   "cell_type": "code",
   "execution_count": 77,
   "id": "2515c05e-4dec-4386-a2e5-6fdfbb43d0c5",
   "metadata": {},
   "outputs": [
    {
     "name": "stdout",
     "output_type": "stream",
     "text": [
      "Q: What is machine learning?\n",
      "A: Machine learning is a subset of artificial intelligence that allows systems to learn and improve from experience without explicit programming. It involves three main types: supervised learning, unsupervised learning, and reinforcement learning. Supervised learning uses labeled data, unsupervised learning finds patterns in unlabeled data, and reinforcement learning learns through trial and error.\n"
     ]
    }
   ],
   "source": [
    "chat_history = []\n",
    "# first question\n",
    "res1 = connersational_rag_chain.invoke({\n",
    "    \"chat_history\": chat_history,\n",
    "    \"input\":\"What is machine learning?\"\n",
    "})\n",
    "\n",
    "print(f\"Q: What is machine learning?\")\n",
    "print(f\"A: {res1['answer']}\")"
   ]
  },
  {
   "cell_type": "code",
   "execution_count": 78,
   "id": "a20436f0-d048-4660-bb74-6c9ede924da1",
   "metadata": {},
   "outputs": [
    {
     "data": {
      "text/plain": [
       "[HumanMessage(content='what is machine learning', additional_kwargs={}, response_metadata={}),\n",
       " AIMessage(content='Machine learning is a subset of artificial intelligence that allows systems to learn and improve from experience without explicit programming. It involves three main types: supervised learning, unsupervised learning, and reinforcement learning. Supervised learning uses labeled data, unsupervised learning finds patterns in unlabeled data, and reinforcement learning learns through trial and error.', additional_kwargs={}, response_metadata={})]"
      ]
     },
     "execution_count": 78,
     "metadata": {},
     "output_type": "execute_result"
    }
   ],
   "source": [
    "chat_history.extend([\n",
    "    HumanMessage(content=\"what is machine learning\"),\n",
    "    AIMessage(content=res1[\"answer\"])\n",
    "])\n",
    "chat_history"
   ]
  },
  {
   "cell_type": "code",
   "execution_count": 79,
   "id": "d324f78c-6653-496c-ae36-bf9fd8718e7a",
   "metadata": {},
   "outputs": [
    {
     "data": {
      "text/plain": [
       "{'chat_history': [HumanMessage(content='what is machine learning', additional_kwargs={}, response_metadata={}),\n",
       "  AIMessage(content='Machine learning is a subset of artificial intelligence that allows systems to learn and improve from experience without explicit programming. It involves three main types: supervised learning, unsupervised learning, and reinforcement learning. Supervised learning uses labeled data, unsupervised learning finds patterns in unlabeled data, and reinforcement learning learns through trial and error.', additional_kwargs={}, response_metadata={})],\n",
       " 'input': 'what are its main types',\n",
       " 'context': [Document(metadata={'source': '/data/oybek/PKD/xudamadarsam/mashq/vector/doc/doc_0.txt'}, page_content='Machine Learning Fundamentals\\n\\n    Machine learning is a subset of artificial intelligence that enables systems to learn \\n    and improve from experience without being explicitly programmed. There are three main \\n    types of machine learning: supervised learning, unsupervised learning, and reinforcement \\n    learning. Supervised learning uses labeled data to train models, while unsupervised \\n    learning finds patterns in unlabeled data. Reinforcement learning learns through'),\n",
       "  Document(metadata={'source': '/data/oybek/PKD/xudamadarsam/mashq/vector/doc/doc_0.txt'}, page_content='Machine Learning Fundamentals\\n\\n    Machine learning is a subset of artificial intelligence that enables systems to learn \\n    and improve from experience without being explicitly programmed. There are three main \\n    types of machine learning: supervised learning, unsupervised learning, and reinforcement \\n    learning. Supervised learning uses labeled data to train models, while unsupervised \\n    learning finds patterns in unlabeled data. Reinforcement learning learns through'),\n",
       "  Document(metadata={'source': '/data/oybek/PKD/xudamadarsam/mashq/vector/doc/doc_0.txt'}, page_content='Machine Learning Fundamentals\\n\\n    Machine learning is a subset of artificial intelligence that enables systems to learn \\n    and improve from experience without being explicitly programmed. There are three main \\n    types of machine learning: supervised learning, unsupervised learning, and reinforcement \\n    learning. Supervised learning uses labeled data to train models, while unsupervised \\n    learning finds patterns in unlabeled data. Reinforcement learning learns through'),\n",
       "  Document(metadata={'source': '/data/oybek/PKD/xudamadarsam/mashq/vector/doc/doc_0.txt'}, page_content='Machine Learning Fundamentals\\n\\n    Machine learning is a subset of artificial intelligence that enables systems to learn \\n    and improve from experience without being explicitly programmed. There are three main \\n    types of machine learning: supervised learning, unsupervised learning, and reinforcement \\n    learning. Supervised learning uses labeled data to train models, while unsupervised \\n    learning finds patterns in unlabeled data. Reinforcement learning learns through')],\n",
       " 'answer': 'The main types of machine learning are supervised learning, unsupervised learning, and reinforcement learning. Supervised learning uses labeled data to train models, while unsupervised learning finds patterns in unlabeled data. Reinforcement learning learns through trial and error by interacting with an environment.'}"
      ]
     },
     "execution_count": 79,
     "metadata": {},
     "output_type": "execute_result"
    }
   ],
   "source": [
    "## Second question\n",
    "res2 = connersational_rag_chain.invoke({\n",
    "    \"chat_history\": chat_history,\n",
    "    \"input\": \"what are its main types\"\n",
    "})\n",
    "res2"
   ]
  },
  {
   "cell_type": "code",
   "execution_count": 80,
   "id": "739ac8df-75cc-4a8e-9102-e9e9f88d0c7f",
   "metadata": {},
   "outputs": [
    {
     "data": {
      "text/plain": [
       "'The main types of machine learning are supervised learning, unsupervised learning, and reinforcement learning. Supervised learning uses labeled data to train models, while unsupervised learning finds patterns in unlabeled data. Reinforcement learning learns through trial and error by interacting with an environment.'"
      ]
     },
     "execution_count": 80,
     "metadata": {},
     "output_type": "execute_result"
    }
   ],
   "source": [
    "res2['answer']"
   ]
  },
  {
   "cell_type": "code",
   "execution_count": 82,
   "id": "e728d508-ab2d-4244-a248-cd32d2cc318c",
   "metadata": {},
   "outputs": [
    {
     "data": {
      "text/plain": [
       "ChatOpenAI(client=<openai.resources.chat.completions.completions.Completions object at 0x7fabe0027b10>, async_client=<openai.resources.chat.completions.completions.AsyncCompletions object at 0x7fabde44ead0>, root_client=<openai.OpenAI object at 0x7fabde449e00>, root_async_client=<openai.AsyncOpenAI object at 0x7fabde44ab10>, model_kwargs={}, openai_api_key=SecretStr('**********'))"
      ]
     },
     "execution_count": 82,
     "metadata": {},
     "output_type": "execute_result"
    }
   ],
   "source": [
    "llm"
   ]
  },
  {
   "cell_type": "code",
   "execution_count": 85,
   "id": "a21c81a7-4659-44bd-9234-6284b076ce6a",
   "metadata": {},
   "outputs": [],
   "source": [
    "os.environ[\"GROQ_API_KEY\"]=os.getenv(\"GROQ_API_KEY\")"
   ]
  },
  {
   "cell_type": "code",
   "execution_count": 86,
   "id": "f5aedf27-1e0b-47b5-84e5-fdeeb35ced8f",
   "metadata": {},
   "outputs": [],
   "source": [
    "from langchain_groq import ChatGroq\n",
    "from langchain.chat_models import init_chat_model"
   ]
  },
  {
   "cell_type": "code",
   "execution_count": 87,
   "id": "89c0632b-526d-4078-8a0c-e83aa0e6de8a",
   "metadata": {},
   "outputs": [
    {
     "data": {
      "text/plain": [
       "ChatGroq(client=<groq.resources.chat.completions.Completions object at 0x7faa363c81a0>, async_client=<groq.resources.chat.completions.AsyncCompletions object at 0x7faa363c9160>, model_name='gemma2-9b-it', model_kwargs={}, groq_api_key=SecretStr('**********'))"
      ]
     },
     "execution_count": 87,
     "metadata": {},
     "output_type": "execute_result"
    }
   ],
   "source": [
    "llm_grok = ChatGroq(model=\"gemma2-9b-it\")\n",
    "llm_grok"
   ]
  },
  {
   "cell_type": "code",
   "execution_count": null,
   "id": "6e78f37a-bce2-439a-abaf-1dfcaa38f0c5",
   "metadata": {},
   "outputs": [],
   "source": []
  }
 ],
 "metadata": {
  "kernelspec": {
   "display_name": "my07",
   "language": "python",
   "name": "myenv"
  },
  "language_info": {
   "codemirror_mode": {
    "name": "ipython",
    "version": 3
   },
   "file_extension": ".py",
   "mimetype": "text/x-python",
   "name": "python",
   "nbconvert_exporter": "python",
   "pygments_lexer": "ipython3",
   "version": "3.13.2"
  },
  "widgets": {
   "application/vnd.jupyter.widget-state+json": {
    "state": {},
    "version_major": 2,
    "version_minor": 0
   }
  }
 },
 "nbformat": 4,
 "nbformat_minor": 5
}
