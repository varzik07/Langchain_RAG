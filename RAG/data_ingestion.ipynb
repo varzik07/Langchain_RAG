{
 "cells": [
  {
   "cell_type": "code",
   "execution_count": 10,
   "id": "e534c502",
   "metadata": {},
   "outputs": [],
   "source": [
    "import os\n",
    "from typing import List, Dict, Any\n",
    "import pandas as pd"
   ]
  },
  {
   "cell_type": "markdown",
   "id": "4da58e24",
   "metadata": {},
   "source": [
    "# Set up "
   ]
  },
  {
   "cell_type": "code",
   "execution_count": 14,
   "id": "61e88be0",
   "metadata": {},
   "outputs": [],
   "source": [
    "from langchain_core.documents import Document\n",
    "from langchain.text_splitter import (\n",
    "    RecursiveCharacterTextSplitter,\n",
    "    CharacterTextSplitter,  \n",
    "    TokenTextSplitter,\n",
    ")"
   ]
  },
  {
   "cell_type": "markdown",
   "id": "15f3f5b8",
   "metadata": {},
   "source": [
    "## Understamding Document Structure in langchain"
   ]
  },
  {
   "cell_type": "code",
   "execution_count": 14,
   "id": "5e8c64b6",
   "metadata": {},
   "outputs": [
    {
     "name": "stdout",
     "output_type": "stream",
     "text": [
      "This is a sample document. It contains text data for processing.\n",
      "{'source': 'sample.txt', 'author': 'John Doe', 'length': 42, 'page': 1, 'keywords': ['sample', 'document', 'text'], 'custom_info': {'reviewed': True, 'rating': 4.5}}\n"
     ]
    }
   ],
   "source": [
    "doc = Document(\n",
    "    page_content=\"This is a sample document. It contains text data for processing.\",\n",
    "    metadata={\n",
    "        \"source\": \"sample.txt\",\n",
    "        \"author\": \"John Doe\",\n",
    "        \"length\": 42,\n",
    "        \"page\": 1,\n",
    "        \"keywords\": [\"sample\", \"document\", \"text\"],\n",
    "        \"custom_info\": {\"reviewed\": True, \"rating\": 4.5}\n",
    "    }\n",
    ")\n",
    "\n",
    "## Understamding Document Structure in langchain\n",
    "print(doc.page_content)\n",
    "print(doc.metadata)\n"
   ]
  },
  {
   "cell_type": "markdown",
   "id": "550c7c16",
   "metadata": {},
   "source": [
    "# Text Files (.txt) - The Simplest Case "
   ]
  },
  {
   "cell_type": "code",
   "execution_count": 3,
   "id": "96627fe9",
   "metadata": {},
   "outputs": [],
   "source": [
    "## Create a simple text file\n",
    "import os\n",
    "os.makedirs(\"data/text_files\", exist_ok = True)"
   ]
  },
  {
   "cell_type": "code",
   "execution_count": 4,
   "id": "031ce87d",
   "metadata": {},
   "outputs": [],
   "source": [
    "sample_text  = {\n",
    "    \"data/text_files/sample1.txt\":\"\"\"\n",
    "    Python is a high-level, interpreted programming language known for its simplicity and readability.\n",
    "Created by Guido van Rossum and first released in 1991, Python has become one of the most popular\n",
    "programming languages in the world.\n",
    "\n",
    "Key Features:\n",
    "- Easy to learn and use\n",
    "- Extensive standard library\n",
    "- Cross-platform compatibility\n",
    "- Strong community support\n",
    "\n",
    "Python is widely used in web development, data science, artificial intelligence, and automation.\"\"\",\n",
    "    \n",
    "    \"data/text_files/machine_learning.txt\": \"\"\"Machine Learning Basics\n",
    "\n",
    "Machine learning is a subset of artificial intelligence that enables systems to learn and improve\n",
    "from experience without being explicitly programmed. It focuses on developing computer programs\n",
    "that can access data and use it to learn for themselves.\n",
    "\n",
    "Types of Machine Learning:\n",
    "1. Supervised Learning: Learning with labeled data\n",
    "2. Unsupervised Learning: Finding patterns in unlabeled data\n",
    "3. Reinforcement Learning: Learning through rewards and penalties\n",
    "\n",
    "Applications include image recognition, speech processing, and recommendation systems\n",
    "    \n",
    "    \n",
    "\"\"\"\n",
    "}\n",
    "\n"
   ]
  },
  {
   "cell_type": "code",
   "execution_count": 13,
   "id": "ceeed501",
   "metadata": {},
   "outputs": [],
   "source": [
    "for filepath, content in sample_text.items():\n",
    "    with open(filepath, \"w\", encoding = \"utf-8\") as f:\n",
    "        f.write(content)"
   ]
  },
  {
   "cell_type": "markdown",
   "id": "1e0a9abb",
   "metadata": {},
   "source": [
    "### TextLoader -Read Single File"
   ]
  },
  {
   "cell_type": "code",
   "execution_count": 5,
   "id": "78841c3d",
   "metadata": {},
   "outputs": [
    {
     "name": "stdout",
     "output_type": "stream",
     "text": [
      "📄 Load 1 document\n",
      "Content preview \n",
      "    Python is a high-level, interpreted programming language known for its simplicity and readabili\n",
      "Metadata : {'source': 'data/text_files/sample1.txt'}\n"
     ]
    }
   ],
   "source": [
    "from langchain.document_loaders import TextLoader\n",
    "from langchain_community.document_loaders import TextLoader\n",
    "\n",
    "## Loading a single text file\n",
    "loader = TextLoader(\"data/text_files/sample1.txt\", encoding = \"utf-8\")\n",
    "documents = loader.load()\n",
    "print(f\"📄 Load {len(documents)} document\")\n",
    "print(f\"Content preview {documents[0].page_content[:100]}\")\n",
    "print(f\"Metadata : {documents[0].metadata}\")"
   ]
  },
  {
   "cell_type": "markdown",
   "id": "da3eb42f-0f54-4fbe-80ec-d9cbe03e2d94",
   "metadata": {},
   "source": [
    "# DirectoryLoader - Multiple Text Files"
   ]
  },
  {
   "cell_type": "code",
   "execution_count": 16,
   "id": "bfd14391-036d-493e-a56c-62321e910aaf",
   "metadata": {},
   "outputs": [
    {
     "name": "stderr",
     "output_type": "stream",
     "text": [
      "100%|████████████████████████████████████████████████████████████████████████████████████| 2/2 [00:00<00:00, 979.29it/s]"
     ]
    },
    {
     "name": "stdout",
     "output_type": "stream",
     "text": [
      "Loaded 2 documents\n",
      "\n",
      " Document 1\n",
      "  Sourse: data\\text_files\\machine_learning.txt\n",
      "  Length: 571 characters\n",
      "\n",
      " Document 2\n",
      "  Sourse: data\\text_files\\sample1.txt\n",
      "  Length: 461 characters\n"
     ]
    },
    {
     "name": "stderr",
     "output_type": "stream",
     "text": [
      "\n"
     ]
    }
   ],
   "source": [
    "from langchain_community.document_loaders import DirectoryLoader\n",
    "\n",
    "## Load all the text files from the directory\n",
    "\n",
    "dir_load = DirectoryLoader(\n",
    "    \"data/text_files\",\n",
    "    glob = \"**/*.txt\",\n",
    "    loader_cls = TextLoader,# load class to use\n",
    "    loader_kwargs = {'encoding': \"utf-8\"},\n",
    "    show_progress=True\n",
    ")\n",
    "\n",
    "docm = dir_load.load()\n",
    "print(f\"Loaded {len(docm)} documents\")\n",
    "for i, doc in enumerate(docm):\n",
    "    print(f\"\\n Document {i+1}\")\n",
    "    print(f\"  Sourse: {doc.metadata[\"source\"]}\")\n",
    "    print(f\"  Length: {len(doc.page_content)} characters\")\n",
    "    "
   ]
  },
  {
   "cell_type": "markdown",
   "id": "b1aff19c-040f-4858-adc4-7fff3ffbdc46",
   "metadata": {},
   "source": [
    "# 📊 Analysis\n",
    "print(\"\\n📊 DirectoryLoader Characteristics:\")\n",
    "print(\"✅ Advantages:\")\n",
    "print(\"  - Loads multiple files at once\")\n",
    "print(\"  - Supports glob patterns\")\n",
    "print(\"  - Progress tracking\")\n",
    "print(\"  - Recursive directory scanning\")\n",
    "\n",
    "print(\"\\n❌ Disadvantages:\")\n",
    "print(\"  - All files must be same type\")\n",
    "print(\"  - Limited error handling per file\")\n",
    "print(\"  - Can be memory intensive for large directories\")"
   ]
  },
  {
   "cell_type": "markdown",
   "id": "4ba4ec6d-0a00-44c0-8301-fbd7f4ec5802",
   "metadata": {},
   "source": [
    "## Text Splitting Statergies"
   ]
  },
  {
   "cell_type": "code",
   "execution_count": 23,
   "id": "7ae364d6-f9df-4e95-9b08-544e619434c1",
   "metadata": {},
   "outputs": [],
   "source": [
    "## Different text splitter strategies\n",
    "\n",
    "from langchain.text_splitter import (\n",
    "    CharacterTextSplitter,\n",
    "    RecursiveCharacterTextSplitter,\n",
    "    TokenTextSplitter\n",
    ")"
   ]
  },
  {
   "cell_type": "code",
   "execution_count": 25,
   "id": "1ac6b718-cd9c-4f8b-8d87-5d03a7ffaca4",
   "metadata": {},
   "outputs": [
    {
     "data": {
      "text/plain": [
       "[Document(metadata={'source': 'data\\\\text_files\\\\machine_learning.txt'}, page_content='Machine Learning Basics\\n\\nMachine learning is a subset of artificial intelligence that enables systems to learn and improve\\nfrom experience without being explicitly programmed. It focuses on developing computer programs\\nthat can access data and use it to learn for themselves.\\n\\nTypes of Machine Learning:\\n1. Supervised Learning: Learning with labeled data\\n2. Unsupervised Learning: Finding patterns in unlabeled data\\n3. Reinforcement Learning: Learning through rewards and penalties\\n\\nApplications include image recognition, speech processing, and recommendation systems\\n\\n\\n'),\n",
       " Document(metadata={'source': 'data\\\\text_files\\\\sample1.txt'}, page_content='\\n    Python is a high-level, interpreted programming language known for its simplicity and readability.\\nCreated by Guido van Rossum and first released in 1991, Python has become one of the most popular\\nprogramming languages in the world.\\n\\nKey Features:\\n- Easy to learn and use\\n- Extensive standard library\\n- Cross-platform compatibility\\n- Strong community support\\n\\nPython is widely used in web development, data science, artificial intelligence, and automation.')]"
      ]
     },
     "execution_count": 25,
     "metadata": {},
     "output_type": "execute_result"
    }
   ],
   "source": [
    "docm"
   ]
  },
  {
   "cell_type": "markdown",
   "id": "78c8c2ed-9dd8-4f25-94c8-ba6e3b18d3a6",
   "metadata": {},
   "source": [
    "## Method 1 - Character Text Splitter"
   ]
  },
  {
   "cell_type": "code",
   "execution_count": 27,
   "id": "d6af597a-c551-413b-865e-b0aaca91cdeb",
   "metadata": {},
   "outputs": [
    {
     "data": {
      "text/plain": [
       "'Machine Learning Basics\\n\\nMachine learning is a subset of artificial intelligence that enables systems to learn and improve\\nfrom experience without being explicitly programmed. It focuses on developing computer programs\\nthat can access data and use it to learn for themselves.\\n\\nTypes of Machine Learning:\\n1. Supervised Learning: Learning with labeled data\\n2. Unsupervised Learning: Finding patterns in unlabeled data\\n3. Reinforcement Learning: Learning through rewards and penalties\\n\\nApplications include image recognition, speech processing, and recommendation systems\\n\\n\\n'"
      ]
     },
     "execution_count": 27,
     "metadata": {},
     "output_type": "execute_result"
    }
   ],
   "source": [
    "text = docm[0].page_content\n",
    "text"
   ]
  },
  {
   "cell_type": "code",
   "execution_count": 62,
   "id": "98035092-11c5-4849-a872-3d0f21c38a72",
   "metadata": {},
   "outputs": [
    {
     "name": "stdout",
     "output_type": "stream",
     "text": [
      " Create 3 chunks\n",
      "First chunk : Machine Learning Basics\n",
      "\n",
      "Machine learning is a subset of artificial intelligence that enables systems to learn and improve\n",
      "from experience without being explicitly programmed. It focuses on developing\n",
      "-------------------------------\n",
      "Second chunk : on developing computer programs\n",
      "that can access data and use it to learn for themselves.\n",
      "\n",
      "Types of Machine Learning:\n",
      "1. Supervised Learning: Learning with labeled data\n",
      "2. Unsupervised Learning:\n",
      "-------------------------------\n",
      "Third chunk : Learning: Finding patterns in unlabeled data\n",
      "3. Reinforcement Learning: Learning through rewards and penalties\n",
      "\n",
      "Applications include image recognition, speech processing, and recommendation systems\n"
     ]
    }
   ],
   "source": [
    "character_text_splitter = CharacterTextSplitter(\n",
    "    separator=\" \",\n",
    "    chunk_size = 200,\n",
    "    chunk_overlap = 20,      # overlab between chunks\n",
    "    length_function = len\n",
    ")\n",
    "\n",
    "char_doc = character_text_splitter.split_text(text)\n",
    "print(f\" Create {len(char_doc)} chunks\")\n",
    "print(f\"First chunk : {char_doc[0][:200]}\")\n",
    "print(f\"-------------------------------\")\n",
    "print(f\"Second chunk : {char_doc[1][:200]}\")\n",
    "print(f\"-------------------------------\")\n",
    "print(f\"Third chunk : {char_doc[2][:200]}\")\n",
    "\n"
   ]
  },
  {
   "cell_type": "markdown",
   "id": "1e8a751d-3882-48f8-9596-a743a83a12ff",
   "metadata": {},
   "source": [
    "# Method 2:  Recursive Character TextSplitter"
   ]
  },
  {
   "cell_type": "code",
   "execution_count": 70,
   "id": "add53c19-317a-4951-812d-3ecbb1fabb2a",
   "metadata": {},
   "outputs": [
    {
     "name": "stdout",
     "output_type": "stream",
     "text": [
      "Create 4 chunks\n",
      "First chunk : Machine Learning Basics\n",
      "\n",
      "Machine learning is a subset of artificial intelligence that enables systems to learn and improve\n",
      "from experience without being explicitly programmed. It focuses on developing\n",
      "-------------------------------\n",
      "Second chunk : on developing computer programs\n",
      "that can access data and use it to learn for themselves.\n",
      "\n",
      "Types of Machine Learning:\n",
      "1. Supervised Learning: Learning with labeled data\n",
      "2. Unsupervised Learning:\n",
      "-------------------------------\n",
      "Third chunk : Learning: Finding patterns in unlabeled data\n",
      "3. Reinforcement Learning: Learning through rewards and penalties\n",
      "\n",
      "Applications include image recognition, speech processing, and recommendation\n"
     ]
    }
   ],
   "source": [
    "recursive_splitter = RecursiveCharacterTextSplitter(\n",
    "    separators= [\" \"],\n",
    "    chunk_size = 200,\n",
    "    chunk_overlap = 20,\n",
    "    length_function = len\n",
    ")\n",
    "\n",
    "recurv_splitter = recursive_splitter.split_text(text)\n",
    "\n",
    "\n",
    "print(f\"Create {len(recurv_splitter)} chunks\")\n",
    "print(f\"First chunk : {recurv_splitter[0][:200]}\")\n",
    "print(f\"-------------------------------\")\n",
    "print(f\"Second chunk : {recurv_splitter[1][:200]}\")\n",
    "print(f\"-------------------------------\")\n",
    "print(f\"Third chunk : {recurv_splitter[2][:200]}\")"
   ]
  },
  {
   "cell_type": "code",
   "execution_count": 90,
   "id": "73eaab22-9555-44d3-ac7f-db41d9c54552",
   "metadata": {},
   "outputs": [
    {
     "name": "stdout",
     "output_type": "stream",
     "text": [
      "\n",
      " Simple text example - 4, chunks \n",
      "\n",
      "Chunkl 1: This is sentence one and it is quite long. This is sentence two and it is also\n",
      "Chunkl 2: two and it is also quite long. This is sentence three which is even longer than\n",
      "--\n",
      "Chunkl 2: two and it is also quite long. This is sentence three which is even longer than\n",
      "Chunkl 3: is even longer than the others. This is sentence four. This is sentence five.\n",
      "--\n",
      "Chunkl 3: is even longer than the others. This is sentence four. This is sentence five.\n",
      "Chunkl 4: is sentence five. This is sentence six.\n",
      "--\n"
     ]
    }
   ],
   "source": [
    "# Create text without a natural break point\n",
    "simple_text = \"This is sentence one and it is quite long. This is sentence two and it is also quite long. This is sentence three which is even longer than the others. This is sentence four. This is sentence five. This is sentence six.\"\n",
    "\n",
    "splitter = RecursiveCharacterTextSplitter(\n",
    "    separators= [\" \"],\n",
    "    chunk_size = 80,\n",
    "    chunk_overlap = 20,\n",
    "    length_function = len\n",
    ")\n",
    "\n",
    "chunks = splitter.split_text(simple_text)\n",
    "\n",
    "print(f\"\\n Simple text example - {len(chunks)}, chunks \\n\")\n",
    "for i in range(len(chunks)-1):\n",
    "    print(f\"Chunkl {i+1}: {chunks[i]}\")\n",
    "    print(f\"Chunkl {i+2}: {chunks[i+1]}\")\n",
    "\n",
    "    print(\"--\")\n",
    "   \n",
    "    \n",
    "    \n"
   ]
  },
  {
   "cell_type": "markdown",
   "id": "79710a05-45c3-43f1-968e-aa7cbcb12101",
   "metadata": {},
   "source": [
    "## Method 3: Token text splitter"
   ]
  },
  {
   "cell_type": "code",
   "execution_count": 94,
   "id": "9f510a86-dd0f-43e8-8ddf-ed4528f34c4e",
   "metadata": {},
   "outputs": [
    {
     "name": "stdout",
     "output_type": "stream",
     "text": [
      "Create 3 chunks\n",
      "First chunk: Machine Learning Basics\n",
      "\n",
      "Machine learning is a subset of artificial intelligence that enables systems to learn and improve\n",
      "from experience without being explicitly programmed. It focuses on developing computer programs\n",
      "that can access data and use it to learn for themselves.\n",
      "\n",
      "Types\n"
     ]
    }
   ],
   "source": [
    "token_splitter  = TokenTextSplitter(\n",
    "    chunk_size = 50,\n",
    "    chunk_overlap = 10\n",
    ")\n",
    "\n",
    "token_chunks = token_splitter.split_text(text)\n",
    "print(f\"Create {len(token_chunks)} chunks\")\n",
    "print(f\"First chunk: {token_chunks[0][:1000]}\")"
   ]
  },
  {
   "cell_type": "code",
   "execution_count": 96,
   "id": "68955cf9-58dc-4ba0-86b2-9f63b3e5104d",
   "metadata": {},
   "outputs": [
    {
     "name": "stdout",
     "output_type": "stream",
     "text": [
      "First chunk : Machine Learning Basics\n",
      "\n",
      "Machine learning is a subset of artificial intelligence that enables systems to learn and improve\n",
      "from experience without being explicitly programmed. It focuses on developing\n",
      "-------------------------------\n",
      "Second chunk :  use it to learn for themselves.\n",
      "\n",
      "Types of Machine Learning:\n",
      "1. Supervised Learning: Learning with labeled data\n",
      "2. Unsupervised Learning: Finding patterns in unlabeled data\n",
      "3. Reinforcement Learning: \n",
      "-------------------------------\n",
      "Third chunk : \n",
      "3. Reinforcement Learning: Learning through rewards and penalties\n",
      "\n",
      "Applications include image recognition, speech processing, and recommendation systems\n",
      "\n",
      "\n",
      "\n"
     ]
    }
   ],
   "source": [
    "print(f\"First chunk : {token_chunks[0][:200]}\")\n",
    "print(f\"-------------------------------\")\n",
    "print(f\"Second chunk : {token_chunks[1][:200]}\")\n",
    "print(f\"-------------------------------\")\n",
    "print(f\"Third chunk : {token_chunks[2][:200]}\")"
   ]
  },
  {
   "cell_type": "raw",
   "id": "0a77b08c-3730-4526-a058-53f8960ab669",
   "metadata": {},
   "source": [
    "# 📊 Comparison\n",
    "print(\"\\n📊 Text Splitting Methods Comparison:\")\n",
    "print(\"\\nCharacterTextSplitter:\")\n",
    "print(\"  ✅ Simple and predictable\")\n",
    "print(\"  ✅ Good for structured text\")\n",
    "print(\"  ❌ May break mid-sentence\")\n",
    "print(\"  Use when: Text has clear delimiters\")\n",
    "\n",
    "print(\"\\nRecursiveCharacterTextSplitter:\")\n",
    "print(\"  ✅ Respects text structure\")\n",
    "print(\"  ✅ Tries multiple separators\")\n",
    "print(\"  ✅ Best general-purpose splitter\")\n",
    "print(\"  ❌ Slightly more complex\")\n",
    "print(\"  Use when: Default choice for most texts\")\n",
    "\n",
    "print(\"\\nTokenTextSplitter:\")\n",
    "print(\"  ✅ Respects model token limits\")\n",
    "print(\"  ✅ More accurate for embeddings\")\n",
    "print(\"  ❌ Slower than character-based\")\n",
    "print(\"  Use when: Working with token-limited models\")"
   ]
  },
  {
   "cell_type": "code",
   "execution_count": null,
   "id": "b4505ec3-1b84-4487-8eef-c32d08d8e562",
   "metadata": {},
   "outputs": [],
   "source": []
  }
 ],
 "metadata": {
  "kernelspec": {
   "display_name": "Python (venv)",
   "language": "python",
   "name": "uv-env"
  },
  "language_info": {
   "codemirror_mode": {
    "name": "ipython",
    "version": 3
   },
   "file_extension": ".py",
   "mimetype": "text/x-python",
   "name": "python",
   "nbconvert_exporter": "python",
   "pygments_lexer": "ipython3",
   "version": "3.12.3"
  }
 },
 "nbformat": 4,
 "nbformat_minor": 5
}
