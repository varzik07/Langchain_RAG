{
 "cells": [
  {
   "cell_type": "markdown",
   "id": "69bd0fbc-34d2-405d-9cb3-cc28de54c6a8",
   "metadata": {},
   "source": [
    "## Json  parsing and Processing"
   ]
  },
  {
   "cell_type": "code",
   "execution_count": 2,
   "id": "d112da1c-fda1-487b-b45d-f2145a40762e",
   "metadata": {},
   "outputs": [],
   "source": [
    "import json\n",
    "import os\n",
    "os.makedirs(\"data/json_file\", exist_ok= True)"
   ]
  },
  {
   "cell_type": "code",
   "execution_count": 4,
   "id": "7bbb4350-2ea7-4b42-984f-3ac57c7bd45f",
   "metadata": {},
   "outputs": [],
   "source": [
    "# Sample nested JSON data\n",
    "json_data = {\n",
    "    \"company\": \"TechCorp\",\n",
    "    \"employees\": [\n",
    "        {\n",
    "            \"id\": 1,\n",
    "            \"name\": \"John Doe\",\n",
    "            \"role\": \"Software Engineer\",\n",
    "            \"skills\": [\"Python\", \"JavaScript\", \"React\"],\n",
    "            \"projects\": [\n",
    "                {\"name\": \"RAG System\", \"status\": \"In Progress\"},\n",
    "                {\"name\": \"Data Pipeline\", \"status\": \"Completed\"}\n",
    "            ]\n",
    "        },\n",
    "        {\n",
    "            \"id\": 2,\n",
    "            \"name\": \"Jane Smith\",\n",
    "            \"role\": \"Data Scientist\",\n",
    "            \"skills\": [\"Python\", \"Machine Learning\", \"SQL\"],\n",
    "            \"projects\": [\n",
    "                {\"name\": \"ML Model\", \"status\": \"In Progress\"},\n",
    "                {\"name\": \"Analytics Dashboard\", \"status\": \"Planning\"}\n",
    "            ]\n",
    "        }\n",
    "    ],\n",
    "    \"departments\": {\n",
    "        \"engineering\": {\n",
    "            \"head\": \"Mike Johnson\",\n",
    "            \"budget\": 1000000,\n",
    "            \"team_size\": 25\n",
    "        },\n",
    "        \"data_science\": {\n",
    "            \"head\": \"Sarah Williams\",\n",
    "            \"budget\": 750000,\n",
    "            \"team_size\": 15\n",
    "        }\n",
    "    }\n",
    "}"
   ]
  },
  {
   "cell_type": "code",
   "execution_count": 6,
   "id": "ea854747-7656-4f95-98c8-185c8ff9fa18",
   "metadata": {},
   "outputs": [
    {
     "data": {
      "text/plain": [
       "{'company': 'TechCorp',\n",
       " 'employees': [{'id': 1,\n",
       "   'name': 'John Doe',\n",
       "   'role': 'Software Engineer',\n",
       "   'skills': ['Python', 'JavaScript', 'React'],\n",
       "   'projects': [{'name': 'RAG System', 'status': 'In Progress'},\n",
       "    {'name': 'Data Pipeline', 'status': 'Completed'}]},\n",
       "  {'id': 2,\n",
       "   'name': 'Jane Smith',\n",
       "   'role': 'Data Scientist',\n",
       "   'skills': ['Python', 'Machine Learning', 'SQL'],\n",
       "   'projects': [{'name': 'ML Model', 'status': 'In Progress'},\n",
       "    {'name': 'Analytics Dashboard', 'status': 'Planning'}]}],\n",
       " 'departments': {'engineering': {'head': 'Mike Johnson',\n",
       "   'budget': 1000000,\n",
       "   'team_size': 25},\n",
       "  'data_science': {'head': 'Sarah Williams',\n",
       "   'budget': 750000,\n",
       "   'team_size': 15}}}"
      ]
     },
     "execution_count": 6,
     "metadata": {},
     "output_type": "execute_result"
    }
   ],
   "source": [
    "json_data"
   ]
  },
  {
   "cell_type": "code",
   "execution_count": 8,
   "id": "6499493d-7282-4b6f-a35e-942dcbf6db08",
   "metadata": {},
   "outputs": [],
   "source": [
    "with open (\"data/json_file/company_data.json\", 'w') as f:\n",
    "    json.dump(json_data, f, indent=2)"
   ]
  },
  {
   "cell_type": "code",
   "execution_count": 12,
   "id": "5c920856-17de-423b-bce4-ed6509600e0a",
   "metadata": {},
   "outputs": [],
   "source": [
    "# Save JSON Lines format\n",
    "jsonl_data = [\n",
    "    {\"timestamp\": \"2024-01-01\", \"event\": \"user_login\", \"user_id\": 123},\n",
    "    {\"timestamp\": \"2024-01-01\", \"event\": \"page_view\", \"user_id\": 123, \"page\": \"/home\"},\n",
    "    {\"timestamp\": \"2024-01-01\", \"event\": \"purchase\", \"user_id\": 123, \"amount\": 99.99}\n",
    "]\n",
    "\n",
    "with open (\"data/json_file/event.jsonl\", 'w') as f:\n",
    "    for item in jsonl_data:\n",
    "        f.write(json.dumps(item)+ '\\n')"
   ]
  },
  {
   "cell_type": "markdown",
   "id": "3e541000-2517-44c7-9bb3-d518bce0e410",
   "metadata": {},
   "source": [
    "## Json Processing Stratergies"
   ]
  },
  {
   "cell_type": "code",
   "execution_count": 27,
   "id": "3a63b942-6db0-4f4c-b0f8-7881d18bb9e8",
   "metadata": {},
   "outputs": [
    {
     "name": "stdout",
     "output_type": "stream",
     "text": [
      "Load 2 employee docements\n",
      " First employee: {\"id\": 1, \"name\": \"John Doe\", \"role\": \"Software Engineer\", \"skills\": [\"Python\", \"JavaScript\", \"React\"], \"projects\": [{\"name\": \"RAG System\", \"status\": \"In Progress\"}, {\"name\": \"Data Pipeline\", \"status\".....\n",
      "\n",
      "\n",
      "[Document(metadata={'source': 'C:\\\\Users\\\\oybek\\\\RAG_udemy\\\\dataParsing_1\\\\data\\\\json_file\\\\company_data.json', 'seq_num': 1}, page_content='{\"id\": 1, \"name\": \"John Doe\", \"role\": \"Software Engineer\", \"skills\": [\"Python\", \"JavaScript\", \"React\"], \"projects\": [{\"name\": \"RAG System\", \"status\": \"In Progress\"}, {\"name\": \"Data Pipeline\", \"status\": \"Completed\"}]}'), Document(metadata={'source': 'C:\\\\Users\\\\oybek\\\\RAG_udemy\\\\dataParsing_1\\\\data\\\\json_file\\\\company_data.json', 'seq_num': 2}, page_content='{\"id\": 2, \"name\": \"Jane Smith\", \"role\": \"Data Scientist\", \"skills\": [\"Python\", \"Machine Learning\", \"SQL\"], \"projects\": [{\"name\": \"ML Model\", \"status\": \"In Progress\"}, {\"name\": \"Analytics Dashboard\", \"status\": \"Planning\"}]}')]\n"
     ]
    }
   ],
   "source": [
    "from langchain_community.document_loaders import JSONLoader\n",
    "import json\n",
    "\n",
    "employee_load = JSONLoader(\n",
    "    file_path=\"data/json_file/company_data.json\",\n",
    "    jq_schema= '.employees[]',\n",
    "    text_content=False\n",
    ")\n",
    "\n",
    "em_docs = employee_load.load()\n",
    "print(f\"Load {len(em_docs)} employee docements\")\n",
    "print(f\" First employee: {em_docs[0].page_content[:200]}.....\")\n",
    "print(f\"\\n\\n{em_docs}\")\n"
   ]
  },
  {
   "cell_type": "code",
   "execution_count": 29,
   "id": "4fed2cdc-2362-419e-a699-65aef0799571",
   "metadata": {},
   "outputs": [],
   "source": [
    "# Method 2 \n",
    "\n",
    "from typing import List\n",
    "from langchain_core.documents import Document\n",
    "\n",
    "def process_json(filepath:str) -> List[Document]:\n",
    "    with open(filepath, \"r\") as f:\n",
    "        data = json.load(f)\n",
    "\n",
    "    documents = []\n",
    "    # Create  Documents for each employee with full context\n",
    "    for emp in data.get('employees', []):\n",
    "        content = f\"\"\" Employees Profile:\n",
    "        Name : {emp[\"name\"]},\n",
    "        Role : {emp[\"role\"]},\n",
    "        Skill : {', '.join(emp[\"skills\"])}\n",
    "        Projects:\n",
    "        \"\"\"\n",
    "        for proj in emp.get(\"projects\", []):\n",
    "            content += f\"\\n- {proj['name']} (Status: {proj['status']})\"\n",
    "         \n",
    "        doc = Document(\n",
    "            page_content=content,\n",
    "            metadata={\n",
    "                'source': filepath,\n",
    "                'data_type': 'employee_profile',\n",
    "                'employee_id': emp['id'],\n",
    "                'employee_name': emp['name'],\n",
    "                'role': emp['role']\n",
    "            }\n",
    "        )\n",
    "        documents.append(doc)\n",
    "    return documents\n",
    "            "
   ]
  },
  {
   "cell_type": "code",
   "execution_count": 31,
   "id": "40032931-788d-4a06-8803-df598224697f",
   "metadata": {},
   "outputs": [
    {
     "data": {
      "text/plain": [
       "[Document(metadata={'source': 'data/json_file/company_data.json', 'data_type': 'employee_profile', 'employee_id': 1, 'employee_name': 'John Doe', 'role': 'Software Engineer'}, page_content=' Employees Profile:\\n        Name : John Doe,\\n        Role : Software Engineer,\\n        Skill : Python, JavaScript, React\\n        Projects:\\n        \\n- RAG System (Status: In Progress)\\n- Data Pipeline (Status: Completed)'),\n",
       " Document(metadata={'source': 'data/json_file/company_data.json', 'data_type': 'employee_profile', 'employee_id': 2, 'employee_name': 'Jane Smith', 'role': 'Data Scientist'}, page_content=' Employees Profile:\\n        Name : Jane Smith,\\n        Role : Data Scientist,\\n        Skill : Python, Machine Learning, SQL\\n        Projects:\\n        \\n- ML Model (Status: In Progress)\\n- Analytics Dashboard (Status: Planning)')]"
      ]
     },
     "execution_count": 31,
     "metadata": {},
     "output_type": "execute_result"
    }
   ],
   "source": [
    "process_json(\"data/json_file/company_data.json\")"
   ]
  },
  {
   "cell_type": "code",
   "execution_count": null,
   "id": "292411bf-5334-4c92-9672-d6f45061fa71",
   "metadata": {},
   "outputs": [],
   "source": []
  }
 ],
 "metadata": {
  "kernelspec": {
   "display_name": "Python (venv)",
   "language": "python",
   "name": "uv-env"
  },
  "language_info": {
   "codemirror_mode": {
    "name": "ipython",
    "version": 3
   },
   "file_extension": ".py",
   "mimetype": "text/x-python",
   "name": "python",
   "nbconvert_exporter": "python",
   "pygments_lexer": "ipython3",
   "version": "3.12.3"
  }
 },
 "nbformat": 4,
 "nbformat_minor": 5
}
