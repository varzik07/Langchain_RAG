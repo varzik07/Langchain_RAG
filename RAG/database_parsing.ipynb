{
 "cells": [
  {
   "cell_type": "code",
   "execution_count": 1,
   "id": "e7dc8536-9cac-4ad2-b83a-9045b26b46e1",
   "metadata": {},
   "outputs": [],
   "source": [
    "import sqlite3\n",
    "import os\n",
    "os.makedirs(\"data/database\", exist_ok= True)"
   ]
  },
  {
   "cell_type": "code",
   "execution_count": 3,
   "id": "dea84fab-1189-4421-9817-a567417d8764",
   "metadata": {},
   "outputs": [],
   "source": [
    "conn  = sqlite3.connect(\"data/database/company.db\")\n",
    "cursor = conn.cursor()"
   ]
  },
  {
   "cell_type": "code",
   "execution_count": 7,
   "id": "3119f18e-7568-4035-a04d-978c031d3465",
   "metadata": {},
   "outputs": [
    {
     "data": {
      "text/plain": [
       "<sqlite3.Cursor at 0x24c8ed3ae40>"
      ]
     },
     "execution_count": 7,
     "metadata": {},
     "output_type": "execute_result"
    }
   ],
   "source": [
    "# Create tables\n",
    "cursor.execute(''' CREATE TABLE IF NOT EXISTS  employees\n",
    "                (id INTERGER PRIMARY KEY , name TEXT , role TEXT, department TEXT, salary REAL)''')\n"
   ]
  },
  {
   "cell_type": "code",
   "execution_count": 9,
   "id": "94124136-5314-4f53-8f03-4bf4ecb55044",
   "metadata": {},
   "outputs": [
    {
     "data": {
      "text/plain": [
       "<sqlite3.Cursor at 0x24c8ed3ae40>"
      ]
     },
     "execution_count": 9,
     "metadata": {},
     "output_type": "execute_result"
    }
   ],
   "source": [
    "cursor.execute('''CREATE TABLE IF NOT EXISTS projects\n",
    "                 (id INTEGER PRIMARY KEY, name TEXT, status TEXT, budget REAL, lead_id INTEGER)''')"
   ]
  },
  {
   "cell_type": "code",
   "execution_count": 11,
   "id": "cb20532b-f18f-445d-b178-f884a5627ce1",
   "metadata": {},
   "outputs": [],
   "source": [
    "# Insert sample data \n",
    "employees = [\n",
    "      (1, 'John Doe', 'Senior Developer', 'Engineering', 95000),\n",
    "    (2, 'Jane Smith', 'Data Scientist', 'Analytics', 105000),\n",
    "    (3, 'Mike Johnson', 'Product Manager', 'Product', 110000),\n",
    "    (4, 'Sarah Williams', 'DevOps Engineer', 'Engineering', 98000)\n",
    "]\n",
    "\n",
    "projects = [\n",
    "    (1, 'RAG Implementation', 'Active', 150000, 1),\n",
    "    (2, 'Data Pipeline', 'Completed', 80000, 2),\n",
    "    (3, 'Customer Portal', 'Planning', 200000, 3),\n",
    "    (4, 'ML Platform', 'Active', 250000, 2)\n",
    "]"
   ]
  },
  {
   "cell_type": "code",
   "execution_count": 13,
   "id": "eaa2a391-c3c3-49e1-8e37-538f07d5384d",
   "metadata": {},
   "outputs": [
    {
     "data": {
      "text/plain": [
       "<sqlite3.Cursor at 0x24c8ed3ae40>"
      ]
     },
     "execution_count": 13,
     "metadata": {},
     "output_type": "execute_result"
    }
   ],
   "source": [
    "cursor.executemany(\"insert or replace into employees values (?,?,?,?,?)\", employees)\n",
    "cursor.executemany(\"insert or replace into employees values (?,?,?,?,?)\", projects)\n"
   ]
  },
  {
   "cell_type": "code",
   "execution_count": 15,
   "id": "d9f7f71a-96bb-4b7c-94b6-58d1923262bd",
   "metadata": {},
   "outputs": [
    {
     "data": {
      "text/plain": [
       "<sqlite3.Cursor at 0x24c8ed3ae40>"
      ]
     },
     "execution_count": 15,
     "metadata": {},
     "output_type": "execute_result"
    }
   ],
   "source": [
    "cursor.execute(\"Select * from employees\")"
   ]
  },
  {
   "cell_type": "code",
   "execution_count": 17,
   "id": "923e08f3-e61d-469c-861e-f10ebe7f5224",
   "metadata": {},
   "outputs": [],
   "source": [
    "conn.commit()\n",
    "conn.close()\n"
   ]
  },
  {
   "cell_type": "markdown",
   "id": "45e2c418-c331-4914-bc7e-adfcecb5ba67",
   "metadata": {},
   "source": [
    "## Database Content Extraction"
   ]
  },
  {
   "cell_type": "code",
   "execution_count": 21,
   "id": "e70e6d9c-7f0c-4b71-88d5-10ff147579c0",
   "metadata": {},
   "outputs": [],
   "source": [
    "from langchain_community.utilities import SQLDatabase\n",
    "from langchain_community.document_loaders import SQLDatabaseLoader"
   ]
  },
  {
   "cell_type": "code",
   "execution_count": 25,
   "id": "36358199-da7c-48bf-ab8d-1e10c19d691d",
   "metadata": {},
   "outputs": [
    {
     "name": "stdout",
     "output_type": "stream",
     "text": [
      "Table : ['employees', 'projects']\n",
      "\n",
      "\n",
      "\n",
      "\n",
      "CREATE TABLE employees (\n",
      "\tid INTEGER, \n",
      "\tname TEXT, \n",
      "\trole TEXT, \n",
      "\tdepartment TEXT, \n",
      "\tsalary REAL, \n",
      "\tPRIMARY KEY (id)\n",
      ")\n",
      "\n",
      "/*\n",
      "3 rows from employees table:\n",
      "id\tname\trole\tdepartment\tsalary\n",
      "1\tRAG Implementation\tActive\t150000\t1.0\n",
      "2\tData Pipeline\tCompleted\t80000\t2.0\n",
      "3\tCustomer Portal\tPlanning\t200000\t3.0\n",
      "*/\n",
      "\n",
      "\n",
      "CREATE TABLE projects (\n",
      "\tid INTEGER, \n",
      "\tname TEXT, \n",
      "\tstatus TEXT, \n",
      "\tbudget REAL, \n",
      "\tlead_id INTEGER, \n",
      "\tPRIMARY KEY (id)\n",
      ")\n",
      "\n",
      "/*\n",
      "3 rows from projects table:\n",
      "id\tname\tstatus\tbudget\tlead_id\n",
      "\n",
      "*/\n"
     ]
    }
   ],
   "source": [
    "db = SQLDatabase.from_uri(\"sqlite:///data/database/company.db\")\n",
    "\n",
    "# Get Database info\n",
    "print(f\"Table : {db.get_usable_table_names()}\")\n",
    "print('\\n\\n')\n",
    "print(db.get_table_info())"
   ]
  },
  {
   "cell_type": "markdown",
   "id": "db1dd977-834a-4e23-81d6-17e348595f2d",
   "metadata": {},
   "source": [
    "## Create `SQL` to Documents conversion"
   ]
  },
  {
   "cell_type": "code",
   "execution_count": 38,
   "id": "c5ef4dc2-95e3-48a0-9ca7-c0922884ecb6",
   "metadata": {},
   "outputs": [],
   "source": [
    "from typing import List\n",
    "from langchain_core.documents import Document\n",
    "\n",
    "def sql2document(db_path:str)-> List[Document]:\n",
    "    conn = sqlite3.connect(db_path)\n",
    "    cursor = conn.cursor()\n",
    "    documents =[]\n",
    "    # Create Document for each table\n",
    "    cursor.execute(\"select name from sqlite_master where type = 'table';\")\n",
    "    tables = cursor.fetchall()\n",
    "\n",
    "    for table in tables:\n",
    "        table_name = table[0]\n",
    "\n",
    "        # get table schema\n",
    "        cursor.execute(f\"pragma table_info({table_name});\")\n",
    "        columns = cursor.fetchall()\n",
    "        column_names = [col[1] for col in columns]\n",
    "        # Get tanble data\n",
    "        cursor.execute(f\"select * from {table_name}\")\n",
    "        rows = cursor.fetchall()\n",
    "\n",
    "        # Create table overview document\n",
    "        table_content = f\"Table: {table_name}\\n\"\n",
    "        table_content += f\"Columns: {', '.join(column_names)}\\n\"\n",
    "        table_content += f\"Total Records: {len(rows)}\\n\\n\"\n",
    "\n",
    "        # Add sample records\n",
    "        table_content += \"Sample Records: \\n\"\n",
    "        for row in rows[:5]:\n",
    "            record = dict(zip(column_names, row))\n",
    "            table_content += f\"{record}\\n\"\n",
    "        \n",
    "        doc = Document(\n",
    "            page_content=table_content,\n",
    "            metadata = {\n",
    "                'source': db_path,\n",
    "                'table_name': table_name,\n",
    "                'num_records': len(rows),\n",
    "                'data_type': 'sql_table'\n",
    "            }\n",
    "        )\n",
    "        documents.append(doc)\n",
    "\n",
    "    ## Create relationship documents\n",
    "    cursor.execute(\"\"\"\n",
    "        SELECT e.name, e.role, p.name as project_name, p.status\n",
    "        FROM employees e\n",
    "        JOIN projects p ON e.id = p.lead_id\n",
    "        \n",
    "        \"\"\")\n",
    "    relationships= cursor.fetchall()\n",
    "    rel_content = \"Employee - Project Relationships:\\n\\n\"\n",
    "    for rel in relationships:\n",
    "        rel_content += f\"{rel[0]} ({rel[1]}) leads  {rel[2]} -Status: {rel[3]}\\n\"\n",
    "    rel_doc = Document(\n",
    "        page_content=rel_content,\n",
    "        metadata = {\n",
    "            'source': db_path,\n",
    "            'data_type': 'sql_relationships',\n",
    "            'query': 'employee_project_join'\n",
    "        }\n",
    "    )\n",
    "    documents.append(rel_doc)\n",
    "    conn.close()\n",
    "    return documents\n",
    "    "
   ]
  },
  {
   "cell_type": "code",
   "execution_count": 40,
   "id": "9519558e-4e1f-4282-b69c-a27cf5acf535",
   "metadata": {},
   "outputs": [
    {
     "data": {
      "text/plain": [
       "[Document(metadata={'source': 'data/database/company.db', 'table_name': 'employees', 'num_records': 4, 'data_type': 'sql_table'}, page_content=\"Table: employees\\nColumns: id, name, role, department, salary\\nTotal Records: 4\\n\\nSample Records: \\n{'id': 1, 'name': 'RAG Implementation', 'role': 'Active', 'department': '150000', 'salary': 1.0}\\n{'id': 2, 'name': 'Data Pipeline', 'role': 'Completed', 'department': '80000', 'salary': 2.0}\\n{'id': 3, 'name': 'Customer Portal', 'role': 'Planning', 'department': '200000', 'salary': 3.0}\\n{'id': 4, 'name': 'ML Platform', 'role': 'Active', 'department': '250000', 'salary': 2.0}\\n\"),\n",
       " Document(metadata={'source': 'data/database/company.db', 'table_name': 'projects', 'num_records': 0, 'data_type': 'sql_table'}, page_content='Table: projects\\nColumns: id, name, status, budget, lead_id\\nTotal Records: 0\\n\\nSample Records: \\n'),\n",
       " Document(metadata={'source': 'data/database/company.db', 'data_type': 'sql_relationships', 'query': 'employee_project_join'}, page_content='Employee - Project Relationships:\\n\\n')]"
      ]
     },
     "execution_count": 40,
     "metadata": {},
     "output_type": "execute_result"
    }
   ],
   "source": [
    "sql2document(\"data/database/company.db\")"
   ]
  },
  {
   "cell_type": "code",
   "execution_count": null,
   "id": "bb31d6f1-3665-4fe3-ac64-7cbeb0037057",
   "metadata": {},
   "outputs": [],
   "source": []
  }
 ],
 "metadata": {
  "kernelspec": {
   "display_name": "Python (venv)",
   "language": "python",
   "name": "uv-env"
  },
  "language_info": {
   "codemirror_mode": {
    "name": "ipython",
    "version": 3
   },
   "file_extension": ".py",
   "mimetype": "text/x-python",
   "name": "python",
   "nbconvert_exporter": "python",
   "pygments_lexer": "ipython3",
   "version": "3.12.3"
  }
 },
 "nbformat": 4,
 "nbformat_minor": 5
}
