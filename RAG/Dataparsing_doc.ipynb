{
 "cells": [
  {
   "cell_type": "markdown",
   "id": "8d06a18a-60cd-4dbb-9b3c-679eca7aa5a5",
   "metadata": {},
   "source": [
    "## Word Document Processing"
   ]
  },
  {
   "cell_type": "code",
   "execution_count": 2,
   "id": "53831a5b-b241-418b-a2b8-3926fa98e9a6",
   "metadata": {},
   "outputs": [],
   "source": [
    "from langchain_community.document_loaders import Docx2txtLoader, UnstructuredWordDocumentLoader"
   ]
  },
  {
   "cell_type": "markdown",
   "id": "b0cff31a-4c4f-423d-97d7-955e44806ffd",
   "metadata": {},
   "source": [
    "## Method 1 Docx2txtLoader"
   ]
  },
  {
   "cell_type": "code",
   "execution_count": 11,
   "id": "79d1c197-e0ee-4e5b-add2-d4645b61f9e3",
   "metadata": {},
   "outputs": [
    {
     "name": "stdout",
     "output_type": "stream",
     "text": [
      "❤️Loaded 1 documents\n",
      "Content preview: Project Proposal: RAG Implementation\n",
      "\n",
      "Executive Summary\n",
      "\n",
      "This proposal outlines the implementation of a Retrieval-Augmented Generation system for our organization.\n",
      "\n",
      "Objectives\n",
      "\n",
      "Key objectives include:\n",
      "\n",
      "• Improve information retrieval accuracy\n",
      "\n",
      "• Reduce response time for customer queries\n",
      "\n",
      "• Integrate\n",
      "Metadeta: {'source': 'data/word_file/proposal.docx'}\n"
     ]
    }
   ],
   "source": [
    "try:\n",
    "    docx_loader = Docx2txtLoader(\"data/word_file/proposal.docx\")\n",
    "    docx = docx_loader.load()\n",
    "    print(f\"❤️Loaded {len(docx)} documents\")\n",
    "    print(f\"Content preview: {docx[0].page_content[:300]}\")\n",
    "    print(f\"Metadeta: {docx[0].metadata}\")\n",
    "except Exception as e:\n",
    "    print(f\"Error {e}\")"
   ]
  },
  {
   "cell_type": "markdown",
   "id": "ed3c0f54-6a08-463a-aa94-839e9dc493cb",
   "metadata": {},
   "source": [
    "## Method 2 UnstructuredWordDocumentLoader"
   ]
  },
  {
   "cell_type": "code",
   "execution_count": 24,
   "id": "b709fc34-2787-4ba3-b4a4-f38c7d2d8d36",
   "metadata": {},
   "outputs": [
    {
     "name": "stdout",
     "output_type": "stream",
     "text": [
      "❤️Loaded 1 documents\n",
      "\n",
      "Element 1:\n",
      "Type: Title\n",
      "Content: Project Proposal: RAG Implementation...\n",
      "\n",
      "Element 2:\n",
      "Type: Title\n",
      "Content: Executive Summary...\n",
      "\n",
      "Element 3:\n",
      "Type: NarrativeText\n",
      "Content: This proposal outlines the implementation of a Retrieval-Augmented Generation system for our organiz...\n",
      "\n",
      "Element 4:\n",
      "Type: Title\n",
      "Content: Objectives...\n",
      "\n",
      "Element 5:\n",
      "Type: NarrativeText\n",
      "Content: Key objectives include:...\n",
      "\n",
      "Element 6:\n",
      "Type: ListItem\n",
      "Content: Improve information retrieval accuracy...\n",
      "\n",
      "Element 7:\n",
      "Type: ListItem\n",
      "Content: Reduce response time for customer queries...\n",
      "\n",
      "Element 8:\n",
      "Type: ListItem\n",
      "Content: Integrate with existing knowledge base...\n",
      "\n",
      "Element 9:\n",
      "Type: Title\n",
      "Content: Budget and Timeline...\n",
      "\n",
      "Element 10:\n",
      "Type: UncategorizedText\n",
      "Content: Budget: $50,000...\n",
      "\n",
      "Element 11:\n",
      "Type: UncategorizedText\n",
      "Content: Timeline: 3 months...\n",
      "\n",
      "Element 12:\n",
      "Type: UncategorizedText\n",
      "Content: Team: 4 developers, 1 project manager...\n",
      "\n",
      "Element 13:\n",
      "Type: Title\n",
      "Content: Technical Requirements...\n",
      "\n",
      "Element 14:\n",
      "Type: NarrativeText\n",
      "Content: Required technologies:...\n",
      "\n",
      "Element 15:\n",
      "Type: ListItem\n",
      "Content: Python 3.8+...\n",
      "\n",
      "Element 16:\n",
      "Type: ListItem\n",
      "Content: OpenAI API access...\n",
      "\n",
      "Element 17:\n",
      "Type: ListItem\n",
      "Content: Vector database (ChromaDB)...\n",
      "\n",
      "Element 18:\n",
      "Type: ListItem\n",
      "Content: 16GB RAM minimum...\n",
      "\n",
      "Element 19:\n",
      "Type: Title\n",
      "Content: Project Phases...\n",
      "\n",
      "Element 20:\n",
      "Type: Table\n",
      "Content: Phase Duration Deliverables Research 2 weeks Technology evaluation report Development 8 weeks Workin...\n"
     ]
    }
   ],
   "source": [
    "try:\n",
    "    unstructured_loader = UnstructuredWordDocumentLoader(\"data/word_file/proposal.docx\", mode='elements')\n",
    "    unst_docx = unstructured_loader.load()\n",
    "    print(f\"❤️Loaded {len(docx)} documents\")\n",
    "    for i, doc in enumerate(unst_docx):\n",
    "        print(f\"\\nElement {i+1}:\")\n",
    "        print(f\"Type: {doc.metadata.get('category', 'unknown')}\")\n",
    "        print(f\"Content: {doc.page_content[:100]}...\")\n",
    "except Exception as e:\n",
    "    print(f\"Error with {e}\")"
   ]
  },
  {
   "cell_type": "code",
   "execution_count": 26,
   "id": "c306d8b0-cc45-43b6-8274-932a8f9da8a1",
   "metadata": {},
   "outputs": [
    {
     "data": {
      "text/plain": [
       "[Document(metadata={'source': 'data/word_file/proposal.docx', 'category_depth': 0, 'file_directory': 'data/word_file', 'filename': 'proposal.docx', 'last_modified': '2025-09-14T13:15:01', 'languages': ['eng'], 'filetype': 'application/vnd.openxmlformats-officedocument.wordprocessingml.document', 'category': 'Title', 'element_id': 'c0f844859abf08d9506856b3aed4a719'}, page_content='Executive Summary'),\n",
       " Document(metadata={'source': 'data/word_file/proposal.docx', 'category_depth': 0, 'file_directory': 'data/word_file', 'filename': 'proposal.docx', 'last_modified': '2025-09-14T13:15:01', 'languages': ['eng'], 'filetype': 'application/vnd.openxmlformats-officedocument.wordprocessingml.document', 'parent_id': 'c0f844859abf08d9506856b3aed4a719', 'category': 'NarrativeText', 'element_id': 'bbc04fc71e33a92df30d7fe7c33b6375'}, page_content='This proposal outlines the implementation of a Retrieval-Augmented Generation system for our organization.'),\n",
       " Document(metadata={'source': 'data/word_file/proposal.docx', 'category_depth': 0, 'file_directory': 'data/word_file', 'filename': 'proposal.docx', 'last_modified': '2025-09-14T13:15:01', 'languages': ['eng'], 'filetype': 'application/vnd.openxmlformats-officedocument.wordprocessingml.document', 'category': 'Title', 'element_id': 'a2c8ca6c90e23196fcf4be625007bbd6'}, page_content='Objectives'),\n",
       " Document(metadata={'source': 'data/word_file/proposal.docx', 'category_depth': 0, 'file_directory': 'data/word_file', 'filename': 'proposal.docx', 'last_modified': '2025-09-14T13:15:01', 'languages': ['eng'], 'filetype': 'application/vnd.openxmlformats-officedocument.wordprocessingml.document', 'parent_id': 'a2c8ca6c90e23196fcf4be625007bbd6', 'category': 'NarrativeText', 'element_id': '335654d234a93f0eb1e1e6798c633eb7'}, page_content='Key objectives include:'),\n",
       " Document(metadata={'source': 'data/word_file/proposal.docx', 'category_depth': 0, 'file_directory': 'data/word_file', 'filename': 'proposal.docx', 'last_modified': '2025-09-14T13:15:01', 'languages': ['eng'], 'filetype': 'application/vnd.openxmlformats-officedocument.wordprocessingml.document', 'parent_id': 'a2c8ca6c90e23196fcf4be625007bbd6', 'category': 'ListItem', 'element_id': 'a62787f7e487c3715929cc34a512d2df'}, page_content='Improve information retrieval accuracy'),\n",
       " Document(metadata={'source': 'data/word_file/proposal.docx', 'category_depth': 0, 'file_directory': 'data/word_file', 'filename': 'proposal.docx', 'last_modified': '2025-09-14T13:15:01', 'languages': ['eng'], 'filetype': 'application/vnd.openxmlformats-officedocument.wordprocessingml.document', 'parent_id': 'a2c8ca6c90e23196fcf4be625007bbd6', 'category': 'ListItem', 'element_id': '7403c111f034d07762a2ea3f9e77fd55'}, page_content='Reduce response time for customer queries'),\n",
       " Document(metadata={'source': 'data/word_file/proposal.docx', 'category_depth': 0, 'file_directory': 'data/word_file', 'filename': 'proposal.docx', 'last_modified': '2025-09-14T13:15:01', 'languages': ['eng'], 'filetype': 'application/vnd.openxmlformats-officedocument.wordprocessingml.document', 'parent_id': 'a2c8ca6c90e23196fcf4be625007bbd6', 'category': 'ListItem', 'element_id': 'b7a32dbf801712e0cbb4301b40fc1332'}, page_content='Integrate with existing knowledge base'),\n",
       " Document(metadata={'source': 'data/word_file/proposal.docx', 'category_depth': 0, 'file_directory': 'data/word_file', 'filename': 'proposal.docx', 'last_modified': '2025-09-14T13:15:01', 'languages': ['eng'], 'filetype': 'application/vnd.openxmlformats-officedocument.wordprocessingml.document', 'category': 'Title', 'element_id': '03384feebdc9dbc6c3e66f42a31ae4d4'}, page_content='Budget and Timeline'),\n",
       " Document(metadata={'source': 'data/word_file/proposal.docx', 'category_depth': 0, 'file_directory': 'data/word_file', 'filename': 'proposal.docx', 'last_modified': '2025-09-14T13:15:01', 'languages': ['eng'], 'filetype': 'application/vnd.openxmlformats-officedocument.wordprocessingml.document', 'parent_id': '03384feebdc9dbc6c3e66f42a31ae4d4', 'category': 'UncategorizedText', 'element_id': '2b656c76dce795af739297289ec70cb4'}, page_content='Budget: $50,000')]"
      ]
     },
     "execution_count": 26,
     "metadata": {},
     "output_type": "execute_result"
    }
   ],
   "source": [
    "unst_docx[1:10]"
   ]
  },
  {
   "cell_type": "code",
   "execution_count": null,
   "id": "4b68818d-34ca-49d3-a8dd-8a4b06285a52",
   "metadata": {},
   "outputs": [],
   "source": []
  }
 ],
 "metadata": {
  "kernelspec": {
   "display_name": "Python (venv)",
   "language": "python",
   "name": "uv-env"
  },
  "language_info": {
   "codemirror_mode": {
    "name": "ipython",
    "version": 3
   },
   "file_extension": ".py",
   "mimetype": "text/x-python",
   "name": "python",
   "nbconvert_exporter": "python",
   "pygments_lexer": "ipython3",
   "version": "3.12.3"
  }
 },
 "nbformat": 4,
 "nbformat_minor": 5
}
