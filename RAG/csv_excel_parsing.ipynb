{
 "cells": [
  {
   "cell_type": "code",
   "execution_count": 1,
   "id": "47395551-220a-49b4-b27a-fe48a35eb35f",
   "metadata": {},
   "outputs": [],
   "source": [
    "import pandas as pd\n",
    "import os\n",
    "from langchain_community.document_loaders import CSVLoader, UnstructuredCSVLoader"
   ]
  },
  {
   "cell_type": "code",
   "execution_count": 3,
   "id": "c0da3a62-bffd-4cda-ae55-6f7416fd2341",
   "metadata": {},
   "outputs": [],
   "source": [
    "os.makedirs(\"data/structured_file\", exist_ok= True)"
   ]
  },
  {
   "cell_type": "code",
   "execution_count": 5,
   "id": "3a26340d-2119-479d-ae22-dc4970e4967b",
   "metadata": {},
   "outputs": [],
   "source": [
    "# Create sample data\n",
    "data = {\n",
    "    'Product': ['Laptop', 'Mouse', 'Keyboard', 'Monitor', 'Webcam'],\n",
    "    'Category': ['Electronics', 'Accessories', 'Accessories', 'Electronics', 'Electronics'],\n",
    "    'Price': [999.99, 29.99, 79.99, 299.99, 89.99],\n",
    "    'Stock': [50, 200, 150, 75, 100],\n",
    "    'Description': [\n",
    "        'High-performance laptop with 16GB RAM and 512GB SSD',\n",
    "        'Wireless optical mouse with ergonomic design',\n",
    "        'Mechanical keyboard with RGB backlighting',\n",
    "        '27-inch 4K monitor with HDR support',\n",
    "        '1080p webcam with noise cancellation'\n",
    "    ]\n",
    "}\n",
    "\n",
    "df = pd.DataFrame(data)\n",
    "df.to_csv(\"data/structured_file/products.csv\", index= False)"
   ]
  },
  {
   "cell_type": "markdown",
   "id": "1f69403c-43b4-4856-a905-df7cd5058660",
   "metadata": {},
   "source": [
    "# Save as Excel with multiple sheets"
   ]
  },
  {
   "cell_type": "code",
   "execution_count": 11,
   "id": "629f9be2-204a-4038-9006-9de183a5d291",
   "metadata": {},
   "outputs": [],
   "source": [
    "with pd.ExcelWriter(\"data/structured_file/inv.xlsx\") as w:\n",
    "    df.to_excel(w, sheet_name=\"products\", index= False)\n",
    "\n",
    "    # Add other sheet\n",
    "    summary_data ={\n",
    "        'Category': ['Electronics', 'Accessories'],\n",
    "        'Total_Items': [3, 2],\n",
    "        'Total_Value': [1389.97, 109.98]\n",
    "        \n",
    "    }\n",
    "    pd.DataFrame(summary_data).to_excel(w, sheet_name=\"Summary\", index = False)"
   ]
  },
  {
   "cell_type": "code",
   "execution_count": 25,
   "id": "0ff9419f-950a-4a2e-b774-d809f4df1187",
   "metadata": {},
   "outputs": [
    {
     "data": {
      "text/plain": [
       "'Product Category Price Stock Description Laptop Electronics 999.99 50 High-performance laptop with 16GB RAM and 512GB SSD Mouse Accessories 29.99 200 Wireless optical mouse with ergonomic design Keyboard Accessories 79.99 150 Mechanical keyboard with RGB backlighting Monitor Electronics 299.99 75 27-inch 4K monitor with HDR support Webcam Electronics 89.99 100 1080p webcam with noise cancellation\\n\\nCategory Total_Items Total_Value Electronics 3 1389.97 Accessories 2 109.98'"
      ]
     },
     "execution_count": 25,
     "metadata": {},
     "output_type": "execute_result"
    }
   ],
   "source": [
    "from langchain_community.document_loaders import UnstructuredExcelLoader\n",
    "data_excel = UnstructuredExcelLoader(\"data/structured_file/inv.xlsx\")\n",
    "data = data_excel.load()\n",
    "data[0].page_content"
   ]
  },
  {
   "cell_type": "markdown",
   "id": "ee31d3ac-f466-498e-84d0-d432796213a0",
   "metadata": {},
   "source": [
    "## CSV Processing"
   ]
  },
  {
   "cell_type": "code",
   "execution_count": 29,
   "id": "c35d3b85-c226-4f43-b8aa-711070c07467",
   "metadata": {},
   "outputs": [],
   "source": [
    "from langchain_community.document_loaders import CSVLoader, UnstructuredCSVLoader"
   ]
  },
  {
   "cell_type": "code",
   "execution_count": 45,
   "id": "44c976f9-e925-4298-8aa2-85e36efeb510",
   "metadata": {},
   "outputs": [
    {
     "name": "stdout",
     "output_type": "stream",
     "text": [
      "[Document(metadata={'source': 'data/structured_file/products.csv', 'row': 0}, page_content='Product: Laptop\\nCategory: Electronics\\nPrice: 999.99\\nStock: 50\\nDescription: High-performance laptop with 16GB RAM and 512GB SSD'), Document(metadata={'source': 'data/structured_file/products.csv', 'row': 1}, page_content='Product: Mouse\\nCategory: Accessories\\nPrice: 29.99\\nStock: 200\\nDescription: Wireless optical mouse with ergonomic design'), Document(metadata={'source': 'data/structured_file/products.csv', 'row': 2}, page_content='Product: Keyboard\\nCategory: Accessories\\nPrice: 79.99\\nStock: 150\\nDescription: Mechanical keyboard with RGB backlighting'), Document(metadata={'source': 'data/structured_file/products.csv', 'row': 3}, page_content='Product: Monitor\\nCategory: Electronics\\nPrice: 299.99\\nStock: 75\\nDescription: 27-inch 4K monitor with HDR support'), Document(metadata={'source': 'data/structured_file/products.csv', 'row': 4}, page_content='Product: Webcam\\nCategory: Electronics\\nPrice: 89.99\\nStock: 100\\nDescription: 1080p webcam with noise cancellation')]\n",
      "Loaded 5 documents (one per row)\n",
      "\n",
      "First document:\n",
      "Content: Product: Laptop\n",
      "Category: Electronics\n",
      "Price: 999.99\n",
      "Stock: 50\n",
      "Description: High-performance laptop with 16GB RAM and 512GB SSD\n",
      "Metadata: {'source': 'data/structured_file/products.csv', 'row': 0}\n"
     ]
    }
   ],
   "source": [
    "csv_loader = CSVLoader(\n",
    "    file_path=\"data/structured_file/products.csv\",\n",
    "    encoding='utf-8',\n",
    "    csv_args={\n",
    "        \"delimiter\": ',',\n",
    "        \"quotechar\": '\"'\n",
    "    }\n",
    ")\n",
    "\n",
    "csv_data= csv_loader.load()\n",
    "print(csv_data)\n",
    "\n",
    "print(f\"Loaded {len(csv_data)} documents (one per row)\")\n",
    "print(\"\\nFirst document:\")\n",
    "print(f\"Content: {csv_data[0].page_content}\")\n",
    "print(f\"Metadata: {csv_data[0].metadata}\")"
   ]
  },
  {
   "cell_type": "code",
   "execution_count": 57,
   "id": "c73ed192-b517-4d18-9266-0375486acc91",
   "metadata": {},
   "outputs": [],
   "source": [
    "from typing import List\n",
    "from langchain_core.documents import Document\n",
    "\n",
    "# Custom CSV processing for better control\n",
    "\n",
    "def process_csv(filepath: str) -> List[Document]:\n",
    "    df = pd.read_csv(filepath)\n",
    "    documents = []\n",
    "\n",
    "    for idx, row in df.iterrows():\n",
    "        # Create structured content\n",
    "        content = f\"\"\" Product Information:\n",
    "        Name: {row['Product']}\n",
    "        Category: {row['Category']}\n",
    "        Price: ${row['Price']}\n",
    "        Stock: {row['Stock']} units\n",
    "        Description: {row['Description']}\"\"\"\n",
    "\n",
    "        doc = Document(\n",
    "            page_content=content,\n",
    "            metadata = {\n",
    "                'source': filepath,\n",
    "                'row_index': idx,\n",
    "                'product_name': row['Product'],\n",
    "                'category': row['Category'],\n",
    "                'price': row['Price'],\n",
    "                'data_type': 'product_info'\n",
    "            }\n",
    "        )\n",
    "        documents.append(doc)\n",
    "    return documents"
   ]
  },
  {
   "cell_type": "code",
   "execution_count": 75,
   "id": "5971e399-82ba-4421-b746-d95a5936ca77",
   "metadata": {},
   "outputs": [
    {
     "data": {
      "text/plain": [
       "[Document(metadata={'source': 'data/structured_file/products.csv', 'row_index': 0, 'product_name': 'Laptop', 'category': 'Electronics', 'price': 999.99, 'data_type': 'product_info'}, page_content=' Product Information:\\n        Name: Laptop\\n        Category: Electronics\\n        Price: $999.99\\n        Stock: 50 units\\n        Description: High-performance laptop with 16GB RAM and 512GB SSD'),\n",
       " Document(metadata={'source': 'data/structured_file/products.csv', 'row_index': 1, 'product_name': 'Mouse', 'category': 'Accessories', 'price': 29.99, 'data_type': 'product_info'}, page_content=' Product Information:\\n        Name: Mouse\\n        Category: Accessories\\n        Price: $29.99\\n        Stock: 200 units\\n        Description: Wireless optical mouse with ergonomic design'),\n",
       " Document(metadata={'source': 'data/structured_file/products.csv', 'row_index': 2, 'product_name': 'Keyboard', 'category': 'Accessories', 'price': 79.99, 'data_type': 'product_info'}, page_content=' Product Information:\\n        Name: Keyboard\\n        Category: Accessories\\n        Price: $79.99\\n        Stock: 150 units\\n        Description: Mechanical keyboard with RGB backlighting'),\n",
       " Document(metadata={'source': 'data/structured_file/products.csv', 'row_index': 3, 'product_name': 'Monitor', 'category': 'Electronics', 'price': 299.99, 'data_type': 'product_info'}, page_content=' Product Information:\\n        Name: Monitor\\n        Category: Electronics\\n        Price: $299.99\\n        Stock: 75 units\\n        Description: 27-inch 4K monitor with HDR support'),\n",
       " Document(metadata={'source': 'data/structured_file/products.csv', 'row_index': 4, 'product_name': 'Webcam', 'category': 'Electronics', 'price': 89.99, 'data_type': 'product_info'}, page_content=' Product Information:\\n        Name: Webcam\\n        Category: Electronics\\n        Price: $89.99\\n        Stock: 100 units\\n        Description: 1080p webcam with noise cancellation')]"
      ]
     },
     "execution_count": 75,
     "metadata": {},
     "output_type": "execute_result"
    }
   ],
   "source": [
    "process_csv(\"data/structured_file/products.csv\")"
   ]
  },
  {
   "cell_type": "raw",
   "id": "26b7a433-abd0-4312-8ef1-c7624111e6fa",
   "metadata": {},
   "source": [
    "# 📊 CSV Processing Strategies\n",
    "print(\"\\n📊 CSV Processing Strategies:\")\n",
    "print(\"\\n1. Row-based (CSVLoader):\")\n",
    "print(\"  ✅ Simple one-row-one-document\")\n",
    "print(\"  ✅ Good for record lookups\")\n",
    "print(\"  ❌ Loses table context\")\n",
    "\n",
    "print(\"\\n2. Intelligent Processing:\")\n",
    "print(\"  ✅ Preserves relationships\")\n",
    "print(\"  ✅ Creates summaries\")\n",
    "print(\"  ✅ Rich metadata\")\n",
    "print(\"  ✅ Better for Q&A\")"
   ]
  },
  {
   "cell_type": "code",
   "execution_count": 61,
   "id": "2e46b138-e98e-4845-8bac-15884fdcfd9e",
   "metadata": {},
   "outputs": [
    {
     "data": {
      "text/html": [
       "<div>\n",
       "<style scoped>\n",
       "    .dataframe tbody tr th:only-of-type {\n",
       "        vertical-align: middle;\n",
       "    }\n",
       "\n",
       "    .dataframe tbody tr th {\n",
       "        vertical-align: top;\n",
       "    }\n",
       "\n",
       "    .dataframe thead th {\n",
       "        text-align: right;\n",
       "    }\n",
       "</style>\n",
       "<table border=\"1\" class=\"dataframe\">\n",
       "  <thead>\n",
       "    <tr style=\"text-align: right;\">\n",
       "      <th></th>\n",
       "      <th>Product</th>\n",
       "      <th>Category</th>\n",
       "      <th>Price</th>\n",
       "      <th>Stock</th>\n",
       "      <th>Description</th>\n",
       "    </tr>\n",
       "  </thead>\n",
       "  <tbody>\n",
       "    <tr>\n",
       "      <th>0</th>\n",
       "      <td>Laptop</td>\n",
       "      <td>Electronics</td>\n",
       "      <td>999.99</td>\n",
       "      <td>50</td>\n",
       "      <td>High-performance laptop with 16GB RAM and 512G...</td>\n",
       "    </tr>\n",
       "    <tr>\n",
       "      <th>1</th>\n",
       "      <td>Mouse</td>\n",
       "      <td>Accessories</td>\n",
       "      <td>29.99</td>\n",
       "      <td>200</td>\n",
       "      <td>Wireless optical mouse with ergonomic design</td>\n",
       "    </tr>\n",
       "    <tr>\n",
       "      <th>2</th>\n",
       "      <td>Keyboard</td>\n",
       "      <td>Accessories</td>\n",
       "      <td>79.99</td>\n",
       "      <td>150</td>\n",
       "      <td>Mechanical keyboard with RGB backlighting</td>\n",
       "    </tr>\n",
       "    <tr>\n",
       "      <th>3</th>\n",
       "      <td>Monitor</td>\n",
       "      <td>Electronics</td>\n",
       "      <td>299.99</td>\n",
       "      <td>75</td>\n",
       "      <td>27-inch 4K monitor with HDR support</td>\n",
       "    </tr>\n",
       "    <tr>\n",
       "      <th>4</th>\n",
       "      <td>Webcam</td>\n",
       "      <td>Electronics</td>\n",
       "      <td>89.99</td>\n",
       "      <td>100</td>\n",
       "      <td>1080p webcam with noise cancellation</td>\n",
       "    </tr>\n",
       "  </tbody>\n",
       "</table>\n",
       "</div>"
      ],
      "text/plain": [
       "    Product     Category   Price  Stock  \\\n",
       "0    Laptop  Electronics  999.99     50   \n",
       "1     Mouse  Accessories   29.99    200   \n",
       "2  Keyboard  Accessories   79.99    150   \n",
       "3   Monitor  Electronics  299.99     75   \n",
       "4    Webcam  Electronics   89.99    100   \n",
       "\n",
       "                                         Description  \n",
       "0  High-performance laptop with 16GB RAM and 512G...  \n",
       "1       Wireless optical mouse with ergonomic design  \n",
       "2          Mechanical keyboard with RGB backlighting  \n",
       "3                27-inch 4K monitor with HDR support  \n",
       "4               1080p webcam with noise cancellation  "
      ]
     },
     "execution_count": 61,
     "metadata": {},
     "output_type": "execute_result"
    }
   ],
   "source": [
    "data = pd.read_csv(\"data/structured_file/products.csv\")\n",
    "data"
   ]
  },
  {
   "cell_type": "code",
   "execution_count": 71,
   "id": "3f9a512a-ed6b-4c12-a968-02caee3bc324",
   "metadata": {},
   "outputs": [
    {
     "name": "stdout",
     "output_type": "stream",
     "text": [
      "999.99\n",
      "29.99\n",
      "79.99\n",
      "299.99\n",
      "89.99\n"
     ]
    }
   ],
   "source": [
    "for idx, row in data.iterrows():\n",
    "    print(row[\"Price\"])\n",
    "    "
   ]
  },
  {
   "cell_type": "markdown",
   "id": "9bd8161a-edbe-48bd-a236-20dc5a83c5e2",
   "metadata": {},
   "source": [
    "## Excel Processing"
   ]
  },
  {
   "cell_type": "code",
   "execution_count": 92,
   "id": "db777ef5-dea2-4fdf-9daf-a6b2bf6c6639",
   "metadata": {},
   "outputs": [],
   "source": [
    "# Method 1 Usng pandas for full control\n",
    "def process_ecxel(filepath:str) -> List[Document]:\n",
    "    documents = []\n",
    "    ecxel_file = pd.ExcelFile(filepath)\n",
    "\n",
    "    for sheet_name in ecxel_file.sheet_names:\n",
    "        df = pd.read_excel(filepath, sheet_name = sheet_name)\n",
    "\n",
    "        # Create document for each sheet\n",
    "        sheet_content = f\"Sheet :{sheet_name}\\n\"\n",
    "        sheet_content +=f\"Column: {', '.join(df.columns)}\\n\"\n",
    "        sheet_content += f\"Rows: {len(df)}\\n\\n\"\n",
    "        sheet_content +=df.to_string(index=False)\n",
    "\n",
    "        doc = Document(\n",
    "            page_content=sheet_content,\n",
    "            metadata={\n",
    "                'source': filepath,\n",
    "                'sheet_name': sheet_name,\n",
    "                'num_rows': len(df),\n",
    "                'num_columns': len(df.columns),\n",
    "                'data_type': 'excel_sheet'\n",
    "                \n",
    "            }\n",
    "        )\n",
    "        documents.append(doc)\n",
    "    return documents"
   ]
  },
  {
   "cell_type": "code",
   "execution_count": 94,
   "id": "aa7faa31-27fd-45ef-a9f3-5f483fa1d21c",
   "metadata": {},
   "outputs": [
    {
     "name": "stdout",
     "output_type": "stream",
     "text": [
      "[Document(metadata={'source': 'data/structured_file/inv.xlsx', 'sheet_name': 'products', 'num_rows': 5, 'num_columns': 5, 'data_type': 'excel_sheet'}, page_content='Sheet :products\\nColumn: Product, Category, Price, Stock, Description\\nRows: 5\\n\\n Product    Category  Price  Stock                                         Description\\n  Laptop Electronics 999.99     50 High-performance laptop with 16GB RAM and 512GB SSD\\n   Mouse Accessories  29.99    200        Wireless optical mouse with ergonomic design\\nKeyboard Accessories  79.99    150           Mechanical keyboard with RGB backlighting\\n Monitor Electronics 299.99     75                 27-inch 4K monitor with HDR support\\n  Webcam Electronics  89.99    100                1080p webcam with noise cancellation'), Document(metadata={'source': 'data/structured_file/inv.xlsx', 'sheet_name': 'Summary', 'num_rows': 2, 'num_columns': 3, 'data_type': 'excel_sheet'}, page_content='Sheet :Summary\\nColumn: Category, Total_Items, Total_Value\\nRows: 2\\n\\n   Category  Total_Items  Total_Value\\nElectronics            3      1389.97\\nAccessories            2       109.98')]\n"
     ]
    }
   ],
   "source": [
    "excel_data= process_ecxel(\"data/structured_file/inv.xlsx\")\n",
    "print(excel_data)"
   ]
  },
  {
   "cell_type": "code",
   "execution_count": 96,
   "id": "ed0bee49-bd5d-4316-9e5b-8d8e57da43d8",
   "metadata": {},
   "outputs": [],
   "source": [
    "from langchain_community.document_loaders import UnstructuredExcelLoader\n",
    "\n",
    "try:\n",
    "    excel_data = UnstructuredExcelLoader(\n",
    "        \"data/structured_file/inv.xlsx\",\n",
    "        mode = \"elements\"\n",
    "    )\n",
    "    unstructured_data = excel_data.load()\n",
    "except Exception as a:\n",
    "    print(f\"Error : {a}\")"
   ]
  },
  {
   "cell_type": "code",
   "execution_count": 98,
   "id": "e659f98a-66c4-4a93-9309-821b07fa2f41",
   "metadata": {},
   "outputs": [
    {
     "data": {
      "text/plain": [
       "[Document(metadata={'source': 'data/structured_file/inv.xlsx', 'file_directory': 'data/structured_file', 'filename': 'inv.xlsx', 'last_modified': '2025-09-18T17:00:07', 'page_name': 'products', 'page_number': 1, 'text_as_html': '<table><tr><td>Product</td><td>Category</td><td>Price</td><td>Stock</td><td>Description</td></tr><tr><td>Laptop</td><td>Electronics</td><td>999.99</td><td>50</td><td>High-performance laptop with 16GB RAM and 512GB SSD</td></tr><tr><td>Mouse</td><td>Accessories</td><td>29.99</td><td>200</td><td>Wireless optical mouse with ergonomic design</td></tr><tr><td>Keyboard</td><td>Accessories</td><td>79.99</td><td>150</td><td>Mechanical keyboard with RGB backlighting</td></tr><tr><td>Monitor</td><td>Electronics</td><td>299.99</td><td>75</td><td>27-inch 4K monitor with HDR support</td></tr><tr><td>Webcam</td><td>Electronics</td><td>89.99</td><td>100</td><td>1080p webcam with noise cancellation</td></tr></table>', 'languages': ['eng'], 'filetype': 'application/vnd.openxmlformats-officedocument.spreadsheetml.sheet', 'category': 'Table', 'element_id': '2ac1a54d8cdde729905a18b8c990f7d3'}, page_content='Product Category Price Stock Description Laptop Electronics 999.99 50 High-performance laptop with 16GB RAM and 512GB SSD Mouse Accessories 29.99 200 Wireless optical mouse with ergonomic design Keyboard Accessories 79.99 150 Mechanical keyboard with RGB backlighting Monitor Electronics 299.99 75 27-inch 4K monitor with HDR support Webcam Electronics 89.99 100 1080p webcam with noise cancellation'),\n",
       " Document(metadata={'source': 'data/structured_file/inv.xlsx', 'file_directory': 'data/structured_file', 'filename': 'inv.xlsx', 'last_modified': '2025-09-18T17:00:07', 'page_name': 'Summary', 'page_number': 2, 'text_as_html': '<table><tr><td>Category</td><td>Total_Items</td><td>Total_Value</td></tr><tr><td>Electronics</td><td>3</td><td>1389.97</td></tr><tr><td>Accessories</td><td>2</td><td>109.98</td></tr></table>', 'languages': ['eng'], 'filetype': 'application/vnd.openxmlformats-officedocument.spreadsheetml.sheet', 'category': 'Table', 'element_id': '17d730d095a375f12c3a803410611df2'}, page_content='Category Total_Items Total_Value Electronics 3 1389.97 Accessories 2 109.98')]"
      ]
     },
     "execution_count": 98,
     "metadata": {},
     "output_type": "execute_result"
    }
   ],
   "source": [
    "unstructured_data"
   ]
  },
  {
   "cell_type": "code",
   "execution_count": null,
   "id": "9ff0de66-c2aa-42ed-b7a6-e431364811e7",
   "metadata": {},
   "outputs": [],
   "source": []
  }
 ],
 "metadata": {
  "kernelspec": {
   "display_name": "Python (venv)",
   "language": "python",
   "name": "uv-env"
  },
  "language_info": {
   "codemirror_mode": {
    "name": "ipython",
    "version": 3
   },
   "file_extension": ".py",
   "mimetype": "text/x-python",
   "name": "python",
   "nbconvert_exporter": "python",
   "pygments_lexer": "ipython3",
   "version": "3.12.3"
  }
 },
 "nbformat": 4,
 "nbformat_minor": 5
}
